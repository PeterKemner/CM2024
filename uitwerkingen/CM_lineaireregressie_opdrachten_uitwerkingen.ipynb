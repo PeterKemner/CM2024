{
 "cells": [
  {
   "cell_type": "markdown",
   "id": "3118654e-051d-4bd3-9817-a500827e9f40",
   "metadata": {},
   "source": [
    "# Lineaire regressie - opdrachten"
   ]
  },
  {
   "cell_type": "markdown",
   "id": "b16ed498-8c88-4342-b8a1-aa4762905d95",
   "metadata": {},
   "source": [
    "In dit notebook vind je 2 opdrachten over lineaire regressie. \n",
    "\n",
    "- <a href = \"#linreg_opdracht1\"> Opdracht 1 </a> bestaat uit 2 oefeningen die je maakt ter voorbereiding van het college.\n",
    "- <a href = \"#linreg_opdracht2\"> Opdracht 2 </a> bestaat uit 6 stappen en die maak je tijdens het college."
   ]
  },
  {
   "cell_type": "markdown",
   "id": "64e8489a-ae15-4f62-ab45-f408878d502c",
   "metadata": {},
   "source": [
    "<a id=\"linreg_opdracht1\"></a>\n",
    "## Opdracht 1"
   ]
  },
  {
   "cell_type": "code",
   "execution_count": 1,
   "id": "45ffd166-960f-4acf-8e46-933ce1aad6cc",
   "metadata": {},
   "outputs": [],
   "source": [
    "import numpy as np\n",
    "import pandas as pd\n",
    "import matplotlib.pyplot as plt\n",
    "import matplotlib.patches as patches\n",
    "import seaborn as sns\n",
    "from sklearn.model_selection import train_test_split\n",
    "from sklearn.linear_model import LinearRegression\n",
    "from sklearn.metrics import mean_squared_error\n",
    "from sklearn.metrics import r2_score"
   ]
  },
  {
   "cell_type": "code",
   "execution_count": 2,
   "id": "bd7a25ff-48e2-4a2f-a373-8499ccaeaf96",
   "metadata": {},
   "outputs": [],
   "source": [
    "personen = pd.DataFrame({'lengte': [1.678, 1.755, 1.764, 1.821, 1.809, 1.851, 1.848, 1.902], \n",
    "                         'gewicht': [62.2, 67.2, 72.7, 76.4, 75.2, 81.3, 87.4, 90.4]})"
   ]
  },
  {
   "cell_type": "code",
   "execution_count": 3,
   "id": "1049fc5b-77d2-4e8a-8e16-b1e325f2f9eb",
   "metadata": {},
   "outputs": [
    {
     "data": {
      "text/html": [
       "<div>\n",
       "<style scoped>\n",
       "    .dataframe tbody tr th:only-of-type {\n",
       "        vertical-align: middle;\n",
       "    }\n",
       "\n",
       "    .dataframe tbody tr th {\n",
       "        vertical-align: top;\n",
       "    }\n",
       "\n",
       "    .dataframe thead th {\n",
       "        text-align: right;\n",
       "    }\n",
       "</style>\n",
       "<table border=\"1\" class=\"dataframe\">\n",
       "  <thead>\n",
       "    <tr style=\"text-align: right;\">\n",
       "      <th></th>\n",
       "      <th>lengte</th>\n",
       "      <th>gewicht</th>\n",
       "    </tr>\n",
       "  </thead>\n",
       "  <tbody>\n",
       "    <tr>\n",
       "      <th>0</th>\n",
       "      <td>1.678</td>\n",
       "      <td>62.2</td>\n",
       "    </tr>\n",
       "    <tr>\n",
       "      <th>1</th>\n",
       "      <td>1.755</td>\n",
       "      <td>67.2</td>\n",
       "    </tr>\n",
       "    <tr>\n",
       "      <th>2</th>\n",
       "      <td>1.764</td>\n",
       "      <td>72.7</td>\n",
       "    </tr>\n",
       "    <tr>\n",
       "      <th>3</th>\n",
       "      <td>1.821</td>\n",
       "      <td>76.4</td>\n",
       "    </tr>\n",
       "    <tr>\n",
       "      <th>4</th>\n",
       "      <td>1.809</td>\n",
       "      <td>75.2</td>\n",
       "    </tr>\n",
       "    <tr>\n",
       "      <th>5</th>\n",
       "      <td>1.851</td>\n",
       "      <td>81.3</td>\n",
       "    </tr>\n",
       "    <tr>\n",
       "      <th>6</th>\n",
       "      <td>1.848</td>\n",
       "      <td>87.4</td>\n",
       "    </tr>\n",
       "    <tr>\n",
       "      <th>7</th>\n",
       "      <td>1.902</td>\n",
       "      <td>90.4</td>\n",
       "    </tr>\n",
       "  </tbody>\n",
       "</table>\n",
       "</div>"
      ],
      "text/plain": [
       "   lengte  gewicht\n",
       "0   1.678     62.2\n",
       "1   1.755     67.2\n",
       "2   1.764     72.7\n",
       "3   1.821     76.4\n",
       "4   1.809     75.2\n",
       "5   1.851     81.3\n",
       "6   1.848     87.4\n",
       "7   1.902     90.4"
      ]
     },
     "execution_count": 3,
     "metadata": {},
     "output_type": "execute_result"
    }
   ],
   "source": [
    "personen"
   ]
  },
  {
   "cell_type": "code",
   "execution_count": 4,
   "id": "eda79b73-f060-4f63-ad26-bbaad86880ef",
   "metadata": {},
   "outputs": [
    {
     "name": "stdout",
     "output_type": "stream",
     "text": [
      "Pearsons correlatiecoëfficient r = 0.9573607425326734\n"
     ]
    }
   ],
   "source": [
    "r = personen['gewicht'].corr(personen['lengte'])\n",
    "print(f'Pearsons correlatiecoëfficient r = {r}')"
   ]
  },
  {
   "cell_type": "markdown",
   "id": "f63c325f-d5eb-4716-867a-5fee36b03ce2",
   "metadata": {},
   "source": [
    "### Opdracht 1a: bepaal handmatig de beste coëfficienten\n",
    "\n",
    "Zoek de _beste_ lineaire formule die het gewicht $y$ voorspelt gegeven lengte $x$ met richtingscoëfficient $a$ en intercept $b$. Je vindt de beste formule door de _sum of squared residuals_ (SSR, de som van het kwadraat van de residuen) te minimaliseren. Maak hiervoor gebruik van de grafiek die hieronder getekend wordt. De verticale rode lijnen representeren het residu bij elke meetwaarde.\n",
    "\n",
    "Pas a en b zodanig aan dat je de 'Sum of squared residuals (SSR)' minimaliseert\n",
    "Pas in deze cel a en b aan, run deze cel en de volgende cel en analyseer het resultaat aan de hand van de score die \n",
    "boven in de visualisatie getoond wordt\n",
    "\n",
    " - Tip 1: je kunt als eerste gok de coëfficienten uitrekenen op basis van een van de gegeven punten\n",
    " - Tip 2: je kunt de helling van de lijn aanpassen met a\n",
    " - Tip 3: je kunt de hoogte van de lijn aanpassen met b"
   ]
  },
  {
   "cell_type": "code",
   "execution_count": 5,
   "id": "9f99a83f-a521-47ff-9f6f-b934c72e1207",
   "metadata": {},
   "outputs": [],
   "source": [
    "# x-as loopt van minimum van lengte tot maximum van lengte\n",
    "x = np.linspace((personen[['lengte']].min()-.03), personen[['lengte']].max()+.03)"
   ]
  },
  {
   "cell_type": "code",
   "execution_count": 6,
   "id": "fce9c30a-7c99-4d7d-b6d6-9381c5938f6f",
   "metadata": {
    "tags": [
     "student"
    ]
   },
   "outputs": [],
   "source": [
    "# Geef hier de beste formule\n",
    "a = (personen.loc[len(personen)-1, 'gewicht'] - personen.loc[0, 'gewicht'])/(personen.loc[len(personen)-1, 'lengte'] - personen.loc[0,'lengte'])\n",
    "b = personen.loc[0,'gewicht']-a*personen.loc[0,'lengte'] - 1\n",
    "y = a*x+b"
   ]
  },
  {
   "cell_type": "code",
   "execution_count": 7,
   "id": "3e30b496-ef44-49fd-b167-ff05cb47a5b2",
   "metadata": {},
   "outputs": [
    {
     "data": {
      "image/png": "[encoded data removed]",
      "text/plain": [
       "<Figure size 720x720 with 1 Axes>"
      ]
     },
     "metadata": {
      "needs_background": "light"
     },
     "output_type": "display_data"
    }
   ],
   "source": [
    "# Make predictions\n",
    "personen['gewicht_voorspeld'] = a * personen[['lengte']] + b \n",
    "personen['residu'] = (personen['gewicht_voorspeld'] - personen['gewicht'])\n",
    "personen['square'] = personen['residu']**2\n",
    "ssr = personen['square'].sum()\n",
    "\n",
    "# Create figure and axes\n",
    "fig, ax = plt.subplots(figsize=(10, 10))\n",
    "\n",
    "plt.title('Sum of squared residuals (SSR): {:.2f}'.format(ssr))\n",
    "plt.xlabel('lengte (cm)')\n",
    "plt.ylabel('gewicht (kg)')\n",
    "\n",
    "ratio = (x.max()-x.min())/(y.max()-y.min())\n",
    "\n",
    "ax.plot(x,y, linewidth=2)\n",
    "ax.scatter(personen['lengte'], personen['gewicht_voorspeld'])\n",
    "ax.scatter(personen['lengte'], personen['gewicht'], c='r')\n",
    "\n",
    "# Create a Rectangle patch\n",
    "for index, persoon in personen.iterrows():\n",
    "    if ssr < 500:\n",
    "        rect = patches.Rectangle((persoon['lengte'], persoon['gewicht']),\n",
    "                                 persoon['residu']*ratio, persoon['residu'],\n",
    "                                 linewidth=1,edgecolor='r', facecolor='r', alpha=.3)\n",
    "        ax.add_patch(rect)\n",
    "        \n",
    "    rect = patches.Rectangle((persoon['lengte'], persoon['gewicht']),\n",
    "                             0.00005, persoon['residu'],\n",
    "                             linewidth=2,edgecolor='r',facecolor='none')\n",
    "    ax.add_patch(rect)\n",
    "\n",
    "plt.show()"
   ]
  },
  {
   "cell_type": "code",
   "execution_count": 8,
   "id": "8340cb16-1f7f-487c-84ce-ecc45531f9ba",
   "metadata": {},
   "outputs": [
    {
     "data": {
      "text/plain": [
       "0.9165395913427121"
      ]
     },
     "execution_count": 8,
     "metadata": {},
     "output_type": "execute_result"
    }
   ],
   "source": [
    "personen.corr().loc['gewicht','lengte']*personen.corr().loc['gewicht','lengte']"
   ]
  },
  {
   "cell_type": "markdown",
   "id": "cd2727ce-18a5-4395-b8cf-aa0595b4604e",
   "metadata": {},
   "source": [
    "### Opdracht 1b: bepaal de beste coëfficienten met behulp van Lineaire Regressie\n",
    "We gaan nu de computer coëfficienten a en b laten bepalen met behulp van Lineaire Regressie. Voer de volgende stappen uit:\n",
    "\n",
    " - Kies het juiste modeltype\n",
    " - Kies de features en targetvariabele\n",
    " - Kies de hyperparameters\n",
    " - Train het model\n",
    " - Valideer de resultaten m.b.v. de RMSE (als je het echt goed doet, vergelijk je de resultaten met een baseline model...)\n",
    " \n",
    "**Merk op**: je hoeft geen train-test split te maken want we willen dezelfde data gebruiken net als bij opdracht 1 zodat we beide acties kunnen vergelijken."
   ]
  },
  {
   "cell_type": "code",
   "execution_count": 9,
   "id": "a0dfa760-e83b-4c3a-a045-086d0b1b2e3d",
   "metadata": {
    "tags": [
     "student"
    ]
   },
   "outputs": [],
   "source": [
    "linreg = LinearRegression()"
   ]
  },
  {
   "cell_type": "code",
   "execution_count": 10,
   "id": "7a74a938-bdba-49c3-ad7d-d0201b7d737b",
   "metadata": {},
   "outputs": [
    {
     "data": {
      "text/html": [
       "<style>#sk-container-id-1 {color: black;background-color: white;}#sk-container-id-1 pre{padding: 0;}#sk-container-id-1 div.sk-toggleable {background-color: white;}#sk-container-id-1 label.sk-toggleable__label {cursor: pointer;display: block;width: 100%;margin-bottom: 0;padding: 0.3em;box-sizing: border-box;text-align: center;}#sk-container-id-1 label.sk-toggleable__label-arrow:before {content: \"▸\";float: left;margin-right: 0.25em;color: #696969;}#sk-container-id-1 label.sk-toggleable__label-arrow:hover:before {color: black;}#sk-container-id-1 div.sk-estimator:hover label.sk-toggleable__label-arrow:before {color: black;}#sk-container-id-1 div.sk-toggleable__content {max-height: 0;max-width: 0;overflow: hidden;text-align: left;background-color: #f0f8ff;}#sk-container-id-1 div.sk-toggleable__content pre {margin: 0.2em;color: black;border-radius: 0.25em;background-color: #f0f8ff;}#sk-container-id-1 input.sk-toggleable__control:checked~div.sk-toggleable__content {max-height: 200px;max-width: 100%;overflow: auto;}#sk-container-id-1 input.sk-toggleable__control:checked~label.sk-toggleable__label-arrow:before {content: \"▾\";}#sk-container-id-1 div.sk-estimator input.sk-toggleable__control:checked~label.sk-toggleable__label {background-color: #d4ebff;}#sk-container-id-1 div.sk-label input.sk-toggleable__control:checked~label.sk-toggleable__label {background-color: #d4ebff;}#sk-container-id-1 input.sk-hidden--visually {border: 0;clip: rect(1px 1px 1px 1px);clip: rect(1px, 1px, 1px, 1px);height: 1px;margin: -1px;overflow: hidden;padding: 0;position: absolute;width: 1px;}#sk-container-id-1 div.sk-estimator {font-family: monospace;background-color: #f0f8ff;border: 1px dotted black;border-radius: 0.25em;box-sizing: border-box;margin-bottom: 0.5em;}#sk-container-id-1 div.sk-estimator:hover {background-color: #d4ebff;}#sk-container-id-1 div.sk-parallel-item::after {content: \"\";width: 100%;border-bottom: 1px solid gray;flex-grow: 1;}#sk-container-id-1 div.sk-label:hover label.sk-toggleable__label {background-color: #d4ebff;}#sk-container-id-1 div.sk-serial::before {content: \"\";position: absolute;border-left: 1px solid gray;box-sizing: border-box;top: 0;bottom: 0;left: 50%;z-index: 0;}#sk-container-id-1 div.sk-serial {display: flex;flex-direction: column;align-items: center;background-color: white;padding-right: 0.2em;padding-left: 0.2em;position: relative;}#sk-container-id-1 div.sk-item {position: relative;z-index: 1;}#sk-container-id-1 div.sk-parallel {display: flex;align-items: stretch;justify-content: center;background-color: white;position: relative;}#sk-container-id-1 div.sk-item::before, #sk-container-id-1 div.sk-parallel-item::before {content: \"\";position: absolute;border-left: 1px solid gray;box-sizing: border-box;top: 0;bottom: 0;left: 50%;z-index: -1;}#sk-container-id-1 div.sk-parallel-item {display: flex;flex-direction: column;z-index: 1;position: relative;background-color: white;}#sk-container-id-1 div.sk-parallel-item:first-child::after {align-self: flex-end;width: 50%;}#sk-container-id-1 div.sk-parallel-item:last-child::after {align-self: flex-start;width: 50%;}#sk-container-id-1 div.sk-parallel-item:only-child::after {width: 0;}#sk-container-id-1 div.sk-dashed-wrapped {border: 1px dashed gray;margin: 0 0.4em 0.5em 0.4em;box-sizing: border-box;padding-bottom: 0.4em;background-color: white;}#sk-container-id-1 div.sk-label label {font-family: monospace;font-weight: bold;display: inline-block;line-height: 1.2em;}#sk-container-id-1 div.sk-label-container {text-align: center;}#sk-container-id-1 div.sk-container {/* jupyter's `normalize.less` sets `[hidden] { display: none; }` but bootstrap.min.css set `[hidden] { display: none !important; }` so we also need the `!important` here to be able to override the default hidden behavior on the sphinx rendered scikit-learn.org. See: https://github.com/scikit-learn/scikit-learn/issues/21755 */display: inline-block !important;position: relative;}#sk-container-id-1 div.sk-text-repr-fallback {display: none;}</style><div id=\"sk-container-id-1\" class=\"sk-top-container\"><div class=\"sk-text-repr-fallback\"><pre>LinearRegression()</pre><b>In a Jupyter environment, please rerun this cell to show the HTML representation or trust the notebook. <br />On GitHub, the HTML representation is unable to render, please try loading this page with nbviewer.org.</b></div><div class=\"sk-container\" hidden><div class=\"sk-item\"><div class=\"sk-estimator sk-toggleable\"><input class=\"sk-toggleable__control sk-hidden--visually\" id=\"sk-estimator-id-1\" type=\"checkbox\" checked><label for=\"sk-estimator-id-1\" class=\"sk-toggleable__label sk-toggleable__label-arrow\">LinearRegression</label><div class=\"sk-toggleable__content\"><pre>LinearRegression()</pre></div></div></div></div></div>"
      ],
      "text/plain": [
       "LinearRegression()"
      ]
     },
     "execution_count": 10,
     "metadata": {},
     "output_type": "execute_result"
    }
   ],
   "source": [
    "linreg.fit(personen[['lengte']],personen['gewicht'])"
   ]
  },
  {
   "cell_type": "code",
   "execution_count": 11,
   "id": "dfee3860-23e6-454a-8371-eb791035e4b6",
   "metadata": {},
   "outputs": [
    {
     "data": {
      "text/plain": [
       "0.9165395913427121"
      ]
     },
     "execution_count": 11,
     "metadata": {},
     "output_type": "execute_result"
    }
   ],
   "source": [
    "linreg.score(personen[['lengte']],personen['gewicht'])"
   ]
  },
  {
   "cell_type": "code",
   "execution_count": 12,
   "id": "3ed70c13-b36e-4e15-8bab-3cdcc2636c21",
   "metadata": {},
   "outputs": [],
   "source": [
    "mse = mean_squared_error(personen['gewicht'], linreg.predict(personen[['lengte']]))"
   ]
  },
  {
   "cell_type": "code",
   "execution_count": 13,
   "id": "b4c33679-7832-48e0-8b7b-4a7a623f0726",
   "metadata": {},
   "outputs": [
    {
     "data": {
      "text/plain": [
       "2.588192622247342"
      ]
     },
     "execution_count": 13,
     "metadata": {},
     "output_type": "execute_result"
    }
   ],
   "source": [
    "np.sqrt(mse)"
   ]
  },
  {
   "cell_type": "code",
   "execution_count": 14,
   "id": "123bc10b-30d9-4129-8125-61e39f1419be",
   "metadata": {},
   "outputs": [
    {
     "data": {
      "text/plain": [
       "0.9165395913427121"
      ]
     },
     "execution_count": 14,
     "metadata": {},
     "output_type": "execute_result"
    }
   ],
   "source": [
    "r2_score(personen['gewicht'], linreg.predict(personen[['lengte']]))"
   ]
  },
  {
   "cell_type": "code",
   "execution_count": 15,
   "id": "7978ed3d-cbbf-4439-b984-bebde4dde2e3",
   "metadata": {},
   "outputs": [],
   "source": [
    "#Baseline -  stel we voorspellen overal het gemiddelde:\n",
    "bl = np.full((len(personen), 1), y.mean())"
   ]
  },
  {
   "cell_type": "code",
   "execution_count": 16,
   "id": "16682b1f-4612-401b-9a42-863bc08ad354",
   "metadata": {},
   "outputs": [
    {
     "data": {
      "text/plain": [
       "9.052762009464296"
      ]
     },
     "execution_count": 16,
     "metadata": {},
     "output_type": "execute_result"
    }
   ],
   "source": [
    "np.sqrt(mean_squared_error(personen['gewicht'],bl))"
   ]
  },
  {
   "cell_type": "code",
   "execution_count": 17,
   "id": "313faf9a-f02b-42eb-aa56-fdc45ad6524b",
   "metadata": {},
   "outputs": [],
   "source": [
    "a = linreg.coef_\n",
    "b = linreg.intercept_"
   ]
  },
  {
   "cell_type": "code",
   "execution_count": 18,
   "id": "eba47780-ff84-4c0c-b75e-e91ec820bad9",
   "metadata": {},
   "outputs": [
    {
     "data": {
      "text/plain": [
       "array([131.68424775])"
      ]
     },
     "execution_count": 18,
     "metadata": {},
     "output_type": "execute_result"
    }
   ],
   "source": [
    "a"
   ]
  },
  {
   "cell_type": "code",
   "execution_count": 19,
   "id": "18f10044-f0e2-40a3-8e2d-c76a93e84e77",
   "metadata": {},
   "outputs": [
    {
     "data": {
      "text/plain": [
       "-160.89254080971185"
      ]
     },
     "execution_count": 19,
     "metadata": {},
     "output_type": "execute_result"
    }
   ],
   "source": [
    "b"
   ]
  },
  {
   "cell_type": "code",
   "execution_count": 20,
   "id": "5376ead4-7ab0-47ff-a418-a858c14fa500",
   "metadata": {},
   "outputs": [],
   "source": [
    "personen['gewicht_voorspeld'] = a * personen[['lengte']] + b \n",
    "personen['residu'] = (personen['gewicht_voorspeld'] - personen['gewicht'])\n",
    "personen['square'] = personen['residu']**2\n",
    "ssr = personen['square'].sum()"
   ]
  },
  {
   "cell_type": "code",
   "execution_count": 21,
   "id": "130c9bc3-e6aa-44c0-9440-e3ef870ae065",
   "metadata": {},
   "outputs": [
    {
     "data": {
      "text/plain": [
       "53.58992839884458"
      ]
     },
     "execution_count": 21,
     "metadata": {},
     "output_type": "execute_result"
    }
   ],
   "source": [
    "ssr"
   ]
  },
  {
   "cell_type": "markdown",
   "id": "98415c26-3a16-4163-9563-a7d0a7f288f0",
   "metadata": {},
   "source": [
    "<a id=\"linreg_opdracht2\"></a>\n",
    "## Opdracht 2"
   ]
  },
  {
   "cell_type": "markdown",
   "id": "a41d409e-785b-45b2-ac93-90844de17703",
   "metadata": {},
   "source": [
    "In deze oefening gaan we onderzoeken of het verbruik van auto's is te voorspellen aan de hand van diverse kenmerken. Er worden eerst een aantal analyses en bewerkingen op de data uitgevoerd, voordat we starten met enkele opdrachten."
   ]
  },
  {
   "cell_type": "code",
   "execution_count": 22,
   "id": "74258554-03ed-454a-837c-81efe08748ab",
   "metadata": {},
   "outputs": [],
   "source": [
    "# Bronnen\n",
    "# Dowload: https://archive.ics.uci.edu/ml/datasets/Auto+MPG \n",
    "# Omvormen naar csv: http://fatihsarigoz.com/autompg-data.html \n",
    "# Lineaire regressie: http://benalexkeen.com/linear-regression-in-python-using-scikit-learn/ "
   ]
  },
  {
   "cell_type": "code",
   "execution_count": 23,
   "id": "ffbbbcd5-ab3b-44f3-b1d3-682312fbea6a",
   "metadata": {},
   "outputs": [],
   "source": [
    "# Libraries importeren\n",
    "\n",
    "import pandas as pd\n",
    "import numpy as np\n",
    "from sklearn.model_selection import train_test_split\n",
    "from sklearn.linear_model import LinearRegression\n",
    "from sklearn.metrics import mean_squared_error\n",
    "from sklearn.metrics import r2_score\n",
    "import math\n",
    "import matplotlib.pyplot as plt"
   ]
  },
  {
   "cell_type": "code",
   "execution_count": 24,
   "id": "770de064-664d-44fc-8e23-601b50d6ae67",
   "metadata": {},
   "outputs": [
    {
     "ename": "FileNotFoundError",
     "evalue": "[Errno 2] No such file or directory: 'lineaire_regressie_auto_mpg.csv'",
     "output_type": "error",
     "traceback": [
      "\u001b[1;31m---------------------------------------------------------------------------\u001b[0m",
      "\u001b[1;31mFileNotFoundError\u001b[0m                         Traceback (most recent call last)",
      "Input \u001b[1;32mIn [24]\u001b[0m, in \u001b[0;36m<module>\u001b[1;34m\u001b[0m\n\u001b[0;32m      1\u001b[0m \u001b[38;5;66;03m# Analyseren welke attributen er in de dataset zitten. Als je de inhoud niet snapt, is het handig om ff te Googlen!\u001b[39;00m\n\u001b[1;32m----> 3\u001b[0m df \u001b[38;5;241m=\u001b[39m \u001b[43mpd\u001b[49m\u001b[38;5;241;43m.\u001b[39;49m\u001b[43mread_csv\u001b[49m\u001b[43m(\u001b[49m\u001b[38;5;124;43m'\u001b[39;49m\u001b[38;5;124;43mlineaire_regressie_auto_mpg.csv\u001b[39;49m\u001b[38;5;124;43m'\u001b[39;49m\u001b[43m)\u001b[49m\n\u001b[0;32m      4\u001b[0m df\u001b[38;5;241m.\u001b[39mhead()\n",
      "File \u001b[1;32mc:\\Users\\peter\\AppData\\Local\\Programs\\Python\\Python39\\lib\\site-packages\\pandas\\io\\parsers\\readers.py:1026\u001b[0m, in \u001b[0;36mread_csv\u001b[1;34m(filepath_or_buffer, sep, delimiter, header, names, index_col, usecols, dtype, engine, converters, true_values, false_values, skipinitialspace, skiprows, skipfooter, nrows, na_values, keep_default_na, na_filter, verbose, skip_blank_lines, parse_dates, infer_datetime_format, keep_date_col, date_parser, date_format, dayfirst, cache_dates, iterator, chunksize, compression, thousands, decimal, lineterminator, quotechar, quoting, doublequote, escapechar, comment, encoding, encoding_errors, dialect, on_bad_lines, delim_whitespace, low_memory, memory_map, float_precision, storage_options, dtype_backend)\u001b[0m\n\u001b[0;32m   1013\u001b[0m kwds_defaults \u001b[38;5;241m=\u001b[39m _refine_defaults_read(\n\u001b[0;32m   1014\u001b[0m     dialect,\n\u001b[0;32m   1015\u001b[0m     delimiter,\n\u001b[1;32m   (...)\u001b[0m\n\u001b[0;32m   1022\u001b[0m     dtype_backend\u001b[38;5;241m=\u001b[39mdtype_backend,\n\u001b[0;32m   1023\u001b[0m )\n\u001b[0;32m   1024\u001b[0m kwds\u001b[38;5;241m.\u001b[39mupdate(kwds_defaults)\n\u001b[1;32m-> 1026\u001b[0m \u001b[38;5;28;01mreturn\u001b[39;00m \u001b[43m_read\u001b[49m\u001b[43m(\u001b[49m\u001b[43mfilepath_or_buffer\u001b[49m\u001b[43m,\u001b[49m\u001b[43m \u001b[49m\u001b[43mkwds\u001b[49m\u001b[43m)\u001b[49m\n",
      "File \u001b[1;32mc:\\Users\\peter\\AppData\\Local\\Programs\\Python\\Python39\\lib\\site-packages\\pandas\\io\\parsers\\readers.py:620\u001b[0m, in \u001b[0;36m_read\u001b[1;34m(filepath_or_buffer, kwds)\u001b[0m\n\u001b[0;32m    617\u001b[0m _validate_names(kwds\u001b[38;5;241m.\u001b[39mget(\u001b[38;5;124m\"\u001b[39m\u001b[38;5;124mnames\u001b[39m\u001b[38;5;124m\"\u001b[39m, \u001b[38;5;28;01mNone\u001b[39;00m))\n\u001b[0;32m    619\u001b[0m \u001b[38;5;66;03m# Create the parser.\u001b[39;00m\n\u001b[1;32m--> 620\u001b[0m parser \u001b[38;5;241m=\u001b[39m TextFileReader(filepath_or_buffer, \u001b[38;5;241m*\u001b[39m\u001b[38;5;241m*\u001b[39mkwds)\n\u001b[0;32m    622\u001b[0m \u001b[38;5;28;01mif\u001b[39;00m chunksize \u001b[38;5;129;01mor\u001b[39;00m iterator:\n\u001b[0;32m    623\u001b[0m     \u001b[38;5;28;01mreturn\u001b[39;00m parser\n",
      "File \u001b[1;32mc:\\Users\\peter\\AppData\\Local\\Programs\\Python\\Python39\\lib\\site-packages\\pandas\\io\\parsers\\readers.py:1620\u001b[0m, in \u001b[0;36mTextFileReader.__init__\u001b[1;34m(self, f, engine, **kwds)\u001b[0m\n\u001b[0;32m   1617\u001b[0m     \u001b[38;5;28mself\u001b[39m\u001b[38;5;241m.\u001b[39moptions[\u001b[38;5;124m\"\u001b[39m\u001b[38;5;124mhas_index_names\u001b[39m\u001b[38;5;124m\"\u001b[39m] \u001b[38;5;241m=\u001b[39m kwds[\u001b[38;5;124m\"\u001b[39m\u001b[38;5;124mhas_index_names\u001b[39m\u001b[38;5;124m\"\u001b[39m]\n\u001b[0;32m   1619\u001b[0m \u001b[38;5;28mself\u001b[39m\u001b[38;5;241m.\u001b[39mhandles: IOHandles \u001b[38;5;241m|\u001b[39m \u001b[38;5;28;01mNone\u001b[39;00m \u001b[38;5;241m=\u001b[39m \u001b[38;5;28;01mNone\u001b[39;00m\n\u001b[1;32m-> 1620\u001b[0m \u001b[38;5;28mself\u001b[39m\u001b[38;5;241m.\u001b[39m_engine \u001b[38;5;241m=\u001b[39m \u001b[38;5;28;43mself\u001b[39;49m\u001b[38;5;241;43m.\u001b[39;49m\u001b[43m_make_engine\u001b[49m\u001b[43m(\u001b[49m\u001b[43mf\u001b[49m\u001b[43m,\u001b[49m\u001b[43m \u001b[49m\u001b[38;5;28;43mself\u001b[39;49m\u001b[38;5;241;43m.\u001b[39;49m\u001b[43mengine\u001b[49m\u001b[43m)\u001b[49m\n",
      "File \u001b[1;32mc:\\Users\\peter\\AppData\\Local\\Programs\\Python\\Python39\\lib\\site-packages\\pandas\\io\\parsers\\readers.py:1880\u001b[0m, in \u001b[0;36mTextFileReader._make_engine\u001b[1;34m(self, f, engine)\u001b[0m\n\u001b[0;32m   1878\u001b[0m     \u001b[38;5;28;01mif\u001b[39;00m \u001b[38;5;124m\"\u001b[39m\u001b[38;5;124mb\u001b[39m\u001b[38;5;124m\"\u001b[39m \u001b[38;5;129;01mnot\u001b[39;00m \u001b[38;5;129;01min\u001b[39;00m mode:\n\u001b[0;32m   1879\u001b[0m         mode \u001b[38;5;241m+\u001b[39m\u001b[38;5;241m=\u001b[39m \u001b[38;5;124m\"\u001b[39m\u001b[38;5;124mb\u001b[39m\u001b[38;5;124m\"\u001b[39m\n\u001b[1;32m-> 1880\u001b[0m \u001b[38;5;28mself\u001b[39m\u001b[38;5;241m.\u001b[39mhandles \u001b[38;5;241m=\u001b[39m \u001b[43mget_handle\u001b[49m\u001b[43m(\u001b[49m\n\u001b[0;32m   1881\u001b[0m \u001b[43m    \u001b[49m\u001b[43mf\u001b[49m\u001b[43m,\u001b[49m\n\u001b[0;32m   1882\u001b[0m \u001b[43m    \u001b[49m\u001b[43mmode\u001b[49m\u001b[43m,\u001b[49m\n\u001b[0;32m   1883\u001b[0m \u001b[43m    \u001b[49m\u001b[43mencoding\u001b[49m\u001b[38;5;241;43m=\u001b[39;49m\u001b[38;5;28;43mself\u001b[39;49m\u001b[38;5;241;43m.\u001b[39;49m\u001b[43moptions\u001b[49m\u001b[38;5;241;43m.\u001b[39;49m\u001b[43mget\u001b[49m\u001b[43m(\u001b[49m\u001b[38;5;124;43m\"\u001b[39;49m\u001b[38;5;124;43mencoding\u001b[39;49m\u001b[38;5;124;43m\"\u001b[39;49m\u001b[43m,\u001b[49m\u001b[43m \u001b[49m\u001b[38;5;28;43;01mNone\u001b[39;49;00m\u001b[43m)\u001b[49m\u001b[43m,\u001b[49m\n\u001b[0;32m   1884\u001b[0m \u001b[43m    \u001b[49m\u001b[43mcompression\u001b[49m\u001b[38;5;241;43m=\u001b[39;49m\u001b[38;5;28;43mself\u001b[39;49m\u001b[38;5;241;43m.\u001b[39;49m\u001b[43moptions\u001b[49m\u001b[38;5;241;43m.\u001b[39;49m\u001b[43mget\u001b[49m\u001b[43m(\u001b[49m\u001b[38;5;124;43m\"\u001b[39;49m\u001b[38;5;124;43mcompression\u001b[39;49m\u001b[38;5;124;43m\"\u001b[39;49m\u001b[43m,\u001b[49m\u001b[43m \u001b[49m\u001b[38;5;28;43;01mNone\u001b[39;49;00m\u001b[43m)\u001b[49m\u001b[43m,\u001b[49m\n\u001b[0;32m   1885\u001b[0m \u001b[43m    \u001b[49m\u001b[43mmemory_map\u001b[49m\u001b[38;5;241;43m=\u001b[39;49m\u001b[38;5;28;43mself\u001b[39;49m\u001b[38;5;241;43m.\u001b[39;49m\u001b[43moptions\u001b[49m\u001b[38;5;241;43m.\u001b[39;49m\u001b[43mget\u001b[49m\u001b[43m(\u001b[49m\u001b[38;5;124;43m\"\u001b[39;49m\u001b[38;5;124;43mmemory_map\u001b[39;49m\u001b[38;5;124;43m\"\u001b[39;49m\u001b[43m,\u001b[49m\u001b[43m \u001b[49m\u001b[38;5;28;43;01mFalse\u001b[39;49;00m\u001b[43m)\u001b[49m\u001b[43m,\u001b[49m\n\u001b[0;32m   1886\u001b[0m \u001b[43m    \u001b[49m\u001b[43mis_text\u001b[49m\u001b[38;5;241;43m=\u001b[39;49m\u001b[43mis_text\u001b[49m\u001b[43m,\u001b[49m\n\u001b[0;32m   1887\u001b[0m \u001b[43m    \u001b[49m\u001b[43merrors\u001b[49m\u001b[38;5;241;43m=\u001b[39;49m\u001b[38;5;28;43mself\u001b[39;49m\u001b[38;5;241;43m.\u001b[39;49m\u001b[43moptions\u001b[49m\u001b[38;5;241;43m.\u001b[39;49m\u001b[43mget\u001b[49m\u001b[43m(\u001b[49m\u001b[38;5;124;43m\"\u001b[39;49m\u001b[38;5;124;43mencoding_errors\u001b[39;49m\u001b[38;5;124;43m\"\u001b[39;49m\u001b[43m,\u001b[49m\u001b[43m \u001b[49m\u001b[38;5;124;43m\"\u001b[39;49m\u001b[38;5;124;43mstrict\u001b[39;49m\u001b[38;5;124;43m\"\u001b[39;49m\u001b[43m)\u001b[49m\u001b[43m,\u001b[49m\n\u001b[0;32m   1888\u001b[0m \u001b[43m    \u001b[49m\u001b[43mstorage_options\u001b[49m\u001b[38;5;241;43m=\u001b[39;49m\u001b[38;5;28;43mself\u001b[39;49m\u001b[38;5;241;43m.\u001b[39;49m\u001b[43moptions\u001b[49m\u001b[38;5;241;43m.\u001b[39;49m\u001b[43mget\u001b[49m\u001b[43m(\u001b[49m\u001b[38;5;124;43m\"\u001b[39;49m\u001b[38;5;124;43mstorage_options\u001b[39;49m\u001b[38;5;124;43m\"\u001b[39;49m\u001b[43m,\u001b[49m\u001b[43m \u001b[49m\u001b[38;5;28;43;01mNone\u001b[39;49;00m\u001b[43m)\u001b[49m\u001b[43m,\u001b[49m\n\u001b[0;32m   1889\u001b[0m \u001b[43m\u001b[49m\u001b[43m)\u001b[49m\n\u001b[0;32m   1890\u001b[0m \u001b[38;5;28;01massert\u001b[39;00m \u001b[38;5;28mself\u001b[39m\u001b[38;5;241m.\u001b[39mhandles \u001b[38;5;129;01mis\u001b[39;00m \u001b[38;5;129;01mnot\u001b[39;00m \u001b[38;5;28;01mNone\u001b[39;00m\n\u001b[0;32m   1891\u001b[0m f \u001b[38;5;241m=\u001b[39m \u001b[38;5;28mself\u001b[39m\u001b[38;5;241m.\u001b[39mhandles\u001b[38;5;241m.\u001b[39mhandle\n",
      "File \u001b[1;32mc:\\Users\\peter\\AppData\\Local\\Programs\\Python\\Python39\\lib\\site-packages\\pandas\\io\\common.py:873\u001b[0m, in \u001b[0;36mget_handle\u001b[1;34m(path_or_buf, mode, encoding, compression, memory_map, is_text, errors, storage_options)\u001b[0m\n\u001b[0;32m    868\u001b[0m \u001b[38;5;28;01melif\u001b[39;00m \u001b[38;5;28misinstance\u001b[39m(handle, \u001b[38;5;28mstr\u001b[39m):\n\u001b[0;32m    869\u001b[0m     \u001b[38;5;66;03m# Check whether the filename is to be opened in binary mode.\u001b[39;00m\n\u001b[0;32m    870\u001b[0m     \u001b[38;5;66;03m# Binary mode does not support 'encoding' and 'newline'.\u001b[39;00m\n\u001b[0;32m    871\u001b[0m     \u001b[38;5;28;01mif\u001b[39;00m ioargs\u001b[38;5;241m.\u001b[39mencoding \u001b[38;5;129;01mand\u001b[39;00m \u001b[38;5;124m\"\u001b[39m\u001b[38;5;124mb\u001b[39m\u001b[38;5;124m\"\u001b[39m \u001b[38;5;129;01mnot\u001b[39;00m \u001b[38;5;129;01min\u001b[39;00m ioargs\u001b[38;5;241m.\u001b[39mmode:\n\u001b[0;32m    872\u001b[0m         \u001b[38;5;66;03m# Encoding\u001b[39;00m\n\u001b[1;32m--> 873\u001b[0m         handle \u001b[38;5;241m=\u001b[39m \u001b[38;5;28;43mopen\u001b[39;49m\u001b[43m(\u001b[49m\n\u001b[0;32m    874\u001b[0m \u001b[43m            \u001b[49m\u001b[43mhandle\u001b[49m\u001b[43m,\u001b[49m\n\u001b[0;32m    875\u001b[0m \u001b[43m            \u001b[49m\u001b[43mioargs\u001b[49m\u001b[38;5;241;43m.\u001b[39;49m\u001b[43mmode\u001b[49m\u001b[43m,\u001b[49m\n\u001b[0;32m    876\u001b[0m \u001b[43m            \u001b[49m\u001b[43mencoding\u001b[49m\u001b[38;5;241;43m=\u001b[39;49m\u001b[43mioargs\u001b[49m\u001b[38;5;241;43m.\u001b[39;49m\u001b[43mencoding\u001b[49m\u001b[43m,\u001b[49m\n\u001b[0;32m    877\u001b[0m \u001b[43m            \u001b[49m\u001b[43merrors\u001b[49m\u001b[38;5;241;43m=\u001b[39;49m\u001b[43merrors\u001b[49m\u001b[43m,\u001b[49m\n\u001b[0;32m    878\u001b[0m \u001b[43m            \u001b[49m\u001b[43mnewline\u001b[49m\u001b[38;5;241;43m=\u001b[39;49m\u001b[38;5;124;43m\"\u001b[39;49m\u001b[38;5;124;43m\"\u001b[39;49m\u001b[43m,\u001b[49m\n\u001b[0;32m    879\u001b[0m \u001b[43m        \u001b[49m\u001b[43m)\u001b[49m\n\u001b[0;32m    880\u001b[0m     \u001b[38;5;28;01melse\u001b[39;00m:\n\u001b[0;32m    881\u001b[0m         \u001b[38;5;66;03m# Binary mode\u001b[39;00m\n\u001b[0;32m    882\u001b[0m         handle \u001b[38;5;241m=\u001b[39m \u001b[38;5;28mopen\u001b[39m(handle, ioargs\u001b[38;5;241m.\u001b[39mmode)\n",
      "\u001b[1;31mFileNotFoundError\u001b[0m: [Errno 2] No such file or directory: 'lineaire_regressie_auto_mpg.csv'"
     ]
    }
   ],
   "source": [
    "# Analyseren welke attributen er in de dataset zitten. Als je de inhoud niet snapt, is het handig om ff te Googlen!\n",
    "\n",
    "df = pd.read_csv('lineaire_regressie_auto_mpg.csv')\n",
    "df.head()"
   ]
  },
  {
   "cell_type": "code",
   "execution_count": null,
   "id": "295267ba-4725-48fc-91da-0cb06ffadb53",
   "metadata": {},
   "outputs": [],
   "source": [
    "# Inhoud van de attributen analyseren, check wat describe() doet met het attribuut `origin`\n",
    "\n",
    "df.describe()"
   ]
  },
  {
   "cell_type": "code",
   "execution_count": null,
   "id": "5c4a28fd-401f-4c79-937b-78a4cfe78034",
   "metadata": {},
   "outputs": [],
   "source": [
    "# Drop name: die hebben we niet nodig \n",
    "\n",
    "df = df.drop('name', axis=1)"
   ]
  },
  {
   "cell_type": "code",
   "execution_count": null,
   "id": "b80b8394-eb32-41ce-8182-324b463f9bb8",
   "metadata": {},
   "outputs": [],
   "source": [
    "# Origin lijkt een numerieke waarde, maar het is een categorie. \n",
    "# Dit attribuut moeten we aanpassen voordat we het kunnen gebruiken voor lineaire regressie\n",
    "\n",
    "df = pd.get_dummies(df, columns=['origin'])\n",
    "df.head()"
   ]
  },
  {
   "cell_type": "code",
   "execution_count": null,
   "id": "03191593-7cd8-45b1-939e-672aa4a64c2a",
   "metadata": {
    "tags": [
     "student"
    ]
   },
   "outputs": [],
   "source": [
    "# Verkenning van de correlaties\n",
    "\n",
    "print(df.corr()['mpg'])\n",
    "\n",
    "plt.subplots(dpi=100)\n",
    "plt.scatter(df['weight'], df['mpg'])\n",
    "plt.show()"
   ]
  },
  {
   "cell_type": "code",
   "execution_count": null,
   "id": "1675d9a1-e1c9-4ed9-8853-9379a0c296e5",
   "metadata": {},
   "outputs": [],
   "source": [
    "sns.pairplot(df[['mpg','cylinders', 'displacement','horsepower','weight','acceleration','year']])"
   ]
  },
  {
   "cell_type": "markdown",
   "id": "efaec84b-5628-4951-9c56-832820302038",
   "metadata": {},
   "source": [
    "1. Kies het juiste modeltype"
   ]
  },
  {
   "cell_type": "code",
   "execution_count": null,
   "id": "974c1bb1-bd24-496f-963e-8f0af55c35b0",
   "metadata": {
    "tags": [
     "student"
    ]
   },
   "outputs": [],
   "source": [
    "linreg = LinearRegression()"
   ]
  },
  {
   "cell_type": "markdown",
   "id": "9bc05ba9-0ff9-435a-ac09-bfdd2f0c51a5",
   "metadata": {},
   "source": [
    "2. Kies de hyperparameters"
   ]
  },
  {
   "cell_type": "code",
   "execution_count": null,
   "id": "cee62068-52e5-432b-9ad6-70bf62080469",
   "metadata": {
    "tags": [
     "student"
    ]
   },
   "outputs": [],
   "source": [
    "#niet van toepassing"
   ]
  },
  {
   "cell_type": "markdown",
   "id": "9f3814c5-2a1b-4ace-926e-818c794c0c79",
   "metadata": {},
   "source": [
    "3. Organiseer de data: _features_ (eigenschappen) en _target_ (resultaat)"
   ]
  },
  {
   "cell_type": "code",
   "execution_count": null,
   "id": "52abac49-6100-43f6-a917-db7445361e95",
   "metadata": {
    "tags": [
     "student"
    ]
   },
   "outputs": [],
   "source": [
    "X = df.drop('mpg', axis=1)\n",
    "y = df.loc[:,'mpg']"
   ]
  },
  {
   "cell_type": "markdown",
   "id": "72e8f437-e3c0-4da6-868d-88e28e5c5703",
   "metadata": {},
   "source": [
    "4. Creëer een training- en validatieset"
   ]
  },
  {
   "cell_type": "code",
   "execution_count": null,
   "id": "7a6d590b-a980-43a3-82dc-ed2df9179df0",
   "metadata": {
    "tags": [
     "student"
    ]
   },
   "outputs": [],
   "source": [
    "X_train, X_test, y_train, y_test = train_test_split(X, y, random_state = 0)"
   ]
  },
  {
   "cell_type": "markdown",
   "id": "45c41ad6-285e-43ec-9af0-8494d2f3e72c",
   "metadata": {},
   "source": [
    "5. Start het leerproces"
   ]
  },
  {
   "cell_type": "code",
   "execution_count": null,
   "id": "9b6e9fac-66ca-40a6-bccb-5b8681e1b64a",
   "metadata": {
    "tags": [
     "student"
    ]
   },
   "outputs": [],
   "source": [
    "linreg.fit(X_train, y_train)\n"
   ]
  },
  {
   "cell_type": "code",
   "execution_count": null,
   "id": "4862d278-7b6c-4944-98e5-9ce3eacd6090",
   "metadata": {},
   "outputs": [],
   "source": [
    "for idx, col_name in enumerate(X_train.columns):\n",
    "    print(\"The coefficient for {} is {:.3f}\".format(col_name, linreg.coef_[idx]))\n",
    "\n",
    "intercept = linreg.intercept_\n",
    "print(\"The intercept for our model is {:.3f}\".format(intercept))"
   ]
  },
  {
   "cell_type": "markdown",
   "id": "4ee5f3f4-ba5c-4dc0-9865-f7d0e9e0cbe5",
   "metadata": {},
   "source": [
    "6. Valideer het model\n",
    "\n",
    "Bereken de determinatiecoëfficient $r^2$."
   ]
  },
  {
   "cell_type": "code",
   "execution_count": null,
   "id": "1308d6dc-e3c2-4f47-ad14-3f6e290a556d",
   "metadata": {
    "tags": [
     "student"
    ]
   },
   "outputs": [],
   "source": [
    "r2_score(y_test, linreg.predict(X_test))"
   ]
  },
  {
   "cell_type": "markdown",
   "id": "93a5143f-b055-497d-a02f-4fd2ec9b1b1f",
   "metadata": {},
   "source": [
    "Bereken de *root mean squared error*, gebruik makend van `mean_squared_error()`."
   ]
  },
  {
   "cell_type": "code",
   "execution_count": null,
   "id": "8f391990-f045-4762-81a4-3de1835aa995",
   "metadata": {
    "tags": [
     "student"
    ]
   },
   "outputs": [],
   "source": [
    "np.sqrt(mean_squared_error(linreg.predict(X_test), y_test))"
   ]
  },
  {
   "cell_type": "markdown",
   "id": "daaaf3d5-e97d-4d02-a64d-7ed9e1717629",
   "metadata": {},
   "source": [
    "Wat is de betekenis van dit getal?"
   ]
  },
  {
   "cell_type": "markdown",
   "id": "e0d5a6ef-f5a5-48c7-8cd3-80c614fb94c3",
   "metadata": {
    "tags": [
     "student"
    ]
   },
   "source": [
    "De residuën hebben een standaarddeviatie van 3.24 mpg. De gemiddelde afwijking van de voorspelling is dus 3.24 mpg."
   ]
  },
  {
   "cell_type": "markdown",
   "id": "44c1b5b3-beb5-466b-a45c-90b894b149be",
   "metadata": {},
   "source": [
    "Wat gebeurt er met de lineaire regressie als je andere _features_ kiest? Welke deelverzameling van kenmerken is het beste?\n"
   ]
  },
  {
   "cell_type": "code",
   "execution_count": null,
   "id": "8c169939-2dd9-42ab-be30-9ea2e9dac376",
   "metadata": {},
   "outputs": [],
   "source": [
    "# Kolommen in volgorde van correlatiescore\n",
    "cols = ['weight', 'displacement', 'horsepower', 'cylinders', 'year', 'acceleration', 'origin_1', 'origin_2', 'origin_3']\n",
    "\n",
    "for c in range(len(cols)):\n",
    "    X = df[cols[:c+1]]\n",
    "    y = df[['mpg']]\n",
    "    X_train, X_test, y_train, y_test = train_test_split(X, y)\n",
    "    linreg.fit(X_train, y_train)\n",
    "    y_model = linreg.predict(X_test)\n",
    "#     print(r2_score(y_test, y_model))\n",
    "    print(\"Met features {} is de RMSE {:.3f}\".format(cols[:c+1], np.sqrt(mean_squared_error(y_model, y_test))))"
   ]
  }
 ],
 "metadata": {
  "kernelspec": {
   "display_name": "Python 3 (ipykernel)",
   "language": "python",
   "name": "python3"
  },
  "language_info": {
   "codemirror_mode": {
    "name": "ipython",
    "version": 3
   },
   "file_extension": ".py",
   "mimetype": "text/x-python",
   "name": "python",
   "nbconvert_exporter": "python",
   "pygments_lexer": "ipython3",
   "version": "3.9.7"
  }
 },
 "nbformat": 4,
 "nbformat_minor": 5
}
