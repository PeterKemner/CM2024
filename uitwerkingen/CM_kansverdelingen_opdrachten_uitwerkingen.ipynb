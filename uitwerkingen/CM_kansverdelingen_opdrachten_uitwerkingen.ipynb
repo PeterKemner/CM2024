{
 "cells": [
  {
   "cell_type": "markdown",
   "metadata": {},
   "source": [
    "# Kansverdelingen\n"
   ]
  },
  {
   "cell_type": "markdown",
   "metadata": {},
   "source": [
    "In dit notebook vind je de opdrachten over kansverdeling.\n",
    "- <a href=\"#kv_opdracht1\"> Opdracht 1 </a> maak je ter voorbereiding op het college.\n",
    "- <a href=\"#kv_opdracht2\"> Opdracht 2 </a> maken we in het college."
   ]
  },
  {
   "cell_type": "markdown",
   "metadata": {},
   "source": [
    "<a id=\"kv_opdracht1\"></a>\n",
    "## Opdracht 1"
   ]
  },
  {
   "cell_type": "code",
   "execution_count": 1,
   "metadata": {},
   "outputs": [],
   "source": [
    "import numpy as np\n",
    "import scipy.stats as stats"
   ]
  },
  {
   "cell_type": "markdown",
   "metadata": {},
   "source": [
    "## Voorbeeld - bananen \n",
    "Gegeven is een kansverdeling voor het gewicht van bananen met de volgende eigenschappen:\n",
    "- µ = ‘mu’ = gemiddelde = 50 gr\n",
    "- σ = ‘sigma’ = standaard deviatie = 7,5 gram\n",
    "\n",
    "Voor normaalverdeling gelden de volgende regels:\n",
    "\n",
    "Bij 90% hoort -/+ 1,64 σ\n",
    "\n",
    "Bij 95% hoort -/+ 1,96 σ\n",
    "\n",
    "Bij 99% hoort -/+ 2,58 σ"
   ]
  },
  {
   "cell_type": "markdown",
   "metadata": {},
   "source": [
    "Bepaal met de hand: \n",
    "* 90% weegt tussen de …… en …... gram\n",
    "- 99% weegt tussen de …… en …… gram \n",
    "- 5% weegt meer dan …… gram\n",
    "- 5% weegt minder dan …… gram\n",
    "- 95% weegt minder dan …… gram"
   ]
  },
  {
   "cell_type": "code",
   "execution_count": 2,
   "metadata": {
    "tags": [
     "student"
    ]
   },
   "outputs": [
    {
     "name": "stdout",
     "output_type": "stream",
     "text": [
      "35.30027011594959\n",
      "64.69972988405041\n",
      "90% weegt tussen de 37.66359779786396 en 62.33640220213604 gram\n",
      "90% weegt tussen de 37.7 en 62.3 gram\n",
      "\n",
      "99% weegt tussen de 30.681280223383244 en 69.31871977661675 gram\n",
      "99% weegt tussen de 30.65 en 69.35 gram\n",
      "\n",
      "5% weegt meer dan 62.33640220213604 gram\n",
      "5% weegt meer dan 62.3 gram\n",
      "\n",
      "5% weegt minder dan 37.66359779786396 gram\n",
      "5% weegt minder dan 37.7 gram\n",
      "\n",
      "95% weegt minder dan 62.33640220213604 gram\n",
      "95% weegt minder dan 62.3 gram\n"
     ]
    }
   ],
   "source": [
    "# Berekening van kans naar waarde\n",
    "mu, sigma = 50, 7.5\n",
    "\n",
    "# scipy.stats functies\n",
    "nv = stats.norm(loc=mu,scale=sigma)\n",
    "print(nv.ppf(0.025))   # 2,5%\n",
    "print(nv.ppf(0.975))   # 97,5%\n",
    "\n",
    "print(\"90% weegt tussen de\", nv.ppf(0.05), \"en\", nv.ppf(0.95), \"gram\")\n",
    "print(\"90% weegt tussen de\", mu-1.64*sigma, \"en\", mu+1.64*sigma, \"gram\")\n",
    "print()\n",
    "print(\"99% weegt tussen de\", nv.ppf(0.005), \"en\", nv.ppf(0.995), \"gram\")\n",
    "print(\"99% weegt tussen de\", mu-2.58*sigma, \"en\", mu+2.58*sigma, \"gram\")\n",
    "print()\n",
    "print(\"5% weegt meer dan\", nv.ppf(0.95), \"gram\")\n",
    "print(\"5% weegt meer dan\", mu+1.64*sigma, \"gram\")\n",
    "print()\n",
    "print(\"5% weegt minder dan\", nv.ppf(0.05), \"gram\")\n",
    "print(\"5% weegt minder dan\", mu-1.64*sigma, \"gram\")\n",
    "print()\n",
    "print(\"95% weegt minder dan\", nv.ppf(0.95), \"gram\")\n",
    "print(\"95% weegt minder dan\", mu+1.64*sigma, \"gram\")"
   ]
  },
  {
   "cell_type": "markdown",
   "metadata": {},
   "source": [
    "## Oefening normale verdeling - bananen\n",
    "\n",
    "Kansverdeling bananen, met µ = 50 gram en σ = 7,5 gram\n",
    "\n",
    "Bereken met de functies van `scipy.stats`:\n",
    "\n",
    "- 5% weegt minder dan ... gram\n",
    "- de middelste 90% weegt tussen de ... en ... gram\n",
    "- het derde kwart weegt tussen de ... en ... gram\n",
    "- ...% weegt meer dan 40 gram\n",
    "- ...% weegt tussen de 61 en 73 gram"
   ]
  },
  {
   "cell_type": "code",
   "execution_count": 3,
   "metadata": {
    "tags": [
     "student"
    ]
   },
   "outputs": [
    {
     "name": "stdout",
     "output_type": "stream",
     "text": [
      "5% weegt minder dan 37.66 gram\n",
      "middelste 90% weegt tussen de 37.66 en 62.34 gram\n",
      "derde kwart weegt tussen de 50.00 en 55.06 gram\n",
      "90.88% weegt meer dan 40 gram\n",
      "7.02% weegt tussen de 61 en 73 gram\n"
     ]
    }
   ],
   "source": [
    "# Berekening van kans naar waarde\n",
    "mu, sigma = 50, 7.5\n",
    "\n",
    "# scipy.stats functies\n",
    "nv = stats.norm(loc=mu,scale=sigma)\n",
    "\n",
    "print(\"5% weegt minder dan {:.2f} gram\".format(nv.ppf(0.05)))\n",
    "print(\"middelste 90% weegt tussen de {:.2f} en {:.2f} gram\".format(nv.ppf(0.05), nv.ppf(0.95)))\n",
    "print(\"derde kwart weegt tussen de {:.2f} en {:.2f} gram\".format(nv.ppf(0.5), nv.ppf(0.75)))\n",
    "print(\"{:.2f}% weegt meer dan 40 gram\".format((1-nv.cdf(40))*100))\n",
    "print(\"{:.2f}% weegt tussen de 61 en 73 gram\".format((nv.cdf(73) - nv.cdf(61))*100))"
   ]
  },
  {
   "cell_type": "markdown",
   "metadata": {},
   "source": [
    "<a id = \"kv_opdracht2\"></a>\n",
    "## Opdracht 2 - toetsuitslagen\n",
    "\n",
    "\n",
    "In deze opdracht gaan we de toetsuitslagen analyseren van het eerstejaarsvak Programming (PROG).\n",
    "\n",
    "De tentamenuitslagen zijn beschikbaar gesteld in een Excelbestand: uitslag_prog.xlsx"
   ]
  },
  {
   "cell_type": "markdown",
   "metadata": {},
   "source": [
    "### Deel 1. Libraries importeren\n",
    "\n",
    "We zullen voor de analyses gebruik maken van `pandas` en `matplotlib`. Importeer hiervoor de juiste biblioteheken.\n",
    "Matplotlib is standaard geinstalleerd als je Anaconda gebruikt. In de overige gevallen kun je Matplotlib als volgt installeren:\n",
    "\n",
    "1. Open een terminal: Win+R -> cmd -> enter: pip install matplotlib\n",
    "2. Installeer via de anaconda package manager: conda install matplotlib\n",
    "\n",
    "Je kunt natuurlijk ook in Google Colab werken: dan hoef je niks te installeren"
   ]
  },
  {
   "cell_type": "code",
   "execution_count": 4,
   "metadata": {},
   "outputs": [],
   "source": [
    "# Bibliotheken\n",
    "from datetime import datetime\n",
    "import pandas as pd\n",
    "import numpy as np\n",
    "import scipy as sp\n",
    "from scipy import stats\n",
    "import matplotlib.pyplot as plt\n",
    "\n",
    "%matplotlib inline"
   ]
  },
  {
   "cell_type": "markdown",
   "metadata": {},
   "source": [
    "### Deel 2. Analyse dataset\n",
    "In dit deel gaan we de data ophalen, een aantal zaken aanpassen en de eerste analyses uitvoeren.\n"
   ]
  },
  {
   "cell_type": "markdown",
   "metadata": {},
   "source": [
    "- Importeer de dataset in een geschikt dataframe en beschrijf de dataset:\n",
    "  * Wat zijn de dimensies van het dataframe? Wat betekenen deze getallen? **Tip**: gebruik de shape functie\n",
    "  * Wat is de betekenis van de attributen in het dataframe? **Tip**: gebruik de head() functie\n",
    "  * Wat zijn de datatypes voor de attributen (nominaal/categoriaal/discreet/continue)? **Tip**: gebruik de dtypes functie maar denk ook zelf na!"
   ]
  },
  {
   "cell_type": "code",
   "execution_count": 5,
   "metadata": {},
   "outputs": [],
   "source": [
    "# Importeer datasets\n",
    "uitslag_prog = pd.read_excel(\"../CM06_kansverdelingen_en_zscore/uitslag_prog.xlsx\")\n",
    "\n",
    "# Merk op: mogelijk krijg je foutmeldingen, lees deze goed want de oplossing is vaak simpel"
   ]
  },
  {
   "cell_type": "code",
   "execution_count": 6,
   "metadata": {
    "tags": [
     "student"
    ]
   },
   "outputs": [
    {
     "data": {
      "text/html": [
       "<div>\n",
       "<style scoped>\n",
       "    .dataframe tbody tr th:only-of-type {\n",
       "        vertical-align: middle;\n",
       "    }\n",
       "\n",
       "    .dataframe tbody tr th {\n",
       "        vertical-align: top;\n",
       "    }\n",
       "\n",
       "    .dataframe thead th {\n",
       "        text-align: right;\n",
       "    }\n",
       "</style>\n",
       "<table border=\"1\" class=\"dataframe\">\n",
       "  <thead>\n",
       "    <tr style=\"text-align: right;\">\n",
       "      <th></th>\n",
       "      <th>StudentNummer</th>\n",
       "      <th>Eindtijd</th>\n",
       "      <th>Score</th>\n",
       "      <th>Score.1</th>\n",
       "      <th>Score.2</th>\n",
       "      <th>Score.3</th>\n",
       "      <th>Score.4</th>\n",
       "      <th>Score.5</th>\n",
       "      <th>Score.6</th>\n",
       "      <th>Score.7</th>\n",
       "      <th>...</th>\n",
       "      <th>Score.30</th>\n",
       "      <th>Score.31</th>\n",
       "      <th>Score.32</th>\n",
       "      <th>Score.33</th>\n",
       "      <th>Score.34</th>\n",
       "      <th>Score.35</th>\n",
       "      <th>Score.36</th>\n",
       "      <th>Score.37</th>\n",
       "      <th>Score.38</th>\n",
       "      <th>Score.39</th>\n",
       "    </tr>\n",
       "  </thead>\n",
       "  <tbody>\n",
       "    <tr>\n",
       "      <th>0</th>\n",
       "      <td>8751631</td>\n",
       "      <td>2016-10-13 13:24:46.000</td>\n",
       "      <td>0</td>\n",
       "      <td>0</td>\n",
       "      <td>0</td>\n",
       "      <td>1</td>\n",
       "      <td>0</td>\n",
       "      <td>0</td>\n",
       "      <td>1</td>\n",
       "      <td>1</td>\n",
       "      <td>...</td>\n",
       "      <td>0</td>\n",
       "      <td>0</td>\n",
       "      <td>1</td>\n",
       "      <td>0</td>\n",
       "      <td>0</td>\n",
       "      <td>0</td>\n",
       "      <td>1</td>\n",
       "      <td>1</td>\n",
       "      <td>0</td>\n",
       "      <td>0</td>\n",
       "    </tr>\n",
       "    <tr>\n",
       "      <th>1</th>\n",
       "      <td>4897318</td>\n",
       "      <td>2016-10-13 13:06:16.000</td>\n",
       "      <td>0</td>\n",
       "      <td>0</td>\n",
       "      <td>1</td>\n",
       "      <td>1</td>\n",
       "      <td>1</td>\n",
       "      <td>1</td>\n",
       "      <td>1</td>\n",
       "      <td>1</td>\n",
       "      <td>...</td>\n",
       "      <td>1</td>\n",
       "      <td>1</td>\n",
       "      <td>1</td>\n",
       "      <td>1</td>\n",
       "      <td>1</td>\n",
       "      <td>1</td>\n",
       "      <td>1</td>\n",
       "      <td>1</td>\n",
       "      <td>1</td>\n",
       "      <td>1</td>\n",
       "    </tr>\n",
       "    <tr>\n",
       "      <th>2</th>\n",
       "      <td>7749231</td>\n",
       "      <td>2016-10-13 13:06:39.000</td>\n",
       "      <td>0</td>\n",
       "      <td>0</td>\n",
       "      <td>0</td>\n",
       "      <td>1</td>\n",
       "      <td>0</td>\n",
       "      <td>0</td>\n",
       "      <td>1</td>\n",
       "      <td>0</td>\n",
       "      <td>...</td>\n",
       "      <td>1</td>\n",
       "      <td>1</td>\n",
       "      <td>0</td>\n",
       "      <td>0</td>\n",
       "      <td>0</td>\n",
       "      <td>0</td>\n",
       "      <td>0</td>\n",
       "      <td>0</td>\n",
       "      <td>0</td>\n",
       "      <td>0</td>\n",
       "    </tr>\n",
       "    <tr>\n",
       "      <th>3</th>\n",
       "      <td>2170653</td>\n",
       "      <td>2016-10-13 11:11:01.000</td>\n",
       "      <td>0</td>\n",
       "      <td>0</td>\n",
       "      <td>1</td>\n",
       "      <td>1</td>\n",
       "      <td>1</td>\n",
       "      <td>0</td>\n",
       "      <td>1</td>\n",
       "      <td>0</td>\n",
       "      <td>...</td>\n",
       "      <td>1</td>\n",
       "      <td>0</td>\n",
       "      <td>1</td>\n",
       "      <td>1</td>\n",
       "      <td>1</td>\n",
       "      <td>1</td>\n",
       "      <td>1</td>\n",
       "      <td>1</td>\n",
       "      <td>0</td>\n",
       "      <td>0</td>\n",
       "    </tr>\n",
       "    <tr>\n",
       "      <th>4</th>\n",
       "      <td>5540046</td>\n",
       "      <td>2016-10-13 13:22:07.000</td>\n",
       "      <td>1</td>\n",
       "      <td>0</td>\n",
       "      <td>1</td>\n",
       "      <td>1</td>\n",
       "      <td>1</td>\n",
       "      <td>1</td>\n",
       "      <td>1</td>\n",
       "      <td>0</td>\n",
       "      <td>...</td>\n",
       "      <td>1</td>\n",
       "      <td>1</td>\n",
       "      <td>1</td>\n",
       "      <td>1</td>\n",
       "      <td>1</td>\n",
       "      <td>0</td>\n",
       "      <td>1</td>\n",
       "      <td>1</td>\n",
       "      <td>1</td>\n",
       "      <td>1</td>\n",
       "    </tr>\n",
       "    <tr>\n",
       "      <th>...</th>\n",
       "      <td>...</td>\n",
       "      <td>...</td>\n",
       "      <td>...</td>\n",
       "      <td>...</td>\n",
       "      <td>...</td>\n",
       "      <td>...</td>\n",
       "      <td>...</td>\n",
       "      <td>...</td>\n",
       "      <td>...</td>\n",
       "      <td>...</td>\n",
       "      <td>...</td>\n",
       "      <td>...</td>\n",
       "      <td>...</td>\n",
       "      <td>...</td>\n",
       "      <td>...</td>\n",
       "      <td>...</td>\n",
       "      <td>...</td>\n",
       "      <td>...</td>\n",
       "      <td>...</td>\n",
       "      <td>...</td>\n",
       "      <td>...</td>\n",
       "    </tr>\n",
       "    <tr>\n",
       "      <th>448</th>\n",
       "      <td>1125404</td>\n",
       "      <td>2016-10-13 10:54:48.000</td>\n",
       "      <td>0</td>\n",
       "      <td>0</td>\n",
       "      <td>1</td>\n",
       "      <td>1</td>\n",
       "      <td>1</td>\n",
       "      <td>1</td>\n",
       "      <td>1</td>\n",
       "      <td>0</td>\n",
       "      <td>...</td>\n",
       "      <td>1</td>\n",
       "      <td>1</td>\n",
       "      <td>0</td>\n",
       "      <td>1</td>\n",
       "      <td>1</td>\n",
       "      <td>1</td>\n",
       "      <td>1</td>\n",
       "      <td>1</td>\n",
       "      <td>1</td>\n",
       "      <td>1</td>\n",
       "    </tr>\n",
       "    <tr>\n",
       "      <th>449</th>\n",
       "      <td>8552327</td>\n",
       "      <td>2016-10-13 11:08:35.000</td>\n",
       "      <td>1</td>\n",
       "      <td>0</td>\n",
       "      <td>1</td>\n",
       "      <td>1</td>\n",
       "      <td>1</td>\n",
       "      <td>1</td>\n",
       "      <td>1</td>\n",
       "      <td>0</td>\n",
       "      <td>...</td>\n",
       "      <td>0</td>\n",
       "      <td>1</td>\n",
       "      <td>1</td>\n",
       "      <td>0</td>\n",
       "      <td>1</td>\n",
       "      <td>1</td>\n",
       "      <td>1</td>\n",
       "      <td>1</td>\n",
       "      <td>1</td>\n",
       "      <td>1</td>\n",
       "    </tr>\n",
       "    <tr>\n",
       "      <th>450</th>\n",
       "      <td>6831151</td>\n",
       "      <td>2016-10-13 13:17:02.000</td>\n",
       "      <td>0</td>\n",
       "      <td>0</td>\n",
       "      <td>0</td>\n",
       "      <td>0</td>\n",
       "      <td>1</td>\n",
       "      <td>1</td>\n",
       "      <td>1</td>\n",
       "      <td>1</td>\n",
       "      <td>...</td>\n",
       "      <td>1</td>\n",
       "      <td>0</td>\n",
       "      <td>1</td>\n",
       "      <td>1</td>\n",
       "      <td>1</td>\n",
       "      <td>1</td>\n",
       "      <td>1</td>\n",
       "      <td>1</td>\n",
       "      <td>0</td>\n",
       "      <td>1</td>\n",
       "    </tr>\n",
       "    <tr>\n",
       "      <th>451</th>\n",
       "      <td>4305117</td>\n",
       "      <td>2016-10-13 14:04:10.000</td>\n",
       "      <td>1</td>\n",
       "      <td>0</td>\n",
       "      <td>1</td>\n",
       "      <td>1</td>\n",
       "      <td>0</td>\n",
       "      <td>1</td>\n",
       "      <td>1</td>\n",
       "      <td>1</td>\n",
       "      <td>...</td>\n",
       "      <td>0</td>\n",
       "      <td>0</td>\n",
       "      <td>1</td>\n",
       "      <td>0</td>\n",
       "      <td>1</td>\n",
       "      <td>1</td>\n",
       "      <td>1</td>\n",
       "      <td>1</td>\n",
       "      <td>0</td>\n",
       "      <td>1</td>\n",
       "    </tr>\n",
       "    <tr>\n",
       "      <th>452</th>\n",
       "      <td>4927124</td>\n",
       "      <td>2016-10-13 10:59:26.000</td>\n",
       "      <td>0</td>\n",
       "      <td>0</td>\n",
       "      <td>0</td>\n",
       "      <td>1</td>\n",
       "      <td>1</td>\n",
       "      <td>1</td>\n",
       "      <td>1</td>\n",
       "      <td>0</td>\n",
       "      <td>...</td>\n",
       "      <td>1</td>\n",
       "      <td>1</td>\n",
       "      <td>0</td>\n",
       "      <td>1</td>\n",
       "      <td>1</td>\n",
       "      <td>1</td>\n",
       "      <td>1</td>\n",
       "      <td>1</td>\n",
       "      <td>0</td>\n",
       "      <td>1</td>\n",
       "    </tr>\n",
       "  </tbody>\n",
       "</table>\n",
       "<p>453 rows × 42 columns</p>\n",
       "</div>"
      ],
      "text/plain": [
       "     StudentNummer                 Eindtijd  Score  Score.1  Score.2  Score.3  \\\n",
       "0          8751631  2016-10-13 13:24:46.000      0        0        0        1   \n",
       "1          4897318  2016-10-13 13:06:16.000      0        0        1        1   \n",
       "2          7749231  2016-10-13 13:06:39.000      0        0        0        1   \n",
       "3          2170653  2016-10-13 11:11:01.000      0        0        1        1   \n",
       "4          5540046  2016-10-13 13:22:07.000      1        0        1        1   \n",
       "..             ...                      ...    ...      ...      ...      ...   \n",
       "448        1125404  2016-10-13 10:54:48.000      0        0        1        1   \n",
       "449        8552327  2016-10-13 11:08:35.000      1        0        1        1   \n",
       "450        6831151  2016-10-13 13:17:02.000      0        0        0        0   \n",
       "451        4305117  2016-10-13 14:04:10.000      1        0        1        1   \n",
       "452        4927124  2016-10-13 10:59:26.000      0        0        0        1   \n",
       "\n",
       "     Score.4  Score.5  Score.6  Score.7  ...  Score.30  Score.31  Score.32  \\\n",
       "0          0        0        1        1  ...         0         0         1   \n",
       "1          1        1        1        1  ...         1         1         1   \n",
       "2          0        0        1        0  ...         1         1         0   \n",
       "3          1        0        1        0  ...         1         0         1   \n",
       "4          1        1        1        0  ...         1         1         1   \n",
       "..       ...      ...      ...      ...  ...       ...       ...       ...   \n",
       "448        1        1        1        0  ...         1         1         0   \n",
       "449        1        1        1        0  ...         0         1         1   \n",
       "450        1        1        1        1  ...         1         0         1   \n",
       "451        0        1        1        1  ...         0         0         1   \n",
       "452        1        1        1        0  ...         1         1         0   \n",
       "\n",
       "     Score.33  Score.34  Score.35  Score.36  Score.37  Score.38  Score.39  \n",
       "0           0         0         0         1         1         0         0  \n",
       "1           1         1         1         1         1         1         1  \n",
       "2           0         0         0         0         0         0         0  \n",
       "3           1         1         1         1         1         0         0  \n",
       "4           1         1         0         1         1         1         1  \n",
       "..        ...       ...       ...       ...       ...       ...       ...  \n",
       "448         1         1         1         1         1         1         1  \n",
       "449         0         1         1         1         1         1         1  \n",
       "450         1         1         1         1         1         0         1  \n",
       "451         0         1         1         1         1         0         1  \n",
       "452         1         1         1         1         1         0         1  \n",
       "\n",
       "[453 rows x 42 columns]"
      ]
     },
     "execution_count": 6,
     "metadata": {},
     "output_type": "execute_result"
    }
   ],
   "source": [
    "uitslag_prog"
   ]
  },
  {
   "cell_type": "markdown",
   "metadata": {},
   "source": [
    "***Tip 1: schoon niet alleen de inhoud van de data op, maar ook de labels / namen***\n",
    "\n",
    "De Excel-file bevatte dezelfde header-name voor alle scores. De importer heeft dit voor je opgelost door duplicate header-namen te nummeren. Nadeel is echter dat de eerste zelf geen nummer heeft. Manipuleer de headers zodat de telling begint met Score.1 ipv. Score (merk op dat Score.1 dan hernoemt moet worden naar Score.2, etc.). Toon hierna de eerste 10 regels van het dataframe.\n",
    "\n",
    "\n"
   ]
  },
  {
   "cell_type": "code",
   "execution_count": 7,
   "metadata": {},
   "outputs": [],
   "source": [
    "# Code voor het hernoemen\n",
    "columns=lambda x: x[1:]\n",
    "\n",
    "replacements = {\"Score.\" + str(i) : \"Score_\" + str(i+1)  for i in range(1, 40)}\n",
    "replacements[\"Score\"] = \"Score_1\""
   ]
  },
  {
   "cell_type": "code",
   "execution_count": 8,
   "metadata": {},
   "outputs": [],
   "source": [
    "# Hernoemen van de columns van het dataframe\n",
    "uitslag_prog.rename(columns=replacements, inplace=True)"
   ]
  },
  {
   "cell_type": "code",
   "execution_count": 9,
   "metadata": {},
   "outputs": [
    {
     "data": {
      "text/html": [
       "<div>\n",
       "<style scoped>\n",
       "    .dataframe tbody tr th:only-of-type {\n",
       "        vertical-align: middle;\n",
       "    }\n",
       "\n",
       "    .dataframe tbody tr th {\n",
       "        vertical-align: top;\n",
       "    }\n",
       "\n",
       "    .dataframe thead th {\n",
       "        text-align: right;\n",
       "    }\n",
       "</style>\n",
       "<table border=\"1\" class=\"dataframe\">\n",
       "  <thead>\n",
       "    <tr style=\"text-align: right;\">\n",
       "      <th></th>\n",
       "      <th>StudentNummer</th>\n",
       "      <th>Eindtijd</th>\n",
       "      <th>Score_1</th>\n",
       "      <th>Score_2</th>\n",
       "      <th>Score_3</th>\n",
       "      <th>Score_4</th>\n",
       "      <th>Score_5</th>\n",
       "      <th>Score_6</th>\n",
       "      <th>Score_7</th>\n",
       "      <th>Score_8</th>\n",
       "      <th>...</th>\n",
       "      <th>Score_31</th>\n",
       "      <th>Score_32</th>\n",
       "      <th>Score_33</th>\n",
       "      <th>Score_34</th>\n",
       "      <th>Score_35</th>\n",
       "      <th>Score_36</th>\n",
       "      <th>Score_37</th>\n",
       "      <th>Score_38</th>\n",
       "      <th>Score_39</th>\n",
       "      <th>Score_40</th>\n",
       "    </tr>\n",
       "  </thead>\n",
       "  <tbody>\n",
       "    <tr>\n",
       "      <th>0</th>\n",
       "      <td>8751631</td>\n",
       "      <td>2016-10-13 13:24:46.000</td>\n",
       "      <td>0</td>\n",
       "      <td>0</td>\n",
       "      <td>0</td>\n",
       "      <td>1</td>\n",
       "      <td>0</td>\n",
       "      <td>0</td>\n",
       "      <td>1</td>\n",
       "      <td>1</td>\n",
       "      <td>...</td>\n",
       "      <td>0</td>\n",
       "      <td>0</td>\n",
       "      <td>1</td>\n",
       "      <td>0</td>\n",
       "      <td>0</td>\n",
       "      <td>0</td>\n",
       "      <td>1</td>\n",
       "      <td>1</td>\n",
       "      <td>0</td>\n",
       "      <td>0</td>\n",
       "    </tr>\n",
       "    <tr>\n",
       "      <th>1</th>\n",
       "      <td>4897318</td>\n",
       "      <td>2016-10-13 13:06:16.000</td>\n",
       "      <td>0</td>\n",
       "      <td>0</td>\n",
       "      <td>1</td>\n",
       "      <td>1</td>\n",
       "      <td>1</td>\n",
       "      <td>1</td>\n",
       "      <td>1</td>\n",
       "      <td>1</td>\n",
       "      <td>...</td>\n",
       "      <td>1</td>\n",
       "      <td>1</td>\n",
       "      <td>1</td>\n",
       "      <td>1</td>\n",
       "      <td>1</td>\n",
       "      <td>1</td>\n",
       "      <td>1</td>\n",
       "      <td>1</td>\n",
       "      <td>1</td>\n",
       "      <td>1</td>\n",
       "    </tr>\n",
       "    <tr>\n",
       "      <th>2</th>\n",
       "      <td>7749231</td>\n",
       "      <td>2016-10-13 13:06:39.000</td>\n",
       "      <td>0</td>\n",
       "      <td>0</td>\n",
       "      <td>0</td>\n",
       "      <td>1</td>\n",
       "      <td>0</td>\n",
       "      <td>0</td>\n",
       "      <td>1</td>\n",
       "      <td>0</td>\n",
       "      <td>...</td>\n",
       "      <td>1</td>\n",
       "      <td>1</td>\n",
       "      <td>0</td>\n",
       "      <td>0</td>\n",
       "      <td>0</td>\n",
       "      <td>0</td>\n",
       "      <td>0</td>\n",
       "      <td>0</td>\n",
       "      <td>0</td>\n",
       "      <td>0</td>\n",
       "    </tr>\n",
       "    <tr>\n",
       "      <th>3</th>\n",
       "      <td>2170653</td>\n",
       "      <td>2016-10-13 11:11:01.000</td>\n",
       "      <td>0</td>\n",
       "      <td>0</td>\n",
       "      <td>1</td>\n",
       "      <td>1</td>\n",
       "      <td>1</td>\n",
       "      <td>0</td>\n",
       "      <td>1</td>\n",
       "      <td>0</td>\n",
       "      <td>...</td>\n",
       "      <td>1</td>\n",
       "      <td>0</td>\n",
       "      <td>1</td>\n",
       "      <td>1</td>\n",
       "      <td>1</td>\n",
       "      <td>1</td>\n",
       "      <td>1</td>\n",
       "      <td>1</td>\n",
       "      <td>0</td>\n",
       "      <td>0</td>\n",
       "    </tr>\n",
       "    <tr>\n",
       "      <th>4</th>\n",
       "      <td>5540046</td>\n",
       "      <td>2016-10-13 13:22:07.000</td>\n",
       "      <td>1</td>\n",
       "      <td>0</td>\n",
       "      <td>1</td>\n",
       "      <td>1</td>\n",
       "      <td>1</td>\n",
       "      <td>1</td>\n",
       "      <td>1</td>\n",
       "      <td>0</td>\n",
       "      <td>...</td>\n",
       "      <td>1</td>\n",
       "      <td>1</td>\n",
       "      <td>1</td>\n",
       "      <td>1</td>\n",
       "      <td>1</td>\n",
       "      <td>0</td>\n",
       "      <td>1</td>\n",
       "      <td>1</td>\n",
       "      <td>1</td>\n",
       "      <td>1</td>\n",
       "    </tr>\n",
       "  </tbody>\n",
       "</table>\n",
       "<p>5 rows × 42 columns</p>\n",
       "</div>"
      ],
      "text/plain": [
       "   StudentNummer                 Eindtijd  Score_1  Score_2  Score_3  Score_4  \\\n",
       "0        8751631  2016-10-13 13:24:46.000        0        0        0        1   \n",
       "1        4897318  2016-10-13 13:06:16.000        0        0        1        1   \n",
       "2        7749231  2016-10-13 13:06:39.000        0        0        0        1   \n",
       "3        2170653  2016-10-13 11:11:01.000        0        0        1        1   \n",
       "4        5540046  2016-10-13 13:22:07.000        1        0        1        1   \n",
       "\n",
       "   Score_5  Score_6  Score_7  Score_8  ...  Score_31  Score_32  Score_33  \\\n",
       "0        0        0        1        1  ...         0         0         1   \n",
       "1        1        1        1        1  ...         1         1         1   \n",
       "2        0        0        1        0  ...         1         1         0   \n",
       "3        1        0        1        0  ...         1         0         1   \n",
       "4        1        1        1        0  ...         1         1         1   \n",
       "\n",
       "   Score_34  Score_35  Score_36  Score_37  Score_38  Score_39  Score_40  \n",
       "0         0         0         0         1         1         0         0  \n",
       "1         1         1         1         1         1         1         1  \n",
       "2         0         0         0         0         0         0         0  \n",
       "3         1         1         1         1         1         0         0  \n",
       "4         1         1         0         1         1         1         1  \n",
       "\n",
       "[5 rows x 42 columns]"
      ]
     },
     "execution_count": 9,
     "metadata": {},
     "output_type": "execute_result"
    }
   ],
   "source": [
    "uitslag_prog.head()"
   ]
  },
  {
   "cell_type": "markdown",
   "metadata": {},
   "source": [
    "Het datatype van kolom 'eindtijd' zou overduidelijk een tijdstip moeten zijn, maar `dtypes` geeft aan dat het een object is. Converteer deze kolom naar een datetime. **Tip**: gebruik `to_datetime()` van Pandas. Controleer jouw actie met de `info()` functie."
   ]
  },
  {
   "cell_type": "code",
   "execution_count": 10,
   "metadata": {
    "tags": [
     "student"
    ]
   },
   "outputs": [],
   "source": [
    "uitslag_prog['Eindtijd'] = pd.to_datetime(uitslag_prog['Eindtijd'])"
   ]
  },
  {
   "cell_type": "code",
   "execution_count": 11,
   "metadata": {},
   "outputs": [
    {
     "name": "stdout",
     "output_type": "stream",
     "text": [
      "<class 'pandas.core.frame.DataFrame'>\n",
      "RangeIndex: 453 entries, 0 to 452\n",
      "Data columns (total 42 columns):\n",
      " #   Column         Non-Null Count  Dtype         \n",
      "---  ------         --------------  -----         \n",
      " 0   StudentNummer  453 non-null    int64         \n",
      " 1   Eindtijd       453 non-null    datetime64[ns]\n",
      " 2   Score_1        453 non-null    int64         \n",
      " 3   Score_2        453 non-null    int64         \n",
      " 4   Score_3        453 non-null    int64         \n",
      " 5   Score_4        453 non-null    int64         \n",
      " 6   Score_5        453 non-null    int64         \n",
      " 7   Score_6        453 non-null    int64         \n",
      " 8   Score_7        453 non-null    int64         \n",
      " 9   Score_8        453 non-null    int64         \n",
      " 10  Score_9        453 non-null    int64         \n",
      " 11  Score_10       453 non-null    int64         \n",
      " 12  Score_11       453 non-null    int64         \n",
      " 13  Score_12       453 non-null    int64         \n",
      " 14  Score_13       453 non-null    int64         \n",
      " 15  Score_14       453 non-null    int64         \n",
      " 16  Score_15       453 non-null    int64         \n",
      " 17  Score_16       453 non-null    int64         \n",
      " 18  Score_17       453 non-null    int64         \n",
      " 19  Score_18       453 non-null    int64         \n",
      " 20  Score_19       453 non-null    int64         \n",
      " 21  Score_20       453 non-null    int64         \n",
      " 22  Score_21       453 non-null    int64         \n",
      " 23  Score_22       453 non-null    int64         \n",
      " 24  Score_23       453 non-null    int64         \n",
      " 25  Score_24       453 non-null    int64         \n",
      " 26  Score_25       453 non-null    int64         \n",
      " 27  Score_26       453 non-null    int64         \n",
      " 28  Score_27       453 non-null    int64         \n",
      " 29  Score_28       453 non-null    int64         \n",
      " 30  Score_29       453 non-null    int64         \n",
      " 31  Score_30       453 non-null    int64         \n",
      " 32  Score_31       453 non-null    int64         \n",
      " 33  Score_32       453 non-null    int64         \n",
      " 34  Score_33       453 non-null    int64         \n",
      " 35  Score_34       453 non-null    int64         \n",
      " 36  Score_35       453 non-null    int64         \n",
      " 37  Score_36       453 non-null    int64         \n",
      " 38  Score_37       453 non-null    int64         \n",
      " 39  Score_38       453 non-null    int64         \n",
      " 40  Score_39       453 non-null    int64         \n",
      " 41  Score_40       453 non-null    int64         \n",
      "dtypes: datetime64[ns](1), int64(41)\n",
      "memory usage: 148.8 KB\n"
     ]
    }
   ],
   "source": [
    "uitslag_prog.info()"
   ]
  },
  {
   "cell_type": "markdown",
   "metadata": {},
   "source": [
    "Bepaal een paar statistieken van de dataset met de `describe()` functie. Wat betekenen deze getallen?\n"
   ]
  },
  {
   "cell_type": "code",
   "execution_count": 12,
   "metadata": {
    "tags": [
     "student"
    ]
   },
   "outputs": [
    {
     "data": {
      "text/html": [
       "<div>\n",
       "<style scoped>\n",
       "    .dataframe tbody tr th:only-of-type {\n",
       "        vertical-align: middle;\n",
       "    }\n",
       "\n",
       "    .dataframe tbody tr th {\n",
       "        vertical-align: top;\n",
       "    }\n",
       "\n",
       "    .dataframe thead th {\n",
       "        text-align: right;\n",
       "    }\n",
       "</style>\n",
       "<table border=\"1\" class=\"dataframe\">\n",
       "  <thead>\n",
       "    <tr style=\"text-align: right;\">\n",
       "      <th></th>\n",
       "      <th>StudentNummer</th>\n",
       "      <th>Eindtijd</th>\n",
       "      <th>Score_1</th>\n",
       "      <th>Score_2</th>\n",
       "      <th>Score_3</th>\n",
       "      <th>Score_4</th>\n",
       "      <th>Score_5</th>\n",
       "      <th>Score_6</th>\n",
       "      <th>Score_7</th>\n",
       "      <th>Score_8</th>\n",
       "      <th>...</th>\n",
       "      <th>Score_31</th>\n",
       "      <th>Score_32</th>\n",
       "      <th>Score_33</th>\n",
       "      <th>Score_34</th>\n",
       "      <th>Score_35</th>\n",
       "      <th>Score_36</th>\n",
       "      <th>Score_37</th>\n",
       "      <th>Score_38</th>\n",
       "      <th>Score_39</th>\n",
       "      <th>Score_40</th>\n",
       "    </tr>\n",
       "  </thead>\n",
       "  <tbody>\n",
       "    <tr>\n",
       "      <th>count</th>\n",
       "      <td>4.530000e+02</td>\n",
       "      <td>453</td>\n",
       "      <td>453.000000</td>\n",
       "      <td>453.000000</td>\n",
       "      <td>453.000000</td>\n",
       "      <td>453.000000</td>\n",
       "      <td>453.000000</td>\n",
       "      <td>453.000000</td>\n",
       "      <td>453.000000</td>\n",
       "      <td>453.000000</td>\n",
       "      <td>...</td>\n",
       "      <td>453.000000</td>\n",
       "      <td>453.000000</td>\n",
       "      <td>453.000000</td>\n",
       "      <td>453.000000</td>\n",
       "      <td>453.000000</td>\n",
       "      <td>453.000000</td>\n",
       "      <td>453.000000</td>\n",
       "      <td>453.000000</td>\n",
       "      <td>453.000000</td>\n",
       "      <td>453.000000</td>\n",
       "    </tr>\n",
       "    <tr>\n",
       "      <th>mean</th>\n",
       "      <td>5.380351e+06</td>\n",
       "      <td>2016-10-13 12:15:20.081677568</td>\n",
       "      <td>0.381898</td>\n",
       "      <td>0.273731</td>\n",
       "      <td>0.624724</td>\n",
       "      <td>0.768212</td>\n",
       "      <td>0.754967</td>\n",
       "      <td>0.657837</td>\n",
       "      <td>0.810155</td>\n",
       "      <td>0.426049</td>\n",
       "      <td>...</td>\n",
       "      <td>0.730684</td>\n",
       "      <td>0.772627</td>\n",
       "      <td>0.673289</td>\n",
       "      <td>0.653422</td>\n",
       "      <td>0.836645</td>\n",
       "      <td>0.706402</td>\n",
       "      <td>0.935982</td>\n",
       "      <td>0.790287</td>\n",
       "      <td>0.406181</td>\n",
       "      <td>0.876380</td>\n",
       "    </tr>\n",
       "    <tr>\n",
       "      <th>min</th>\n",
       "      <td>1.024103e+06</td>\n",
       "      <td>2016-10-13 10:29:51</td>\n",
       "      <td>0.000000</td>\n",
       "      <td>0.000000</td>\n",
       "      <td>0.000000</td>\n",
       "      <td>0.000000</td>\n",
       "      <td>0.000000</td>\n",
       "      <td>0.000000</td>\n",
       "      <td>0.000000</td>\n",
       "      <td>0.000000</td>\n",
       "      <td>...</td>\n",
       "      <td>0.000000</td>\n",
       "      <td>0.000000</td>\n",
       "      <td>0.000000</td>\n",
       "      <td>0.000000</td>\n",
       "      <td>0.000000</td>\n",
       "      <td>0.000000</td>\n",
       "      <td>0.000000</td>\n",
       "      <td>0.000000</td>\n",
       "      <td>0.000000</td>\n",
       "      <td>0.000000</td>\n",
       "    </tr>\n",
       "    <tr>\n",
       "      <th>25%</th>\n",
       "      <td>3.014301e+06</td>\n",
       "      <td>2016-10-13 11:06:13</td>\n",
       "      <td>0.000000</td>\n",
       "      <td>0.000000</td>\n",
       "      <td>0.000000</td>\n",
       "      <td>1.000000</td>\n",
       "      <td>1.000000</td>\n",
       "      <td>0.000000</td>\n",
       "      <td>1.000000</td>\n",
       "      <td>0.000000</td>\n",
       "      <td>...</td>\n",
       "      <td>0.000000</td>\n",
       "      <td>1.000000</td>\n",
       "      <td>0.000000</td>\n",
       "      <td>0.000000</td>\n",
       "      <td>1.000000</td>\n",
       "      <td>0.000000</td>\n",
       "      <td>1.000000</td>\n",
       "      <td>1.000000</td>\n",
       "      <td>0.000000</td>\n",
       "      <td>1.000000</td>\n",
       "    </tr>\n",
       "    <tr>\n",
       "      <th>50%</th>\n",
       "      <td>5.110934e+06</td>\n",
       "      <td>2016-10-13 12:52:38</td>\n",
       "      <td>0.000000</td>\n",
       "      <td>0.000000</td>\n",
       "      <td>1.000000</td>\n",
       "      <td>1.000000</td>\n",
       "      <td>1.000000</td>\n",
       "      <td>1.000000</td>\n",
       "      <td>1.000000</td>\n",
       "      <td>0.000000</td>\n",
       "      <td>...</td>\n",
       "      <td>1.000000</td>\n",
       "      <td>1.000000</td>\n",
       "      <td>1.000000</td>\n",
       "      <td>1.000000</td>\n",
       "      <td>1.000000</td>\n",
       "      <td>1.000000</td>\n",
       "      <td>1.000000</td>\n",
       "      <td>1.000000</td>\n",
       "      <td>0.000000</td>\n",
       "      <td>1.000000</td>\n",
       "    </tr>\n",
       "    <tr>\n",
       "      <th>75%</th>\n",
       "      <td>7.899777e+06</td>\n",
       "      <td>2016-10-13 13:09:51</td>\n",
       "      <td>1.000000</td>\n",
       "      <td>1.000000</td>\n",
       "      <td>1.000000</td>\n",
       "      <td>1.000000</td>\n",
       "      <td>1.000000</td>\n",
       "      <td>1.000000</td>\n",
       "      <td>1.000000</td>\n",
       "      <td>1.000000</td>\n",
       "      <td>...</td>\n",
       "      <td>1.000000</td>\n",
       "      <td>1.000000</td>\n",
       "      <td>1.000000</td>\n",
       "      <td>1.000000</td>\n",
       "      <td>1.000000</td>\n",
       "      <td>1.000000</td>\n",
       "      <td>1.000000</td>\n",
       "      <td>1.000000</td>\n",
       "      <td>1.000000</td>\n",
       "      <td>1.000000</td>\n",
       "    </tr>\n",
       "    <tr>\n",
       "      <th>max</th>\n",
       "      <td>9.960037e+06</td>\n",
       "      <td>2016-10-13 14:04:56</td>\n",
       "      <td>1.000000</td>\n",
       "      <td>1.000000</td>\n",
       "      <td>1.000000</td>\n",
       "      <td>1.000000</td>\n",
       "      <td>1.000000</td>\n",
       "      <td>1.000000</td>\n",
       "      <td>1.000000</td>\n",
       "      <td>1.000000</td>\n",
       "      <td>...</td>\n",
       "      <td>1.000000</td>\n",
       "      <td>1.000000</td>\n",
       "      <td>1.000000</td>\n",
       "      <td>1.000000</td>\n",
       "      <td>1.000000</td>\n",
       "      <td>1.000000</td>\n",
       "      <td>1.000000</td>\n",
       "      <td>1.000000</td>\n",
       "      <td>1.000000</td>\n",
       "      <td>1.000000</td>\n",
       "    </tr>\n",
       "    <tr>\n",
       "      <th>std</th>\n",
       "      <td>2.688709e+06</td>\n",
       "      <td>NaN</td>\n",
       "      <td>0.486389</td>\n",
       "      <td>0.446365</td>\n",
       "      <td>0.484729</td>\n",
       "      <td>0.422441</td>\n",
       "      <td>0.430582</td>\n",
       "      <td>0.474958</td>\n",
       "      <td>0.392612</td>\n",
       "      <td>0.495048</td>\n",
       "      <td>...</td>\n",
       "      <td>0.444095</td>\n",
       "      <td>0.419599</td>\n",
       "      <td>0.469529</td>\n",
       "      <td>0.476406</td>\n",
       "      <td>0.370098</td>\n",
       "      <td>0.455914</td>\n",
       "      <td>0.245055</td>\n",
       "      <td>0.407554</td>\n",
       "      <td>0.491662</td>\n",
       "      <td>0.329512</td>\n",
       "    </tr>\n",
       "  </tbody>\n",
       "</table>\n",
       "<p>8 rows × 42 columns</p>\n",
       "</div>"
      ],
      "text/plain": [
       "       StudentNummer                       Eindtijd     Score_1     Score_2  \\\n",
       "count   4.530000e+02                            453  453.000000  453.000000   \n",
       "mean    5.380351e+06  2016-10-13 12:15:20.081677568    0.381898    0.273731   \n",
       "min     1.024103e+06            2016-10-13 10:29:51    0.000000    0.000000   \n",
       "25%     3.014301e+06            2016-10-13 11:06:13    0.000000    0.000000   \n",
       "50%     5.110934e+06            2016-10-13 12:52:38    0.000000    0.000000   \n",
       "75%     7.899777e+06            2016-10-13 13:09:51    1.000000    1.000000   \n",
       "max     9.960037e+06            2016-10-13 14:04:56    1.000000    1.000000   \n",
       "std     2.688709e+06                            NaN    0.486389    0.446365   \n",
       "\n",
       "          Score_3     Score_4     Score_5     Score_6     Score_7     Score_8  \\\n",
       "count  453.000000  453.000000  453.000000  453.000000  453.000000  453.000000   \n",
       "mean     0.624724    0.768212    0.754967    0.657837    0.810155    0.426049   \n",
       "min      0.000000    0.000000    0.000000    0.000000    0.000000    0.000000   \n",
       "25%      0.000000    1.000000    1.000000    0.000000    1.000000    0.000000   \n",
       "50%      1.000000    1.000000    1.000000    1.000000    1.000000    0.000000   \n",
       "75%      1.000000    1.000000    1.000000    1.000000    1.000000    1.000000   \n",
       "max      1.000000    1.000000    1.000000    1.000000    1.000000    1.000000   \n",
       "std      0.484729    0.422441    0.430582    0.474958    0.392612    0.495048   \n",
       "\n",
       "       ...    Score_31    Score_32    Score_33    Score_34    Score_35  \\\n",
       "count  ...  453.000000  453.000000  453.000000  453.000000  453.000000   \n",
       "mean   ...    0.730684    0.772627    0.673289    0.653422    0.836645   \n",
       "min    ...    0.000000    0.000000    0.000000    0.000000    0.000000   \n",
       "25%    ...    0.000000    1.000000    0.000000    0.000000    1.000000   \n",
       "50%    ...    1.000000    1.000000    1.000000    1.000000    1.000000   \n",
       "75%    ...    1.000000    1.000000    1.000000    1.000000    1.000000   \n",
       "max    ...    1.000000    1.000000    1.000000    1.000000    1.000000   \n",
       "std    ...    0.444095    0.419599    0.469529    0.476406    0.370098   \n",
       "\n",
       "         Score_36    Score_37    Score_38    Score_39    Score_40  \n",
       "count  453.000000  453.000000  453.000000  453.000000  453.000000  \n",
       "mean     0.706402    0.935982    0.790287    0.406181    0.876380  \n",
       "min      0.000000    0.000000    0.000000    0.000000    0.000000  \n",
       "25%      0.000000    1.000000    1.000000    0.000000    1.000000  \n",
       "50%      1.000000    1.000000    1.000000    0.000000    1.000000  \n",
       "75%      1.000000    1.000000    1.000000    1.000000    1.000000  \n",
       "max      1.000000    1.000000    1.000000    1.000000    1.000000  \n",
       "std      0.455914    0.245055    0.407554    0.491662    0.329512  \n",
       "\n",
       "[8 rows x 42 columns]"
      ]
     },
     "execution_count": 12,
     "metadata": {},
     "output_type": "execute_result"
    }
   ],
   "source": [
    "uitslag_prog.describe()"
   ]
  },
  {
   "cell_type": "markdown",
   "metadata": {},
   "source": [
    "StudentNummer wordt behandeld als een continue getal, maar eigenlijk zou het type nominaal moet zijn. Converteer het type van StudentNummer naar Categorial m.b.v. `astype`. Voer nu nogmaals `describe()` uit. Wat is er veranderd?\n"
   ]
  },
  {
   "cell_type": "code",
   "execution_count": 13,
   "metadata": {
    "tags": [
     "student"
    ]
   },
   "outputs": [],
   "source": [
    "uitslag_prog['StudentNummer'] = uitslag_prog['StudentNummer'].astype(\"category\")"
   ]
  },
  {
   "cell_type": "code",
   "execution_count": 14,
   "metadata": {},
   "outputs": [
    {
     "name": "stdout",
     "output_type": "stream",
     "text": [
      "<class 'pandas.core.frame.DataFrame'>\n",
      "RangeIndex: 453 entries, 0 to 452\n",
      "Data columns (total 42 columns):\n",
      " #   Column         Non-Null Count  Dtype         \n",
      "---  ------         --------------  -----         \n",
      " 0   StudentNummer  453 non-null    category      \n",
      " 1   Eindtijd       453 non-null    datetime64[ns]\n",
      " 2   Score_1        453 non-null    int64         \n",
      " 3   Score_2        453 non-null    int64         \n",
      " 4   Score_3        453 non-null    int64         \n",
      " 5   Score_4        453 non-null    int64         \n",
      " 6   Score_5        453 non-null    int64         \n",
      " 7   Score_6        453 non-null    int64         \n",
      " 8   Score_7        453 non-null    int64         \n",
      " 9   Score_8        453 non-null    int64         \n",
      " 10  Score_9        453 non-null    int64         \n",
      " 11  Score_10       453 non-null    int64         \n",
      " 12  Score_11       453 non-null    int64         \n",
      " 13  Score_12       453 non-null    int64         \n",
      " 14  Score_13       453 non-null    int64         \n",
      " 15  Score_14       453 non-null    int64         \n",
      " 16  Score_15       453 non-null    int64         \n",
      " 17  Score_16       453 non-null    int64         \n",
      " 18  Score_17       453 non-null    int64         \n",
      " 19  Score_18       453 non-null    int64         \n",
      " 20  Score_19       453 non-null    int64         \n",
      " 21  Score_20       453 non-null    int64         \n",
      " 22  Score_21       453 non-null    int64         \n",
      " 23  Score_22       453 non-null    int64         \n",
      " 24  Score_23       453 non-null    int64         \n",
      " 25  Score_24       453 non-null    int64         \n",
      " 26  Score_25       453 non-null    int64         \n",
      " 27  Score_26       453 non-null    int64         \n",
      " 28  Score_27       453 non-null    int64         \n",
      " 29  Score_28       453 non-null    int64         \n",
      " 30  Score_29       453 non-null    int64         \n",
      " 31  Score_30       453 non-null    int64         \n",
      " 32  Score_31       453 non-null    int64         \n",
      " 33  Score_32       453 non-null    int64         \n",
      " 34  Score_33       453 non-null    int64         \n",
      " 35  Score_34       453 non-null    int64         \n",
      " 36  Score_35       453 non-null    int64         \n",
      " 37  Score_36       453 non-null    int64         \n",
      " 38  Score_37       453 non-null    int64         \n",
      " 39  Score_38       453 non-null    int64         \n",
      " 40  Score_39       453 non-null    int64         \n",
      " 41  Score_40       453 non-null    int64         \n",
      "dtypes: category(1), datetime64[ns](1), int64(40)\n",
      "memory usage: 165.8 KB\n"
     ]
    }
   ],
   "source": [
    "uitslag_prog.info()"
   ]
  },
  {
   "cell_type": "markdown",
   "metadata": {},
   "source": [
    "***Tip 2: visualisaties helpen bij het analyseren van de data***\n",
    "\n",
    "Plot een histogram voor het attribuut `Eindtijd` (zorg dat de labels op de assen niet overlappen). Beschrijf de verdeling (scheef? multimodaal? normaal?). Verklaar wat je ziet."
   ]
  },
  {
   "cell_type": "code",
   "execution_count": 15,
   "metadata": {},
   "outputs": [
    {
     "data": {
      "text/plain": [
       "<AxesSubplot:>"
      ]
     },
     "execution_count": 15,
     "metadata": {},
     "output_type": "execute_result"
    },
    {
     "data": {
      "image/png": "[encoded data removed]",
      "text/plain": [
       "<Figure size 432x288 with 1 Axes>"
      ]
     },
     "metadata": {
      "needs_background": "light"
     },
     "output_type": "display_data"
    }
   ],
   "source": [
    "uitslag_prog['Eindtijd'].hist(bins=50, xrot=45)"
   ]
  },
  {
   "cell_type": "markdown",
   "metadata": {},
   "source": [
    "Beschrijf de verdeling (scheef? multimodaal? normaal?). Verklaar wat je ziet."
   ]
  },
  {
   "cell_type": "markdown",
   "metadata": {
    "tags": [
     "student"
    ]
   },
   "source": [
    "De distributie van eindtijden is multimodaal (2 pieken). De distributie lijkt een een optelling van 2 normaalverdelingen te zijn. Dit is te verklaren doordat het tenamen op 2 verschillende tijdstippen zijn afgenomen (in de ochtend en in de middag).\n",
    "\n",
    "Beide verdelingen lijkt enigszins rechtsscheef. Dit is grotendeels te verklaren doordat de verdeling vooral van onderen begrensd is: gespendeerde tijd kan niet minder dan 0 minuten zijn."
   ]
  },
  {
   "cell_type": "markdown",
   "metadata": {},
   "source": [
    "### Deel 3. Analyse attributen met behulp van centrummaten\n",
    "\n",
    "In dit deel zullen we de vragen van het tentamen analyseren met behulp van de centrummaten"
   ]
  },
  {
   "cell_type": "markdown",
   "metadata": {},
   "source": [
    "Bereken het gemiddelde van de score van elke vraag en sorteer de waardes van hoog naar laag. **Tip**: ga niet zelf code schrijven om deze berekeningen uit te voeren maar maak gebruik van de standaardfuncties van Pandas! \n",
    "  "
   ]
  },
  {
   "cell_type": "code",
   "execution_count": 16,
   "metadata": {
    "scrolled": true,
    "tags": [
     "student"
    ]
   },
   "outputs": [],
   "source": [
    "score_mean = uitslag_prog.loc[:,uitslag_prog.dtypes == 'int64'].mean()"
   ]
  },
  {
   "cell_type": "code",
   "execution_count": 17,
   "metadata": {},
   "outputs": [
    {
     "data": {
      "text/plain": [
       "Score_16    0.973510\n",
       "Score_37    0.935982\n",
       "Score_40    0.876380\n",
       "Score_21    0.847682\n",
       "Score_35    0.836645\n",
       "Score_7     0.810155\n",
       "Score_38    0.790287\n",
       "Score_32    0.772627\n",
       "Score_27    0.772627\n",
       "Score_17    0.772627\n",
       "Score_4     0.768212\n",
       "Score_22    0.759382\n",
       "Score_5     0.754967\n",
       "Score_31    0.730684\n",
       "Score_23    0.719647\n",
       "Score_26    0.715232\n",
       "Score_15    0.706402\n",
       "Score_36    0.706402\n",
       "Score_9     0.706402\n",
       "Score_12    0.706402\n",
       "Score_33    0.673289\n",
       "Score_6     0.657837\n",
       "Score_34    0.653422\n",
       "Score_29    0.653422\n",
       "Score_18    0.640177\n",
       "Score_14    0.631347\n",
       "Score_3     0.624724\n",
       "Score_11    0.602649\n",
       "Score_10    0.598234\n",
       "Score_28    0.582781\n",
       "Score_25    0.434879\n",
       "Score_8     0.426049\n",
       "Score_39    0.406181\n",
       "Score_24    0.390728\n",
       "Score_1     0.381898\n",
       "Score_13    0.355408\n",
       "Score_30    0.300221\n",
       "Score_2     0.273731\n",
       "Score_19    0.273731\n",
       "Score_20    0.165563\n",
       "dtype: float64"
      ]
     },
     "execution_count": 17,
     "metadata": {},
     "output_type": "execute_result"
    }
   ],
   "source": [
    "score_mean.sort_values(ascending = False)"
   ]
  },
  {
   "cell_type": "code",
   "execution_count": 18,
   "metadata": {},
   "outputs": [],
   "source": [
    "score_mean.sort_values(ascending = False, inplace = True)"
   ]
  },
  {
   "cell_type": "markdown",
   "metadata": {},
   "source": [
    "Plot het gemiddelde per vraag in een barchart en daarna in een linechart. **Tip**: maak gebruik van de `plot()` functie van een Pandas dataframe."
   ]
  },
  {
   "cell_type": "code",
   "execution_count": 19,
   "metadata": {
    "tags": [
     "student"
    ]
   },
   "outputs": [
    {
     "data": {
      "text/plain": [
       "<AxesSubplot:>"
      ]
     },
     "execution_count": 19,
     "metadata": {},
     "output_type": "execute_result"
    },
    {
     "data": {
      "image/png": "[encoded data removed]",
      "text/plain": [
       "<Figure size 432x288 with 1 Axes>"
      ]
     },
     "metadata": {
      "needs_background": "light"
     },
     "output_type": "display_data"
    }
   ],
   "source": [
    "score_mean.plot()"
   ]
  },
  {
   "cell_type": "code",
   "execution_count": 20,
   "metadata": {},
   "outputs": [
    {
     "data": {
      "text/plain": [
       "<AxesSubplot:>"
      ]
     },
     "execution_count": 20,
     "metadata": {},
     "output_type": "execute_result"
    },
    {
     "data": {
      "image/png": "[encoded data removed]",
      "text/plain": [
       "<Figure size 432x288 with 1 Axes>"
      ]
     },
     "metadata": {
      "needs_background": "light"
     },
     "output_type": "display_data"
    }
   ],
   "source": [
    "score_mean.plot(kind = 'bar')"
   ]
  },
  {
   "cell_type": "markdown",
   "metadata": {},
   "source": [
    "Bereken de mediaan. \n",
    "- Wat kun je zeggen over de mean van een vraag als je de mediaan weet? Is de mean bijvoorbeeld altijd hoger of lager dan een bepaalde waarde gegeven de mediaan? \n",
    "- Is deze relatie er altijd?   "
   ]
  },
  {
   "cell_type": "code",
   "execution_count": 21,
   "metadata": {},
   "outputs": [
    {
     "ename": "TypeError",
     "evalue": "'Categorical' with dtype category does not support reduction 'median'",
     "output_type": "error",
     "traceback": [
      "\u001b[1;31m---------------------------------------------------------------------------\u001b[0m",
      "\u001b[1;31mTypeError\u001b[0m                                 Traceback (most recent call last)",
      "Input \u001b[1;32mIn [21]\u001b[0m, in \u001b[0;36m<module>\u001b[1;34m\u001b[0m\n\u001b[0;32m      1\u001b[0m \u001b[38;5;66;03m# Je ziet de volgende relatie:_\u001b[39;00m\n\u001b[0;32m      2\u001b[0m \u001b[38;5;66;03m#  - gemiddelde < 0.5 dan mediaan = 0;\u001b[39;00m\n\u001b[0;32m      3\u001b[0m \u001b[38;5;66;03m#  - gemiddelde >= 0.5 dan mediaan = 1.\u001b[39;00m\n\u001b[1;32m   (...)\u001b[0m\n\u001b[0;32m      7\u001b[0m \u001b[38;5;66;03m# discreet meetniveau). In het algemeen geldt deze relatie niet (dus als er\u001b[39;00m\n\u001b[0;32m      8\u001b[0m \u001b[38;5;66;03m# meerdere discrete waarden zijn, óf als de datatype continue is).\u001b[39;00m\n\u001b[1;32m---> 10\u001b[0m \u001b[43muitslag_prog\u001b[49m\u001b[38;5;241;43m.\u001b[39;49m\u001b[43mmedian\u001b[49m\u001b[43m(\u001b[49m\u001b[43m)\u001b[49m\u001b[38;5;241m.\u001b[39mhead(\u001b[38;5;241m10\u001b[39m)\n",
      "File \u001b[1;32mc:\\Users\\peter\\AppData\\Local\\Programs\\Python\\Python39\\lib\\site-packages\\pandas\\core\\frame.py:11706\u001b[0m, in \u001b[0;36mDataFrame.median\u001b[1;34m(self, axis, skipna, numeric_only, **kwargs)\u001b[0m\n\u001b[0;32m  11698\u001b[0m \u001b[38;5;129m@doc\u001b[39m(make_doc(\u001b[38;5;124m\"\u001b[39m\u001b[38;5;124mmedian\u001b[39m\u001b[38;5;124m\"\u001b[39m, ndim\u001b[38;5;241m=\u001b[39m\u001b[38;5;241m2\u001b[39m))\n\u001b[0;32m  11699\u001b[0m \u001b[38;5;28;01mdef\u001b[39;00m \u001b[38;5;21mmedian\u001b[39m(\n\u001b[0;32m  11700\u001b[0m     \u001b[38;5;28mself\u001b[39m,\n\u001b[1;32m   (...)\u001b[0m\n\u001b[0;32m  11704\u001b[0m     \u001b[38;5;241m*\u001b[39m\u001b[38;5;241m*\u001b[39mkwargs,\n\u001b[0;32m  11705\u001b[0m ):\n\u001b[1;32m> 11706\u001b[0m     result \u001b[38;5;241m=\u001b[39m \u001b[38;5;28msuper\u001b[39m()\u001b[38;5;241m.\u001b[39mmedian(axis, skipna, numeric_only, \u001b[38;5;241m*\u001b[39m\u001b[38;5;241m*\u001b[39mkwargs)\n\u001b[0;32m  11707\u001b[0m     \u001b[38;5;28;01mif\u001b[39;00m \u001b[38;5;28misinstance\u001b[39m(result, Series):\n\u001b[0;32m  11708\u001b[0m         result \u001b[38;5;241m=\u001b[39m result\u001b[38;5;241m.\u001b[39m__finalize__(\u001b[38;5;28mself\u001b[39m, method\u001b[38;5;241m=\u001b[39m\u001b[38;5;124m\"\u001b[39m\u001b[38;5;124mmedian\u001b[39m\u001b[38;5;124m\"\u001b[39m)\n",
      "File \u001b[1;32mc:\\Users\\peter\\AppData\\Local\\Programs\\Python\\Python39\\lib\\site-packages\\pandas\\core\\generic.py:12431\u001b[0m, in \u001b[0;36mNDFrame.median\u001b[1;34m(self, axis, skipna, numeric_only, **kwargs)\u001b[0m\n\u001b[0;32m  12424\u001b[0m \u001b[38;5;28;01mdef\u001b[39;00m \u001b[38;5;21mmedian\u001b[39m(\n\u001b[0;32m  12425\u001b[0m     \u001b[38;5;28mself\u001b[39m,\n\u001b[0;32m  12426\u001b[0m     axis: Axis \u001b[38;5;241m|\u001b[39m \u001b[38;5;28;01mNone\u001b[39;00m \u001b[38;5;241m=\u001b[39m \u001b[38;5;241m0\u001b[39m,\n\u001b[1;32m   (...)\u001b[0m\n\u001b[0;32m  12429\u001b[0m     \u001b[38;5;241m*\u001b[39m\u001b[38;5;241m*\u001b[39mkwargs,\n\u001b[0;32m  12430\u001b[0m ) \u001b[38;5;241m-\u001b[39m\u001b[38;5;241m>\u001b[39m Series \u001b[38;5;241m|\u001b[39m \u001b[38;5;28mfloat\u001b[39m:\n\u001b[1;32m> 12431\u001b[0m     \u001b[38;5;28;01mreturn\u001b[39;00m \u001b[38;5;28mself\u001b[39m\u001b[38;5;241m.\u001b[39m_stat_function(\n\u001b[0;32m  12432\u001b[0m         \u001b[38;5;124m\"\u001b[39m\u001b[38;5;124mmedian\u001b[39m\u001b[38;5;124m\"\u001b[39m, nanops\u001b[38;5;241m.\u001b[39mnanmedian, axis, skipna, numeric_only, \u001b[38;5;241m*\u001b[39m\u001b[38;5;241m*\u001b[39mkwargs\n\u001b[0;32m  12433\u001b[0m     )\n",
      "File \u001b[1;32mc:\\Users\\peter\\AppData\\Local\\Programs\\Python\\Python39\\lib\\site-packages\\pandas\\core\\generic.py:12377\u001b[0m, in \u001b[0;36mNDFrame._stat_function\u001b[1;34m(self, name, func, axis, skipna, numeric_only, **kwargs)\u001b[0m\n\u001b[0;32m  12373\u001b[0m nv\u001b[38;5;241m.\u001b[39mvalidate_func(name, (), kwargs)\n\u001b[0;32m  12375\u001b[0m validate_bool_kwarg(skipna, \u001b[38;5;124m\"\u001b[39m\u001b[38;5;124mskipna\u001b[39m\u001b[38;5;124m\"\u001b[39m, none_allowed\u001b[38;5;241m=\u001b[39m\u001b[38;5;28;01mFalse\u001b[39;00m)\n\u001b[1;32m> 12377\u001b[0m \u001b[38;5;28;01mreturn\u001b[39;00m \u001b[38;5;28;43mself\u001b[39;49m\u001b[38;5;241;43m.\u001b[39;49m\u001b[43m_reduce\u001b[49m\u001b[43m(\u001b[49m\n\u001b[0;32m  12378\u001b[0m \u001b[43m    \u001b[49m\u001b[43mfunc\u001b[49m\u001b[43m,\u001b[49m\u001b[43m \u001b[49m\u001b[43mname\u001b[49m\u001b[38;5;241;43m=\u001b[39;49m\u001b[43mname\u001b[49m\u001b[43m,\u001b[49m\u001b[43m \u001b[49m\u001b[43maxis\u001b[49m\u001b[38;5;241;43m=\u001b[39;49m\u001b[43maxis\u001b[49m\u001b[43m,\u001b[49m\u001b[43m \u001b[49m\u001b[43mskipna\u001b[49m\u001b[38;5;241;43m=\u001b[39;49m\u001b[43mskipna\u001b[49m\u001b[43m,\u001b[49m\u001b[43m \u001b[49m\u001b[43mnumeric_only\u001b[49m\u001b[38;5;241;43m=\u001b[39;49m\u001b[43mnumeric_only\u001b[49m\n\u001b[0;32m  12379\u001b[0m \u001b[43m\u001b[49m\u001b[43m)\u001b[49m\n",
      "File \u001b[1;32mc:\\Users\\peter\\AppData\\Local\\Programs\\Python\\Python39\\lib\\site-packages\\pandas\\core\\frame.py:11562\u001b[0m, in \u001b[0;36mDataFrame._reduce\u001b[1;34m(self, op, name, axis, skipna, numeric_only, filter_type, **kwds)\u001b[0m\n\u001b[0;32m  11558\u001b[0m     df \u001b[38;5;241m=\u001b[39m df\u001b[38;5;241m.\u001b[39mT\n\u001b[0;32m  11560\u001b[0m \u001b[38;5;66;03m# After possibly _get_data and transposing, we are now in the\u001b[39;00m\n\u001b[0;32m  11561\u001b[0m \u001b[38;5;66;03m#  simple case where we can use BlockManager.reduce\u001b[39;00m\n\u001b[1;32m> 11562\u001b[0m res \u001b[38;5;241m=\u001b[39m \u001b[43mdf\u001b[49m\u001b[38;5;241;43m.\u001b[39;49m\u001b[43m_mgr\u001b[49m\u001b[38;5;241;43m.\u001b[39;49m\u001b[43mreduce\u001b[49m\u001b[43m(\u001b[49m\u001b[43mblk_func\u001b[49m\u001b[43m)\u001b[49m\n\u001b[0;32m  11563\u001b[0m out \u001b[38;5;241m=\u001b[39m df\u001b[38;5;241m.\u001b[39m_constructor_from_mgr(res, axes\u001b[38;5;241m=\u001b[39mres\u001b[38;5;241m.\u001b[39maxes)\u001b[38;5;241m.\u001b[39miloc[\u001b[38;5;241m0\u001b[39m]\n\u001b[0;32m  11564\u001b[0m \u001b[38;5;28;01mif\u001b[39;00m out_dtype \u001b[38;5;129;01mis\u001b[39;00m \u001b[38;5;129;01mnot\u001b[39;00m \u001b[38;5;28;01mNone\u001b[39;00m \u001b[38;5;129;01mand\u001b[39;00m out\u001b[38;5;241m.\u001b[39mdtype \u001b[38;5;241m!=\u001b[39m \u001b[38;5;124m\"\u001b[39m\u001b[38;5;124mboolean\u001b[39m\u001b[38;5;124m\"\u001b[39m:\n",
      "File \u001b[1;32mc:\\Users\\peter\\AppData\\Local\\Programs\\Python\\Python39\\lib\\site-packages\\pandas\\core\\internals\\managers.py:1500\u001b[0m, in \u001b[0;36mBlockManager.reduce\u001b[1;34m(self, func)\u001b[0m\n\u001b[0;32m   1498\u001b[0m res_blocks: \u001b[38;5;28mlist\u001b[39m[Block] \u001b[38;5;241m=\u001b[39m []\n\u001b[0;32m   1499\u001b[0m \u001b[38;5;28;01mfor\u001b[39;00m blk \u001b[38;5;129;01min\u001b[39;00m \u001b[38;5;28mself\u001b[39m\u001b[38;5;241m.\u001b[39mblocks:\n\u001b[1;32m-> 1500\u001b[0m     nbs \u001b[38;5;241m=\u001b[39m \u001b[43mblk\u001b[49m\u001b[38;5;241;43m.\u001b[39;49m\u001b[43mreduce\u001b[49m\u001b[43m(\u001b[49m\u001b[43mfunc\u001b[49m\u001b[43m)\u001b[49m\n\u001b[0;32m   1501\u001b[0m     res_blocks\u001b[38;5;241m.\u001b[39mextend(nbs)\n\u001b[0;32m   1503\u001b[0m index \u001b[38;5;241m=\u001b[39m Index([\u001b[38;5;28;01mNone\u001b[39;00m])  \u001b[38;5;66;03m# placeholder\u001b[39;00m\n",
      "File \u001b[1;32mc:\\Users\\peter\\AppData\\Local\\Programs\\Python\\Python39\\lib\\site-packages\\pandas\\core\\internals\\blocks.py:404\u001b[0m, in \u001b[0;36mBlock.reduce\u001b[1;34m(self, func)\u001b[0m\n\u001b[0;32m    398\u001b[0m \u001b[38;5;129m@final\u001b[39m\n\u001b[0;32m    399\u001b[0m \u001b[38;5;28;01mdef\u001b[39;00m \u001b[38;5;21mreduce\u001b[39m(\u001b[38;5;28mself\u001b[39m, func) \u001b[38;5;241m-\u001b[39m\u001b[38;5;241m>\u001b[39m \u001b[38;5;28mlist\u001b[39m[Block]:\n\u001b[0;32m    400\u001b[0m     \u001b[38;5;66;03m# We will apply the function and reshape the result into a single-row\u001b[39;00m\n\u001b[0;32m    401\u001b[0m     \u001b[38;5;66;03m#  Block with the same mgr_locs; squeezing will be done at a higher level\u001b[39;00m\n\u001b[0;32m    402\u001b[0m     \u001b[38;5;28;01massert\u001b[39;00m \u001b[38;5;28mself\u001b[39m\u001b[38;5;241m.\u001b[39mndim \u001b[38;5;241m==\u001b[39m \u001b[38;5;241m2\u001b[39m\n\u001b[1;32m--> 404\u001b[0m     result \u001b[38;5;241m=\u001b[39m \u001b[43mfunc\u001b[49m\u001b[43m(\u001b[49m\u001b[38;5;28;43mself\u001b[39;49m\u001b[38;5;241;43m.\u001b[39;49m\u001b[43mvalues\u001b[49m\u001b[43m)\u001b[49m\n\u001b[0;32m    406\u001b[0m     \u001b[38;5;28;01mif\u001b[39;00m \u001b[38;5;28mself\u001b[39m\u001b[38;5;241m.\u001b[39mvalues\u001b[38;5;241m.\u001b[39mndim \u001b[38;5;241m==\u001b[39m \u001b[38;5;241m1\u001b[39m:\n\u001b[0;32m    407\u001b[0m         res_values \u001b[38;5;241m=\u001b[39m result\n",
      "File \u001b[1;32mc:\\Users\\peter\\AppData\\Local\\Programs\\Python\\Python39\\lib\\site-packages\\pandas\\core\\frame.py:11470\u001b[0m, in \u001b[0;36mDataFrame._reduce.<locals>.blk_func\u001b[1;34m(values, axis)\u001b[0m\n\u001b[0;32m  11468\u001b[0m     dtype_has_keepdims[values\u001b[38;5;241m.\u001b[39mdtype] \u001b[38;5;241m=\u001b[39m has_keepdims\n\u001b[0;32m  11469\u001b[0m \u001b[38;5;28;01mif\u001b[39;00m has_keepdims:\n\u001b[1;32m> 11470\u001b[0m     \u001b[38;5;28;01mreturn\u001b[39;00m values\u001b[38;5;241m.\u001b[39m_reduce(name, skipna\u001b[38;5;241m=\u001b[39mskipna, keepdims\u001b[38;5;241m=\u001b[39m\u001b[38;5;28;01mTrue\u001b[39;00m, \u001b[38;5;241m*\u001b[39m\u001b[38;5;241m*\u001b[39mkwds)\n\u001b[0;32m  11471\u001b[0m \u001b[38;5;28;01melse\u001b[39;00m:\n\u001b[0;32m  11472\u001b[0m     warnings\u001b[38;5;241m.\u001b[39mwarn(\n\u001b[0;32m  11473\u001b[0m         \u001b[38;5;124mf\u001b[39m\u001b[38;5;124m\"\u001b[39m\u001b[38;5;132;01m{\u001b[39;00m\u001b[38;5;28mtype\u001b[39m(values)\u001b[38;5;132;01m}\u001b[39;00m\u001b[38;5;124m._reduce will require a `keepdims` parameter \u001b[39m\u001b[38;5;124m\"\u001b[39m\n\u001b[0;32m  11474\u001b[0m         \u001b[38;5;124m\"\u001b[39m\u001b[38;5;124min the future\u001b[39m\u001b[38;5;124m\"\u001b[39m,\n\u001b[0;32m  11475\u001b[0m         \u001b[38;5;167;01mFutureWarning\u001b[39;00m,\n\u001b[0;32m  11476\u001b[0m         stacklevel\u001b[38;5;241m=\u001b[39mfind_stack_level(),\n\u001b[0;32m  11477\u001b[0m     )\n",
      "File \u001b[1;32mc:\\Users\\peter\\AppData\\Local\\Programs\\Python\\Python39\\lib\\site-packages\\pandas\\core\\arrays\\categorical.py:2359\u001b[0m, in \u001b[0;36mCategorical._reduce\u001b[1;34m(self, name, skipna, keepdims, **kwargs)\u001b[0m\n\u001b[0;32m   2356\u001b[0m \u001b[38;5;28;01mdef\u001b[39;00m \u001b[38;5;21m_reduce\u001b[39m(\n\u001b[0;32m   2357\u001b[0m     \u001b[38;5;28mself\u001b[39m, name: \u001b[38;5;28mstr\u001b[39m, \u001b[38;5;241m*\u001b[39m, skipna: \u001b[38;5;28mbool\u001b[39m \u001b[38;5;241m=\u001b[39m \u001b[38;5;28;01mTrue\u001b[39;00m, keepdims: \u001b[38;5;28mbool\u001b[39m \u001b[38;5;241m=\u001b[39m \u001b[38;5;28;01mFalse\u001b[39;00m, \u001b[38;5;241m*\u001b[39m\u001b[38;5;241m*\u001b[39mkwargs\n\u001b[0;32m   2358\u001b[0m ):\n\u001b[1;32m-> 2359\u001b[0m     result \u001b[38;5;241m=\u001b[39m \u001b[38;5;28msuper\u001b[39m()\u001b[38;5;241m.\u001b[39m_reduce(name, skipna\u001b[38;5;241m=\u001b[39mskipna, keepdims\u001b[38;5;241m=\u001b[39mkeepdims, \u001b[38;5;241m*\u001b[39m\u001b[38;5;241m*\u001b[39mkwargs)\n\u001b[0;32m   2360\u001b[0m     \u001b[38;5;28;01mif\u001b[39;00m name \u001b[38;5;129;01min\u001b[39;00m [\u001b[38;5;124m\"\u001b[39m\u001b[38;5;124margmax\u001b[39m\u001b[38;5;124m\"\u001b[39m, \u001b[38;5;124m\"\u001b[39m\u001b[38;5;124margmin\u001b[39m\u001b[38;5;124m\"\u001b[39m]:\n\u001b[0;32m   2361\u001b[0m         \u001b[38;5;66;03m# don't wrap in Categorical!\u001b[39;00m\n\u001b[0;32m   2362\u001b[0m         \u001b[38;5;28;01mreturn\u001b[39;00m result\n",
      "File \u001b[1;32mc:\\Users\\peter\\AppData\\Local\\Programs\\Python\\Python39\\lib\\site-packages\\pandas\\core\\arrays\\base.py:1954\u001b[0m, in \u001b[0;36mExtensionArray._reduce\u001b[1;34m(self, name, skipna, keepdims, **kwargs)\u001b[0m\n\u001b[0;32m   1952\u001b[0m meth \u001b[38;5;241m=\u001b[39m \u001b[38;5;28mgetattr\u001b[39m(\u001b[38;5;28mself\u001b[39m, name, \u001b[38;5;28;01mNone\u001b[39;00m)\n\u001b[0;32m   1953\u001b[0m \u001b[38;5;28;01mif\u001b[39;00m meth \u001b[38;5;129;01mis\u001b[39;00m \u001b[38;5;28;01mNone\u001b[39;00m:\n\u001b[1;32m-> 1954\u001b[0m     \u001b[38;5;28;01mraise\u001b[39;00m \u001b[38;5;167;01mTypeError\u001b[39;00m(\n\u001b[0;32m   1955\u001b[0m         \u001b[38;5;124mf\u001b[39m\u001b[38;5;124m\"\u001b[39m\u001b[38;5;124m'\u001b[39m\u001b[38;5;132;01m{\u001b[39;00m\u001b[38;5;28mtype\u001b[39m(\u001b[38;5;28mself\u001b[39m)\u001b[38;5;241m.\u001b[39m\u001b[38;5;18m__name__\u001b[39m\u001b[38;5;132;01m}\u001b[39;00m\u001b[38;5;124m'\u001b[39m\u001b[38;5;124m with dtype \u001b[39m\u001b[38;5;132;01m{\u001b[39;00m\u001b[38;5;28mself\u001b[39m\u001b[38;5;241m.\u001b[39mdtype\u001b[38;5;132;01m}\u001b[39;00m\u001b[38;5;124m \u001b[39m\u001b[38;5;124m\"\u001b[39m\n\u001b[0;32m   1956\u001b[0m         \u001b[38;5;124mf\u001b[39m\u001b[38;5;124m\"\u001b[39m\u001b[38;5;124mdoes not support reduction \u001b[39m\u001b[38;5;124m'\u001b[39m\u001b[38;5;132;01m{\u001b[39;00mname\u001b[38;5;132;01m}\u001b[39;00m\u001b[38;5;124m'\u001b[39m\u001b[38;5;124m\"\u001b[39m\n\u001b[0;32m   1957\u001b[0m     )\n\u001b[0;32m   1958\u001b[0m result \u001b[38;5;241m=\u001b[39m meth(skipna\u001b[38;5;241m=\u001b[39mskipna, \u001b[38;5;241m*\u001b[39m\u001b[38;5;241m*\u001b[39mkwargs)\n\u001b[0;32m   1959\u001b[0m \u001b[38;5;28;01mif\u001b[39;00m keepdims:\n",
      "\u001b[1;31mTypeError\u001b[0m: 'Categorical' with dtype category does not support reduction 'median'"
     ]
    }
   ],
   "source": [
    "# Je ziet de volgende relatie:_\n",
    "#  - gemiddelde < 0.5 dan mediaan = 0;\n",
    "#  - gemiddelde >= 0.5 dan mediaan = 1.\n",
    "\n",
    "# Dus: áls we de ene centrummaat weten, dán weten we de andere. Deze relatie\n",
    "# geldt hier omdat er slechts 2 mogelijke waarden zijn (de waarde is van\n",
    "# discreet meetniveau). In het algemeen geldt deze relatie niet (dus als er\n",
    "# meerdere discrete waarden zijn, óf als de datatype continue is).\n",
    "\n",
    "uitslag_prog.median().head(10)"
   ]
  },
  {
   "cell_type": "markdown",
   "metadata": {},
   "source": [
    "Bereken de modus. \n",
    "- Waarom zie je voor deze centrummaat wél StudentNummer als kolom terug in het resultaat? \n",
    "- Waarom zie je meerdere rijen?\n",
    "- Waarom bevatten sommige cellen NaN?"
   ]
  },
  {
   "cell_type": "code",
   "execution_count": null,
   "metadata": {
    "scrolled": true,
    "tags": [
     "student"
    ]
   },
   "outputs": [],
   "source": [
    "# De modus is een centrummaat die ook (mogelijk) nuttig is voor categoriale\n",
    "# data (dit is StudentNummer), dus Pandas is slim genoeg om deze ook voor\n",
    "# StudentNummer uit te rekenen.\n",
    "\n",
    "# Een modus hoeft niet uniek te zijn, omdat verschillende waarden evenvaak\n",
    "# voor kunnen komen. Zo ook hier.\n",
    "\n",
    "# NaN betekent Not A Number. Voor deze attributen zijn er dus niet meerdere\n",
    "# modi.\n",
    "\n",
    "# Dit betekent dat elk van de 453 studentnummers precies 1 keer voorkomt, zij zijn dus allemaal de modus\n",
    "# Er zijn een aantal eindtijden die vaker voorkomen, daarom zijn er meerdere rijen met eindtijden te zien\n",
    "# Voor de vragen is er maar 1 modus: 0 of 1, daarom is daar altijd maar 1 rij gevuld\n",
    "\n",
    "uitslag_prog.mode()"
   ]
  },
  {
   "cell_type": "markdown",
   "metadata": {},
   "source": [
    "### Deel 4. Analyse attributen met behulp van spreidingsmaten\n",
    "We gaan verder met het analyseren van de vragen, maar nu met behulp van enkele spreidingsmaten."
   ]
  },
  {
   "cell_type": "markdown",
   "metadata": {},
   "source": [
    "Bereken de variantie van elke vraag. Sorteer deze waardes.\n",
    "- Wat zegt dit getal?\n",
    "- Wat voor *kwalitatieve* uitspraak kun je doen over een vraag als de variantie hoog is?"
   ]
  },
  {
   "cell_type": "code",
   "execution_count": null,
   "metadata": {
    "tags": [
     "student"
    ]
   },
   "outputs": [],
   "source": [
    "# De variantie geeft de spreiding van de scores: hoe kleiner de variantie, hoe\n",
    "# minder spreiding in het goed of fout beantwoorden van de vraag. Je zou van\n",
    "# een vraag met een hoge variantie kunnen zeggen dat deze discriminerend is en\n",
    "# dus de goede van de minder goede studenten scheidt.\n",
    "    \n",
    "uitslag_prog.loc[:, 'Score_1':'Score_40'].var().sort_values()"
   ]
  },
  {
   "cell_type": "markdown",
   "metadata": {},
   "source": [
    "Bereken de standaard deviatie. \n",
    "- Hoe verschilt deze maat van de variantie? \n",
    "- Is er een verband tussen de standaard deviatie en variantie? Welke van beide maten is intuitiever?"
   ]
  },
  {
   "cell_type": "code",
   "execution_count": null,
   "metadata": {
    "scrolled": true,
    "tags": [
     "student"
    ]
   },
   "outputs": [],
   "source": [
    "# De standaarddeviatie heeft dezelfde eenheid als de originele scores. Er is\n",
    "# zeker een verband: de variatie is het kwadraat van de standaarddeviatie.\n",
    "# Standaarddeviatie is intuitiever in de zin dat het makkelijker te vergelijken\n",
    "# is met bijvoorbeeld het gemiddelde, omdat het dezelfde eenheid heeft.\n",
    "\n",
    "# Merk op: de std() functie geeft foutmeldingen wanneer je niet specificeert welke attributen gebruikt moeten worden!\n",
    "\n",
    "uitslag_prog.loc[:,'Score_1':'Score_40'].std().sort_values()"
   ]
  },
  {
   "cell_type": "markdown",
   "metadata": {},
   "source": [
    "Hieronder wordt de gemiddelde score per vraag geplot (als *bars*) en daarnaast de standaarddeviatie (als lijn).\n",
    "- Is er op het oog een verband tussen de centrummaat en de spreidingsmaat?"
   ]
  },
  {
   "cell_type": "code",
   "execution_count": null,
   "metadata": {},
   "outputs": [],
   "source": [
    "# Visualisatie 1\n",
    "uitslag_prog.loc[:,'Score_1':'Score_40'].mean().sort_values().plot.bar(yerr=uitslag_prog.loc[:,'Score_1':'Score_40'].std(), width = 0.9, figsize=(14, 6))"
   ]
  },
  {
   "cell_type": "code",
   "execution_count": null,
   "metadata": {},
   "outputs": [],
   "source": [
    "# Visualisatie 2\n",
    "means = uitslag_prog.loc[:,'Score_1':'Score_40'].mean()\n",
    "stds = uitslag_prog.loc[:,'Score_1':'Score_40'].std()\n",
    "means_stds = pd.concat([means, stds], axis=1)\n",
    "\n",
    "means_stds.sort_values(by=0, inplace=True)\n",
    "\n",
    "means_stds[0].plot(kind='bar')\n",
    "means_stds[1].plot(kind='line')"
   ]
  },
  {
   "cell_type": "markdown",
   "metadata": {},
   "source": [
    "## Deel 5. Analyse van studenten\n",
    "In deel 3 en 4 hebben we de kolommen (attributen) geanalyseerd, nu gaan we de rijen (de verschillende studenten in de dataset) analyseren."
   ]
  },
  {
   "cell_type": "markdown",
   "metadata": {},
   "source": [
    "Bepaal de gemiddelde scores per student en toon de hoogstscorende eerst. \n",
    "- **Tip 1**: we hebben de `mean` functie hiervoor gebruikt om het gemiddelde van kolommen te berekenen, nu wil je eigenlijk het gemiddelde van rijen berekenen... zoek naar de inputparameter voor de `mean` functie waarmee je dit makkelijk kunt fixen! \n",
    "- **Tip 2**: als je een gemiddelde krijgt groter dan 1, kijk dan goed naar welke kolommen je als input mee geeft"
   ]
  },
  {
   "cell_type": "code",
   "execution_count": null,
   "metadata": {
    "tags": [
     "student"
    ]
   },
   "outputs": [],
   "source": [
    "uitslag_prog.loc[:,'Score_1':'Score_40'].mean(axis = 1).sort_values(ascending=False).head(10)"
   ]
  },
  {
   "cell_type": "markdown",
   "metadata": {},
   "source": [
    "***Tip 3: het kan handig zijn om zelf de dataset uit te breiden met nieuwe informatie***\n",
    "\n",
    "Onderstaande code berekent het cijfer voor elke student. Hierbij wordt rekening gehouden met de *cesuur* (= gokkans):\n",
    "  1. cijfer = $\\frac{9}{30}(\\sum_{i=1}^{40}{Score.i}-10) + 1$\n",
    "  2. eindcijfer = $\\max(1, cijfer)$."
   ]
  },
  {
   "cell_type": "code",
   "execution_count": null,
   "metadata": {},
   "outputs": [],
   "source": [
    "uitslag_prog['Cijfer'] = (9/30)*(uitslag_prog.loc[:,'Score_1':'Score_40'].sum(axis = 1) - 10) + 1\n",
    "uitslag_prog['Eindcijfer'] = np.maximum( uitslag_prog['Cijfer'], [1]*uitslag_prog.shape[0] )"
   ]
  },
  {
   "cell_type": "code",
   "execution_count": null,
   "metadata": {
    "scrolled": true
   },
   "outputs": [],
   "source": [
    "uitslag_prog"
   ]
  },
  {
   "cell_type": "markdown",
   "metadata": {
    "tags": []
   },
   "source": [
    "Bepaal het totale gemiddelde over alle studenten. Doe dit nogmaals, maar dan alleen de studenten die een voldoende hebben gescoord."
   ]
  },
  {
   "cell_type": "code",
   "execution_count": null,
   "metadata": {
    "tags": [
     "student"
    ]
   },
   "outputs": [],
   "source": [
    "uitslag_prog['Eindcijfer'].mean()"
   ]
  },
  {
   "cell_type": "code",
   "execution_count": null,
   "metadata": {},
   "outputs": [],
   "source": [
    "uitslag_prog.loc[uitslag_prog['Eindcijfer']>=5.5, 'Eindcijfer'].mean()"
   ]
  },
  {
   "cell_type": "markdown",
   "metadata": {},
   "source": [
    "Plot een histogram van de eindcijfers met de `plot.hist()` functie van een dataframe. Met Matplotlib kan het *fancier*, maar dat komt later! Wat kun je zeggen over de verdeling (scheef? multimodaal? normaal?) En voor cijfer?"
   ]
  },
  {
   "cell_type": "code",
   "execution_count": null,
   "metadata": {
    "scrolled": true,
    "tags": [
     "student"
    ]
   },
   "outputs": [],
   "source": [
    "uitslag_prog['Eindcijfer'].plot.hist(bins = 3)"
   ]
  },
  {
   "cell_type": "markdown",
   "metadata": {},
   "source": [
    "Laten we aannemen dat de cijfers normaal verdeeld zijn. Bepaal de parameters van een normaalverdeling voor de eindcijfers van alle studenten.\n"
   ]
  },
  {
   "cell_type": "markdown",
   "metadata": {
    "tags": [
     "student"
    ]
   },
   "source": [
    "Een normaalverdeling wordt beschreven door 2 parameters:  \n",
    "1. Het gemiddelde $\\mu$  \n",
    "2. De standaarddeviatie $\\sigma$\n",
    "\n",
    "Als we de cijferdistributie willen benaderen met een normaalverdeling, dan geldt:\n",
    "1. $\\mu = $ uitslag_prog.Cijfer.mean()\n",
    "2. $\\sigma = $ uitslag_prog.Cijfer.std()"
   ]
  },
  {
   "cell_type": "markdown",
   "metadata": {},
   "source": [
    "Sla het gemiddelde op als `mu_cijfers` en de standaarddeviatie als `sigma_cijfers` en run dan onderstaande code de normaalverdeling als formule (`normal_cijfers`) te genereren en om deze normaalverdeling te visualiseren. In de visualisatie worden ook de originele gegevens getoond, je ziet dat er *bijna* sprake is van een normaalverdeling."
   ]
  },
  {
   "cell_type": "code",
   "execution_count": null,
   "metadata": {
    "tags": [
     "student"
    ]
   },
   "outputs": [],
   "source": [
    "# Geef deze variabelen de correcte waarde\n",
    "mu_cijfers = uitslag_prog['Eindcijfer'].mean()\n",
    "sigma_cijfers = uitslag_prog['Eindcijfer'].std()\n",
    "\n",
    "# Pas deze code niet aan\n",
    "normal_cijfers = sp.stats.norm(mu_cijfers, sigma_cijfers)\n",
    "x = np.linspace(-5,15,1000)\n",
    "y = normal_cijfers.pdf(x)\n",
    "\n",
    "fig, ax1 = plt.subplots()\n",
    "ax1.plot(x,y)\n",
    "ax2 = ax1.twinx()\n",
    "ax2.hist(uitslag_prog.Eindcijfer, bins=15)\n",
    "plt.show()"
   ]
  },
  {
   "cell_type": "markdown",
   "metadata": {},
   "source": [
    "Bereken:\n",
    " * $\\Pr(C < 6)$. **Tip**: gebruik `normal_cijfers` en de functie `cdf()` \n",
    " * $\\Pr(C > 8,5)$\n",
    " * $\\Pr(C > 10)$. Leg uit waarom dit groter dan 0 is.\n",
    " * $\\Pr(6 < C < 8,5)$.\n",
    " * $\\Pr(C < 6 \\lor C > 8,5) \\>$ ($\\lor$ is wiskundige notatie voor OR)\n"
   ]
  },
  {
   "cell_type": "code",
   "execution_count": null,
   "metadata": {},
   "outputs": [],
   "source": [
    "c_below_6 = normal_cijfers.cdf(6)\n",
    "c_below_8 = normal_cijfers.cdf(8.5)\n",
    "c_above_8 = 1 - c_below_8\n",
    "c_between_6_and_8 = c_below_8 - c_below_6\n",
    "c_outside_6_and_8 = 1 - c_between_6_and_8     # of c_below_6 + c_above_8\n",
    "c_above_10 = 1 - normal_cijfers.cdf(10)\n",
    "\n",
    "# P(C > 10) zal groter zijn dan 0, omdat de \"staarten\" van de normaalverdeling\n",
    "# oneindig doorgaan. De kansen gaan wel heel snel naar 0, maar zullen nooit\n",
    "# precies 0 zijn.\n",
    "\n",
    "pd.Series(\n",
    "    [c_below_6, c_above_8, c_above_10, c_between_6_and_8, c_outside_6_and_8],\n",
    "    [\"P(C < 6)\", \"P(C > 8.5)\", \"P(C > 10)\", \"P(6 < C < 8.5)\", \"P(C < 6 OR C > 8.5)\"]\n",
    ")"
   ]
  },
  {
   "cell_type": "markdown",
   "metadata": {},
   "source": [
    "Hier visualiseren we het voorlaatste scenario, gewoon omdat het kan:\n"
   ]
  },
  {
   "cell_type": "code",
   "execution_count": null,
   "metadata": {
    "scrolled": true
   },
   "outputs": [],
   "source": [
    "plt.plot(x,y)\n",
    "plt.fill_between(x,y, where = (x > 6) & (x < 8.5))\n",
    "plt.show()"
   ]
  },
  {
   "cell_type": "markdown",
   "metadata": {},
   "source": [
    "Welk cijfer moet je minimaal hebben om bij de top 10% van de klas te behoren?\n"
   ]
  },
  {
   "cell_type": "code",
   "execution_count": null,
   "metadata": {
    "tags": [
     "student"
    ]
   },
   "outputs": [],
   "source": [
    "normal_cijfers.ppf(0.9)"
   ]
  }
 ],
 "metadata": {
  "celltoolbar": "Tags",
  "kernelspec": {
   "display_name": "Python 3 (ipykernel)",
   "language": "python",
   "name": "python3"
  },
  "language_info": {
   "codemirror_mode": {
    "name": "ipython",
    "version": 3
   },
   "file_extension": ".py",
   "mimetype": "text/x-python",
   "name": "python",
   "nbconvert_exporter": "python",
   "pygments_lexer": "ipython3",
   "version": "3.9.7"
  }
 },
 "nbformat": 4,
 "nbformat_minor": 4
}
