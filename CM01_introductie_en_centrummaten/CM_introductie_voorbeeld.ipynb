{
 "cells": [
  {
   "cell_type": "markdown",
   "metadata": {},
   "source": [
    "<small><i>Dit document bevat een voorbeeld van het uitwerken van een data science opdracht. Dit voorbeeld gebruiken we in het eerste college van het vak Computational Modeling.</i></small>\n"
   ]
  },
  {
   "cell_type": "markdown",
   "metadata": {},
   "source": [
    "# Introductie - autoverzekering"
   ]
  },
  {
   "cell_type": "markdown",
   "metadata": {},
   "source": [
    "Een autoverzekeraar wil met risk-based pricing gaan werken. Klanten met een hoger risico op het rijden van schade moeten meer premie gaan betalen dan klanten met een lager risico. Om te kunnen bepalen wat de kenmerken zijn van een klant met een hoog risico en een klant met een laag risico wordt gegekeken naar data uit het verleden, waarin kenmerken van een klant vastgelegd zijn, samen met de eventuele gereden schade. "
   ]
  },
  {
   "cell_type": "markdown",
   "metadata": {},
   "source": [
    "## De data\n",
    "Om de opdracht uit te voeren zijn de volgende gegevens nodig:\n",
    "- Gegevens van klanten van de verzekeraar\n",
    "- Gegevens over of ze wel of niet schade gereden hebben\n",
    "\n",
    "Deze gegevens zijn verzameld in het excelbestand autoverzekering.xlsx\n",
    "\n",
    "(Merk op: deze dataset is fictief, maar is gebaseerd op een echte casus)"
   ]
  },
  {
   "cell_type": "markdown",
   "metadata": {},
   "source": [
    "## Opdracht\n",
    "\n",
    "Open het excelbestand en bekijk de data eens goed. Kun je zelf al bepaalde kenmerken van klanten vinden die van invloed zijn op het rijden van schade? Kun je een zo goed mogelijk onderbouwd advies geven aan de verstrekker van de verzekering?"
   ]
  },
  {
   "cell_type": "markdown",
   "metadata": {},
   "source": [
    "## Data inlezen\n",
    "De aangeleverde gegevens in het excel databestand dienen omgevormd te worden tot een bruikbare vorm: een dataframe.\n",
    "\n",
    "Hiervoor maken we gebruik van de Python Pandas bibliotheek."
   ]
  },
  {
   "cell_type": "code",
   "execution_count": 1,
   "metadata": {},
   "outputs": [],
   "source": [
    "#importeer de library\n",
    "import pandas as pd"
   ]
  },
  {
   "cell_type": "code",
   "execution_count": 2,
   "metadata": {},
   "outputs": [
    {
     "data": {
      "text/html": [
       "<div>\n",
       "<style scoped>\n",
       "    .dataframe tbody tr th:only-of-type {\n",
       "        vertical-align: middle;\n",
       "    }\n",
       "\n",
       "    .dataframe tbody tr th {\n",
       "        vertical-align: top;\n",
       "    }\n",
       "\n",
       "    .dataframe thead th {\n",
       "        text-align: right;\n",
       "    }\n",
       "</style>\n",
       "<table border=\"1\" class=\"dataframe\">\n",
       "  <thead>\n",
       "    <tr style=\"text-align: right;\">\n",
       "      <th></th>\n",
       "      <th>Leeftijd</th>\n",
       "      <th>AantalJaarRijbewijs</th>\n",
       "      <th>Woonplaats</th>\n",
       "      <th>KleurAuto</th>\n",
       "      <th>SchadeAfgelopenJaar</th>\n",
       "    </tr>\n",
       "  </thead>\n",
       "  <tbody>\n",
       "    <tr>\n",
       "      <th>0</th>\n",
       "      <td>18</td>\n",
       "      <td>1</td>\n",
       "      <td>Amsterdam</td>\n",
       "      <td>Rood</td>\n",
       "      <td>Ja</td>\n",
       "    </tr>\n",
       "    <tr>\n",
       "      <th>1</th>\n",
       "      <td>19</td>\n",
       "      <td>1</td>\n",
       "      <td>Utrecht</td>\n",
       "      <td>Zwart</td>\n",
       "      <td>Nee</td>\n",
       "    </tr>\n",
       "    <tr>\n",
       "      <th>2</th>\n",
       "      <td>20</td>\n",
       "      <td>1</td>\n",
       "      <td>Eindhoven</td>\n",
       "      <td>Blauw</td>\n",
       "      <td>Nee</td>\n",
       "    </tr>\n",
       "    <tr>\n",
       "      <th>3</th>\n",
       "      <td>21</td>\n",
       "      <td>1</td>\n",
       "      <td>Amsterdam</td>\n",
       "      <td>Blauw</td>\n",
       "      <td>Ja</td>\n",
       "    </tr>\n",
       "    <tr>\n",
       "      <th>4</th>\n",
       "      <td>22</td>\n",
       "      <td>1</td>\n",
       "      <td>Utrecht</td>\n",
       "      <td>Rood</td>\n",
       "      <td>Nee</td>\n",
       "    </tr>\n",
       "    <tr>\n",
       "      <th>5</th>\n",
       "      <td>23</td>\n",
       "      <td>5</td>\n",
       "      <td>Eindhoven</td>\n",
       "      <td>Zwart</td>\n",
       "      <td>Nee</td>\n",
       "    </tr>\n",
       "    <tr>\n",
       "      <th>6</th>\n",
       "      <td>24</td>\n",
       "      <td>5</td>\n",
       "      <td>Amsterdam</td>\n",
       "      <td>Zwart</td>\n",
       "      <td>Ja</td>\n",
       "    </tr>\n",
       "    <tr>\n",
       "      <th>7</th>\n",
       "      <td>25</td>\n",
       "      <td>5</td>\n",
       "      <td>Utrecht</td>\n",
       "      <td>Blauw</td>\n",
       "      <td>Nee</td>\n",
       "    </tr>\n",
       "    <tr>\n",
       "      <th>8</th>\n",
       "      <td>26</td>\n",
       "      <td>5</td>\n",
       "      <td>Eindhoven</td>\n",
       "      <td>Rood</td>\n",
       "      <td>Ja</td>\n",
       "    </tr>\n",
       "    <tr>\n",
       "      <th>9</th>\n",
       "      <td>27</td>\n",
       "      <td>5</td>\n",
       "      <td>Amsterdam</td>\n",
       "      <td>Rood</td>\n",
       "      <td>Ja</td>\n",
       "    </tr>\n",
       "    <tr>\n",
       "      <th>10</th>\n",
       "      <td>28</td>\n",
       "      <td>10</td>\n",
       "      <td>Utrecht</td>\n",
       "      <td>Zwart</td>\n",
       "      <td>Nee</td>\n",
       "    </tr>\n",
       "    <tr>\n",
       "      <th>11</th>\n",
       "      <td>29</td>\n",
       "      <td>10</td>\n",
       "      <td>Eindhoven</td>\n",
       "      <td>Blauw</td>\n",
       "      <td>Nee</td>\n",
       "    </tr>\n",
       "    <tr>\n",
       "      <th>12</th>\n",
       "      <td>30</td>\n",
       "      <td>10</td>\n",
       "      <td>Amsterdam</td>\n",
       "      <td>Blauw</td>\n",
       "      <td>Ja</td>\n",
       "    </tr>\n",
       "    <tr>\n",
       "      <th>13</th>\n",
       "      <td>31</td>\n",
       "      <td>10</td>\n",
       "      <td>Utrecht</td>\n",
       "      <td>Rood</td>\n",
       "      <td>Ja</td>\n",
       "    </tr>\n",
       "    <tr>\n",
       "      <th>14</th>\n",
       "      <td>32</td>\n",
       "      <td>10</td>\n",
       "      <td>Eindhoven</td>\n",
       "      <td>Zwart</td>\n",
       "      <td>Nee</td>\n",
       "    </tr>\n",
       "    <tr>\n",
       "      <th>15</th>\n",
       "      <td>33</td>\n",
       "      <td>10</td>\n",
       "      <td>Amsterdam</td>\n",
       "      <td>Zwart</td>\n",
       "      <td>Ja</td>\n",
       "    </tr>\n",
       "    <tr>\n",
       "      <th>16</th>\n",
       "      <td>34</td>\n",
       "      <td>10</td>\n",
       "      <td>Utrecht</td>\n",
       "      <td>Blauw</td>\n",
       "      <td>Nee</td>\n",
       "    </tr>\n",
       "    <tr>\n",
       "      <th>17</th>\n",
       "      <td>35</td>\n",
       "      <td>10</td>\n",
       "      <td>Eindhoven</td>\n",
       "      <td>Rood</td>\n",
       "      <td>Ja</td>\n",
       "    </tr>\n",
       "    <tr>\n",
       "      <th>18</th>\n",
       "      <td>36</td>\n",
       "      <td>10</td>\n",
       "      <td>Amsterdam</td>\n",
       "      <td>Rood</td>\n",
       "      <td>Ja</td>\n",
       "    </tr>\n",
       "    <tr>\n",
       "      <th>19</th>\n",
       "      <td>37</td>\n",
       "      <td>10</td>\n",
       "      <td>Utrecht</td>\n",
       "      <td>Zwart</td>\n",
       "      <td>Nee</td>\n",
       "    </tr>\n",
       "    <tr>\n",
       "      <th>20</th>\n",
       "      <td>38</td>\n",
       "      <td>15</td>\n",
       "      <td>Eindhoven</td>\n",
       "      <td>Blauw</td>\n",
       "      <td>Nee</td>\n",
       "    </tr>\n",
       "    <tr>\n",
       "      <th>21</th>\n",
       "      <td>39</td>\n",
       "      <td>15</td>\n",
       "      <td>Amsterdam</td>\n",
       "      <td>Blauw</td>\n",
       "      <td>Ja</td>\n",
       "    </tr>\n",
       "    <tr>\n",
       "      <th>22</th>\n",
       "      <td>40</td>\n",
       "      <td>15</td>\n",
       "      <td>Utrecht</td>\n",
       "      <td>Rood</td>\n",
       "      <td>Nee</td>\n",
       "    </tr>\n",
       "    <tr>\n",
       "      <th>23</th>\n",
       "      <td>41</td>\n",
       "      <td>15</td>\n",
       "      <td>Eindhoven</td>\n",
       "      <td>Zwart</td>\n",
       "      <td>Nee</td>\n",
       "    </tr>\n",
       "    <tr>\n",
       "      <th>24</th>\n",
       "      <td>42</td>\n",
       "      <td>15</td>\n",
       "      <td>Amsterdam</td>\n",
       "      <td>Zwart</td>\n",
       "      <td>Nee</td>\n",
       "    </tr>\n",
       "    <tr>\n",
       "      <th>25</th>\n",
       "      <td>43</td>\n",
       "      <td>15</td>\n",
       "      <td>Utrecht</td>\n",
       "      <td>Blauw</td>\n",
       "      <td>Nee</td>\n",
       "    </tr>\n",
       "    <tr>\n",
       "      <th>26</th>\n",
       "      <td>44</td>\n",
       "      <td>15</td>\n",
       "      <td>Eindhoven</td>\n",
       "      <td>Rood</td>\n",
       "      <td>Ja</td>\n",
       "    </tr>\n",
       "    <tr>\n",
       "      <th>27</th>\n",
       "      <td>45</td>\n",
       "      <td>15</td>\n",
       "      <td>Amsterdam</td>\n",
       "      <td>Rood</td>\n",
       "      <td>Ja</td>\n",
       "    </tr>\n",
       "    <tr>\n",
       "      <th>28</th>\n",
       "      <td>46</td>\n",
       "      <td>15</td>\n",
       "      <td>Utrecht</td>\n",
       "      <td>Zwart</td>\n",
       "      <td>Nee</td>\n",
       "    </tr>\n",
       "    <tr>\n",
       "      <th>29</th>\n",
       "      <td>47</td>\n",
       "      <td>15</td>\n",
       "      <td>Eindhoven</td>\n",
       "      <td>Blauw</td>\n",
       "      <td>Nee</td>\n",
       "    </tr>\n",
       "  </tbody>\n",
       "</table>\n",
       "</div>"
      ],
      "text/plain": [
       "    Leeftijd  AantalJaarRijbewijs Woonplaats KleurAuto SchadeAfgelopenJaar\n",
       "0         18                    1  Amsterdam      Rood                  Ja\n",
       "1         19                    1    Utrecht     Zwart                 Nee\n",
       "2         20                    1  Eindhoven     Blauw                 Nee\n",
       "3         21                    1  Amsterdam     Blauw                  Ja\n",
       "4         22                    1    Utrecht      Rood                 Nee\n",
       "5         23                    5  Eindhoven     Zwart                 Nee\n",
       "6         24                    5  Amsterdam     Zwart                  Ja\n",
       "7         25                    5    Utrecht     Blauw                 Nee\n",
       "8         26                    5  Eindhoven      Rood                  Ja\n",
       "9         27                    5  Amsterdam      Rood                  Ja\n",
       "10        28                   10    Utrecht     Zwart                 Nee\n",
       "11        29                   10  Eindhoven     Blauw                 Nee\n",
       "12        30                   10  Amsterdam     Blauw                  Ja\n",
       "13        31                   10    Utrecht      Rood                  Ja\n",
       "14        32                   10  Eindhoven     Zwart                 Nee\n",
       "15        33                   10  Amsterdam     Zwart                  Ja\n",
       "16        34                   10    Utrecht     Blauw                 Nee\n",
       "17        35                   10  Eindhoven      Rood                  Ja\n",
       "18        36                   10  Amsterdam      Rood                  Ja\n",
       "19        37                   10    Utrecht     Zwart                 Nee\n",
       "20        38                   15  Eindhoven     Blauw                 Nee\n",
       "21        39                   15  Amsterdam     Blauw                  Ja\n",
       "22        40                   15    Utrecht      Rood                 Nee\n",
       "23        41                   15  Eindhoven     Zwart                 Nee\n",
       "24        42                   15  Amsterdam     Zwart                 Nee\n",
       "25        43                   15    Utrecht     Blauw                 Nee\n",
       "26        44                   15  Eindhoven      Rood                  Ja\n",
       "27        45                   15  Amsterdam      Rood                  Ja\n",
       "28        46                   15    Utrecht     Zwart                 Nee\n",
       "29        47                   15  Eindhoven     Blauw                 Nee"
      ]
     },
     "execution_count": 2,
     "metadata": {},
     "output_type": "execute_result"
    }
   ],
   "source": [
    "# lees het excel bestand in met pd.read_xlsx, zie: https://pandas.pydata.org/docs/reference/api/pandas.read_excel.html\n",
    "df = pd.read_excel('autoverzekering.xlsx')\n",
    "# Toon de ingelezen inhoud\n",
    "df"
   ]
  },
  {
   "cell_type": "markdown",
   "metadata": {},
   "source": [
    "Als het goed is komt dit overeen met het databestand dat je zelf al bekeken hebt."
   ]
  },
  {
   "cell_type": "markdown",
   "metadata": {},
   "source": [
    "## Data verkennen"
   ]
  },
  {
   "cell_type": "markdown",
   "metadata": {},
   "source": [
    "Laten we een paar plotjes maken om de data beter te bekijken, hiervoor maken we gebruik van het visualisatie package seaborn. "
   ]
  },
  {
   "cell_type": "code",
   "execution_count": 3,
   "metadata": {},
   "outputs": [],
   "source": [
    "import seaborn as sns"
   ]
  },
  {
   "cell_type": "code",
   "execution_count": 4,
   "metadata": {},
   "outputs": [
    {
     "data": {
      "text/plain": [
       "<AxesSubplot:xlabel='AantalJaarRijbewijs', ylabel='count'>"
      ]
     },
     "execution_count": 4,
     "metadata": {},
     "output_type": "execute_result"
    },
    {
     "data": {
      "image/png": "[encoded data removed]",
      "text/plain": [
       "<Figure size 432x288 with 1 Axes>"
      ]
     },
     "metadata": {
      "needs_background": "light"
     },
     "output_type": "display_data"
    }
   ],
   "source": [
    "#Is er een relatie tussen Woonplaats en het rijden van schade?\n",
    "sns.countplot(df, x='AantalJaarRijbewijs',hue='SchadeAfgelopenJaar')"
   ]
  },
  {
   "cell_type": "code",
   "execution_count": 5,
   "metadata": {},
   "outputs": [
    {
     "data": {
      "text/plain": [
       "<AxesSubplot:xlabel='Woonplaats', ylabel='count'>"
      ]
     },
     "execution_count": 5,
     "metadata": {},
     "output_type": "execute_result"
    },
    {
     "data": {
      "image/png": "[encoded data removed]",
      "text/plain": [
       "<Figure size 432x288 with 1 Axes>"
      ]
     },
     "metadata": {
      "needs_background": "light"
     },
     "output_type": "display_data"
    }
   ],
   "source": [
    "#Is er een relatie tussen Woonplaats en het rijden van schade?\n",
    "sns.countplot(df, x='Woonplaats',hue='SchadeAfgelopenJaar')"
   ]
  },
  {
   "cell_type": "code",
   "execution_count": 6,
   "metadata": {},
   "outputs": [
    {
     "data": {
      "text/plain": [
       "<AxesSubplot:xlabel='KleurAuto', ylabel='count'>"
      ]
     },
     "execution_count": 6,
     "metadata": {},
     "output_type": "execute_result"
    },
    {
     "data": {
      "image/png": "[encoded data removed]",
      "text/plain": [
       "<Figure size 432x288 with 1 Axes>"
      ]
     },
     "metadata": {
      "needs_background": "light"
     },
     "output_type": "display_data"
    }
   ],
   "source": [
    "#Is er een relatie tussen de kleur van de auto en het rijden van schade?\n",
    "sns.countplot(df, x='KleurAuto',hue='SchadeAfgelopenJaar')"
   ]
  },
  {
   "cell_type": "markdown",
   "metadata": {},
   "source": [
    "Om te bekijken of er een relatie is tussen de leeftijd van de bestuurder en het rijden van schade, moeten we de data nog wat bewerken. We kunnen bijvoorbeeld gebruik maken van *bins*, waarbij we de leeftijd indelen in de intervallen 'jonger dan 20', '20 tot 30', '30 tot 40', 'ouder dan 40'. Je kunt uiteraard ook voor andere intervallen kiezen.\n"
   ]
  },
  {
   "cell_type": "code",
   "execution_count": 7,
   "metadata": {},
   "outputs": [
    {
     "data": {
      "text/html": [
       "<div>\n",
       "<style scoped>\n",
       "    .dataframe tbody tr th:only-of-type {\n",
       "        vertical-align: middle;\n",
       "    }\n",
       "\n",
       "    .dataframe tbody tr th {\n",
       "        vertical-align: top;\n",
       "    }\n",
       "\n",
       "    .dataframe thead th {\n",
       "        text-align: right;\n",
       "    }\n",
       "</style>\n",
       "<table border=\"1\" class=\"dataframe\">\n",
       "  <thead>\n",
       "    <tr style=\"text-align: right;\">\n",
       "      <th></th>\n",
       "      <th>Leeftijd</th>\n",
       "      <th>AantalJaarRijbewijs</th>\n",
       "      <th>Woonplaats</th>\n",
       "      <th>KleurAuto</th>\n",
       "      <th>SchadeAfgelopenJaar</th>\n",
       "      <th>leeftijd_bins</th>\n",
       "    </tr>\n",
       "  </thead>\n",
       "  <tbody>\n",
       "    <tr>\n",
       "      <th>0</th>\n",
       "      <td>18</td>\n",
       "      <td>1</td>\n",
       "      <td>Amsterdam</td>\n",
       "      <td>Rood</td>\n",
       "      <td>Ja</td>\n",
       "      <td>(10, 20]</td>\n",
       "    </tr>\n",
       "    <tr>\n",
       "      <th>1</th>\n",
       "      <td>19</td>\n",
       "      <td>1</td>\n",
       "      <td>Utrecht</td>\n",
       "      <td>Zwart</td>\n",
       "      <td>Nee</td>\n",
       "      <td>(10, 20]</td>\n",
       "    </tr>\n",
       "    <tr>\n",
       "      <th>2</th>\n",
       "      <td>20</td>\n",
       "      <td>1</td>\n",
       "      <td>Eindhoven</td>\n",
       "      <td>Blauw</td>\n",
       "      <td>Nee</td>\n",
       "      <td>(10, 20]</td>\n",
       "    </tr>\n",
       "    <tr>\n",
       "      <th>3</th>\n",
       "      <td>21</td>\n",
       "      <td>1</td>\n",
       "      <td>Amsterdam</td>\n",
       "      <td>Blauw</td>\n",
       "      <td>Ja</td>\n",
       "      <td>(20, 30]</td>\n",
       "    </tr>\n",
       "    <tr>\n",
       "      <th>4</th>\n",
       "      <td>22</td>\n",
       "      <td>1</td>\n",
       "      <td>Utrecht</td>\n",
       "      <td>Rood</td>\n",
       "      <td>Nee</td>\n",
       "      <td>(20, 30]</td>\n",
       "    </tr>\n",
       "  </tbody>\n",
       "</table>\n",
       "</div>"
      ],
      "text/plain": [
       "   Leeftijd  AantalJaarRijbewijs Woonplaats KleurAuto SchadeAfgelopenJaar  \\\n",
       "0        18                    1  Amsterdam      Rood                  Ja   \n",
       "1        19                    1    Utrecht     Zwart                 Nee   \n",
       "2        20                    1  Eindhoven     Blauw                 Nee   \n",
       "3        21                    1  Amsterdam     Blauw                  Ja   \n",
       "4        22                    1    Utrecht      Rood                 Nee   \n",
       "\n",
       "  leeftijd_bins  \n",
       "0      (10, 20]  \n",
       "1      (10, 20]  \n",
       "2      (10, 20]  \n",
       "3      (20, 30]  \n",
       "4      (20, 30]  "
      ]
     },
     "execution_count": 7,
     "metadata": {},
     "output_type": "execute_result"
    }
   ],
   "source": [
    "#we voegen de kolom leeftijd_bins toe aan het dataframe\n",
    "df['leeftijd_bins'] = pd.cut(df['Leeftijd'], bins =[0,10,20,30,40,50])\n",
    "#even kijken wat dat oplevert:\n",
    "df.head()"
   ]
  },
  {
   "cell_type": "code",
   "execution_count": 8,
   "metadata": {},
   "outputs": [
    {
     "name": "stderr",
     "output_type": "stream",
     "text": [
      "c:\\Users\\peter\\AppData\\Local\\Programs\\Python\\Python39\\lib\\site-packages\\seaborn\\categorical.py:641: FutureWarning: The default of observed=False is deprecated and will be changed to True in a future version of pandas. Pass observed=False to retain current behavior or observed=True to adopt the future default and silence this warning.\n",
      "  grouped_vals = vals.groupby(grouper)\n",
      "c:\\Users\\peter\\AppData\\Local\\Programs\\Python\\Python39\\lib\\site-packages\\seaborn\\categorical.py:641: FutureWarning: The default of observed=False is deprecated and will be changed to True in a future version of pandas. Pass observed=False to retain current behavior or observed=True to adopt the future default and silence this warning.\n",
      "  grouped_vals = vals.groupby(grouper)\n"
     ]
    },
    {
     "data": {
      "text/plain": [
       "<AxesSubplot:xlabel='leeftijd_bins', ylabel='count'>"
      ]
     },
     "execution_count": 8,
     "metadata": {},
     "output_type": "execute_result"
    },
    {
     "data": {
      "image/png": "[encoded data removed]",
      "text/plain": [
       "<Figure size 432x288 with 1 Axes>"
      ]
     },
     "metadata": {
      "needs_background": "light"
     },
     "output_type": "display_data"
    }
   ],
   "source": [
    "#nu kunnen we de plot maken om te kijken of leeftijd invloed heeft op het rijden van schade\n",
    "sns.countplot(df, x='leeftijd_bins',hue='SchadeAfgelopenJaar')"
   ]
  },
  {
   "cell_type": "markdown",
   "metadata": {},
   "source": [
    "Dit geeft al een mooi overzicht van de data. Maar om een goed advies te kunnen geven aan de autoverzekeraar willen we een beslisboom maken die hij kan gebruiken om bij een nieuwe klant direct een indeling te maken in 'laag risico', wat we overeen laten komen met 'SchadeAfgelopenJaar'==Nee en 'hoog risico', wat we overeen laten komen met 'SchadeAfgelopenJaar'==Ja.\n",
    "We gaan hierbij gebruik maken van de library scikit-learn, en dan met name de module tree, zie: https://scikit-learn.org/stable/modules/tree.html"
   ]
  },
  {
   "cell_type": "markdown",
   "metadata": {},
   "source": [
    "We halen een paar klanten uit ons dataframe, zodat we nadat we een beslisboom gemaakt hebben kunnen controleren of we met de beslisboom een goed voorspelling maken. Dit noemen we het splitsen in een train en een test set."
   ]
  },
  {
   "cell_type": "markdown",
   "metadata": {},
   "source": [
    "## Data preparatie"
   ]
  },
  {
   "cell_type": "markdown",
   "metadata": {},
   "source": [
    "Om gebruik te kunnen maken van de module tree van sklearn zullen we eerst de data wat moeten bewerken. Deze module kan namelijk niet omgaan met categorische data zoals 'Woonplaats' of 'KleurAuto'. Deze gaan we dus even omzetten naar een ander type."
   ]
  },
  {
   "cell_type": "code",
   "execution_count": 9,
   "metadata": {},
   "outputs": [],
   "source": [
    "#We selecteren de kolommen die wel al uit integers bestaan\n",
    "X_numeric = df[['Leeftijd','AantalJaarRijbewijs']]\n",
    "#Vervolgens zetten we de andere kolommen om naar integers\n",
    "X_dummies = pd.get_dummies(df[['Woonplaats', 'KleurAuto']], dtype = int)\n",
    "#We plakken de twee dataframes weer aan elkaar\n",
    "X = pd.concat([X_numeric, X_dummies], axis = 1)"
   ]
  },
  {
   "cell_type": "code",
   "execution_count": 10,
   "metadata": {
    "scrolled": true
   },
   "outputs": [
    {
     "data": {
      "text/html": [
       "<div>\n",
       "<style scoped>\n",
       "    .dataframe tbody tr th:only-of-type {\n",
       "        vertical-align: middle;\n",
       "    }\n",
       "\n",
       "    .dataframe tbody tr th {\n",
       "        vertical-align: top;\n",
       "    }\n",
       "\n",
       "    .dataframe thead th {\n",
       "        text-align: right;\n",
       "    }\n",
       "</style>\n",
       "<table border=\"1\" class=\"dataframe\">\n",
       "  <thead>\n",
       "    <tr style=\"text-align: right;\">\n",
       "      <th></th>\n",
       "      <th>Leeftijd</th>\n",
       "      <th>AantalJaarRijbewijs</th>\n",
       "      <th>Woonplaats_Amsterdam</th>\n",
       "      <th>Woonplaats_Eindhoven</th>\n",
       "      <th>Woonplaats_Utrecht</th>\n",
       "      <th>KleurAuto_Blauw</th>\n",
       "      <th>KleurAuto_Rood</th>\n",
       "      <th>KleurAuto_Zwart</th>\n",
       "    </tr>\n",
       "  </thead>\n",
       "  <tbody>\n",
       "    <tr>\n",
       "      <th>0</th>\n",
       "      <td>18</td>\n",
       "      <td>1</td>\n",
       "      <td>1</td>\n",
       "      <td>0</td>\n",
       "      <td>0</td>\n",
       "      <td>0</td>\n",
       "      <td>1</td>\n",
       "      <td>0</td>\n",
       "    </tr>\n",
       "    <tr>\n",
       "      <th>1</th>\n",
       "      <td>19</td>\n",
       "      <td>1</td>\n",
       "      <td>0</td>\n",
       "      <td>0</td>\n",
       "      <td>1</td>\n",
       "      <td>0</td>\n",
       "      <td>0</td>\n",
       "      <td>1</td>\n",
       "    </tr>\n",
       "    <tr>\n",
       "      <th>2</th>\n",
       "      <td>20</td>\n",
       "      <td>1</td>\n",
       "      <td>0</td>\n",
       "      <td>1</td>\n",
       "      <td>0</td>\n",
       "      <td>1</td>\n",
       "      <td>0</td>\n",
       "      <td>0</td>\n",
       "    </tr>\n",
       "    <tr>\n",
       "      <th>3</th>\n",
       "      <td>21</td>\n",
       "      <td>1</td>\n",
       "      <td>1</td>\n",
       "      <td>0</td>\n",
       "      <td>0</td>\n",
       "      <td>1</td>\n",
       "      <td>0</td>\n",
       "      <td>0</td>\n",
       "    </tr>\n",
       "    <tr>\n",
       "      <th>4</th>\n",
       "      <td>22</td>\n",
       "      <td>1</td>\n",
       "      <td>0</td>\n",
       "      <td>0</td>\n",
       "      <td>1</td>\n",
       "      <td>0</td>\n",
       "      <td>1</td>\n",
       "      <td>0</td>\n",
       "    </tr>\n",
       "    <tr>\n",
       "      <th>5</th>\n",
       "      <td>23</td>\n",
       "      <td>5</td>\n",
       "      <td>0</td>\n",
       "      <td>1</td>\n",
       "      <td>0</td>\n",
       "      <td>0</td>\n",
       "      <td>0</td>\n",
       "      <td>1</td>\n",
       "    </tr>\n",
       "    <tr>\n",
       "      <th>6</th>\n",
       "      <td>24</td>\n",
       "      <td>5</td>\n",
       "      <td>1</td>\n",
       "      <td>0</td>\n",
       "      <td>0</td>\n",
       "      <td>0</td>\n",
       "      <td>0</td>\n",
       "      <td>1</td>\n",
       "    </tr>\n",
       "    <tr>\n",
       "      <th>7</th>\n",
       "      <td>25</td>\n",
       "      <td>5</td>\n",
       "      <td>0</td>\n",
       "      <td>0</td>\n",
       "      <td>1</td>\n",
       "      <td>1</td>\n",
       "      <td>0</td>\n",
       "      <td>0</td>\n",
       "    </tr>\n",
       "    <tr>\n",
       "      <th>8</th>\n",
       "      <td>26</td>\n",
       "      <td>5</td>\n",
       "      <td>0</td>\n",
       "      <td>1</td>\n",
       "      <td>0</td>\n",
       "      <td>0</td>\n",
       "      <td>1</td>\n",
       "      <td>0</td>\n",
       "    </tr>\n",
       "    <tr>\n",
       "      <th>9</th>\n",
       "      <td>27</td>\n",
       "      <td>5</td>\n",
       "      <td>1</td>\n",
       "      <td>0</td>\n",
       "      <td>0</td>\n",
       "      <td>0</td>\n",
       "      <td>1</td>\n",
       "      <td>0</td>\n",
       "    </tr>\n",
       "    <tr>\n",
       "      <th>10</th>\n",
       "      <td>28</td>\n",
       "      <td>10</td>\n",
       "      <td>0</td>\n",
       "      <td>0</td>\n",
       "      <td>1</td>\n",
       "      <td>0</td>\n",
       "      <td>0</td>\n",
       "      <td>1</td>\n",
       "    </tr>\n",
       "    <tr>\n",
       "      <th>11</th>\n",
       "      <td>29</td>\n",
       "      <td>10</td>\n",
       "      <td>0</td>\n",
       "      <td>1</td>\n",
       "      <td>0</td>\n",
       "      <td>1</td>\n",
       "      <td>0</td>\n",
       "      <td>0</td>\n",
       "    </tr>\n",
       "    <tr>\n",
       "      <th>12</th>\n",
       "      <td>30</td>\n",
       "      <td>10</td>\n",
       "      <td>1</td>\n",
       "      <td>0</td>\n",
       "      <td>0</td>\n",
       "      <td>1</td>\n",
       "      <td>0</td>\n",
       "      <td>0</td>\n",
       "    </tr>\n",
       "    <tr>\n",
       "      <th>13</th>\n",
       "      <td>31</td>\n",
       "      <td>10</td>\n",
       "      <td>0</td>\n",
       "      <td>0</td>\n",
       "      <td>1</td>\n",
       "      <td>0</td>\n",
       "      <td>1</td>\n",
       "      <td>0</td>\n",
       "    </tr>\n",
       "    <tr>\n",
       "      <th>14</th>\n",
       "      <td>32</td>\n",
       "      <td>10</td>\n",
       "      <td>0</td>\n",
       "      <td>1</td>\n",
       "      <td>0</td>\n",
       "      <td>0</td>\n",
       "      <td>0</td>\n",
       "      <td>1</td>\n",
       "    </tr>\n",
       "    <tr>\n",
       "      <th>15</th>\n",
       "      <td>33</td>\n",
       "      <td>10</td>\n",
       "      <td>1</td>\n",
       "      <td>0</td>\n",
       "      <td>0</td>\n",
       "      <td>0</td>\n",
       "      <td>0</td>\n",
       "      <td>1</td>\n",
       "    </tr>\n",
       "    <tr>\n",
       "      <th>16</th>\n",
       "      <td>34</td>\n",
       "      <td>10</td>\n",
       "      <td>0</td>\n",
       "      <td>0</td>\n",
       "      <td>1</td>\n",
       "      <td>1</td>\n",
       "      <td>0</td>\n",
       "      <td>0</td>\n",
       "    </tr>\n",
       "    <tr>\n",
       "      <th>17</th>\n",
       "      <td>35</td>\n",
       "      <td>10</td>\n",
       "      <td>0</td>\n",
       "      <td>1</td>\n",
       "      <td>0</td>\n",
       "      <td>0</td>\n",
       "      <td>1</td>\n",
       "      <td>0</td>\n",
       "    </tr>\n",
       "    <tr>\n",
       "      <th>18</th>\n",
       "      <td>36</td>\n",
       "      <td>10</td>\n",
       "      <td>1</td>\n",
       "      <td>0</td>\n",
       "      <td>0</td>\n",
       "      <td>0</td>\n",
       "      <td>1</td>\n",
       "      <td>0</td>\n",
       "    </tr>\n",
       "    <tr>\n",
       "      <th>19</th>\n",
       "      <td>37</td>\n",
       "      <td>10</td>\n",
       "      <td>0</td>\n",
       "      <td>0</td>\n",
       "      <td>1</td>\n",
       "      <td>0</td>\n",
       "      <td>0</td>\n",
       "      <td>1</td>\n",
       "    </tr>\n",
       "    <tr>\n",
       "      <th>20</th>\n",
       "      <td>38</td>\n",
       "      <td>15</td>\n",
       "      <td>0</td>\n",
       "      <td>1</td>\n",
       "      <td>0</td>\n",
       "      <td>1</td>\n",
       "      <td>0</td>\n",
       "      <td>0</td>\n",
       "    </tr>\n",
       "    <tr>\n",
       "      <th>21</th>\n",
       "      <td>39</td>\n",
       "      <td>15</td>\n",
       "      <td>1</td>\n",
       "      <td>0</td>\n",
       "      <td>0</td>\n",
       "      <td>1</td>\n",
       "      <td>0</td>\n",
       "      <td>0</td>\n",
       "    </tr>\n",
       "    <tr>\n",
       "      <th>22</th>\n",
       "      <td>40</td>\n",
       "      <td>15</td>\n",
       "      <td>0</td>\n",
       "      <td>0</td>\n",
       "      <td>1</td>\n",
       "      <td>0</td>\n",
       "      <td>1</td>\n",
       "      <td>0</td>\n",
       "    </tr>\n",
       "    <tr>\n",
       "      <th>23</th>\n",
       "      <td>41</td>\n",
       "      <td>15</td>\n",
       "      <td>0</td>\n",
       "      <td>1</td>\n",
       "      <td>0</td>\n",
       "      <td>0</td>\n",
       "      <td>0</td>\n",
       "      <td>1</td>\n",
       "    </tr>\n",
       "    <tr>\n",
       "      <th>24</th>\n",
       "      <td>42</td>\n",
       "      <td>15</td>\n",
       "      <td>1</td>\n",
       "      <td>0</td>\n",
       "      <td>0</td>\n",
       "      <td>0</td>\n",
       "      <td>0</td>\n",
       "      <td>1</td>\n",
       "    </tr>\n",
       "    <tr>\n",
       "      <th>25</th>\n",
       "      <td>43</td>\n",
       "      <td>15</td>\n",
       "      <td>0</td>\n",
       "      <td>0</td>\n",
       "      <td>1</td>\n",
       "      <td>1</td>\n",
       "      <td>0</td>\n",
       "      <td>0</td>\n",
       "    </tr>\n",
       "    <tr>\n",
       "      <th>26</th>\n",
       "      <td>44</td>\n",
       "      <td>15</td>\n",
       "      <td>0</td>\n",
       "      <td>1</td>\n",
       "      <td>0</td>\n",
       "      <td>0</td>\n",
       "      <td>1</td>\n",
       "      <td>0</td>\n",
       "    </tr>\n",
       "    <tr>\n",
       "      <th>27</th>\n",
       "      <td>45</td>\n",
       "      <td>15</td>\n",
       "      <td>1</td>\n",
       "      <td>0</td>\n",
       "      <td>0</td>\n",
       "      <td>0</td>\n",
       "      <td>1</td>\n",
       "      <td>0</td>\n",
       "    </tr>\n",
       "    <tr>\n",
       "      <th>28</th>\n",
       "      <td>46</td>\n",
       "      <td>15</td>\n",
       "      <td>0</td>\n",
       "      <td>0</td>\n",
       "      <td>1</td>\n",
       "      <td>0</td>\n",
       "      <td>0</td>\n",
       "      <td>1</td>\n",
       "    </tr>\n",
       "    <tr>\n",
       "      <th>29</th>\n",
       "      <td>47</td>\n",
       "      <td>15</td>\n",
       "      <td>0</td>\n",
       "      <td>1</td>\n",
       "      <td>0</td>\n",
       "      <td>1</td>\n",
       "      <td>0</td>\n",
       "      <td>0</td>\n",
       "    </tr>\n",
       "  </tbody>\n",
       "</table>\n",
       "</div>"
      ],
      "text/plain": [
       "    Leeftijd  AantalJaarRijbewijs  Woonplaats_Amsterdam  Woonplaats_Eindhoven  \\\n",
       "0         18                    1                     1                     0   \n",
       "1         19                    1                     0                     0   \n",
       "2         20                    1                     0                     1   \n",
       "3         21                    1                     1                     0   \n",
       "4         22                    1                     0                     0   \n",
       "5         23                    5                     0                     1   \n",
       "6         24                    5                     1                     0   \n",
       "7         25                    5                     0                     0   \n",
       "8         26                    5                     0                     1   \n",
       "9         27                    5                     1                     0   \n",
       "10        28                   10                     0                     0   \n",
       "11        29                   10                     0                     1   \n",
       "12        30                   10                     1                     0   \n",
       "13        31                   10                     0                     0   \n",
       "14        32                   10                     0                     1   \n",
       "15        33                   10                     1                     0   \n",
       "16        34                   10                     0                     0   \n",
       "17        35                   10                     0                     1   \n",
       "18        36                   10                     1                     0   \n",
       "19        37                   10                     0                     0   \n",
       "20        38                   15                     0                     1   \n",
       "21        39                   15                     1                     0   \n",
       "22        40                   15                     0                     0   \n",
       "23        41                   15                     0                     1   \n",
       "24        42                   15                     1                     0   \n",
       "25        43                   15                     0                     0   \n",
       "26        44                   15                     0                     1   \n",
       "27        45                   15                     1                     0   \n",
       "28        46                   15                     0                     0   \n",
       "29        47                   15                     0                     1   \n",
       "\n",
       "    Woonplaats_Utrecht  KleurAuto_Blauw  KleurAuto_Rood  KleurAuto_Zwart  \n",
       "0                    0                0               1                0  \n",
       "1                    1                0               0                1  \n",
       "2                    0                1               0                0  \n",
       "3                    0                1               0                0  \n",
       "4                    1                0               1                0  \n",
       "5                    0                0               0                1  \n",
       "6                    0                0               0                1  \n",
       "7                    1                1               0                0  \n",
       "8                    0                0               1                0  \n",
       "9                    0                0               1                0  \n",
       "10                   1                0               0                1  \n",
       "11                   0                1               0                0  \n",
       "12                   0                1               0                0  \n",
       "13                   1                0               1                0  \n",
       "14                   0                0               0                1  \n",
       "15                   0                0               0                1  \n",
       "16                   1                1               0                0  \n",
       "17                   0                0               1                0  \n",
       "18                   0                0               1                0  \n",
       "19                   1                0               0                1  \n",
       "20                   0                1               0                0  \n",
       "21                   0                1               0                0  \n",
       "22                   1                0               1                0  \n",
       "23                   0                0               0                1  \n",
       "24                   0                0               0                1  \n",
       "25                   1                1               0                0  \n",
       "26                   0                0               1                0  \n",
       "27                   0                0               1                0  \n",
       "28                   1                0               0                1  \n",
       "29                   0                1               0                0  "
      ]
     },
     "execution_count": 10,
     "metadata": {},
     "output_type": "execute_result"
    }
   ],
   "source": [
    "#Zo ziet ons nieuwe dataframe eruit. Bestudeer zelf goed of je begrijpt wat er veranderd is.\n",
    "X"
   ]
  },
  {
   "cell_type": "markdown",
   "metadata": {},
   "source": [
    "Merk ook op dat we enkel de kolommen over hebben gehouden met klantgegevens die bij inschrijving bekend zijn, dit zijn namelijk de gegevens die we willen gebruiken om de voorspelling te doen. Dit noemen we ook wel de predictoren of de onafhankelijke variabelen.\n",
    "\n",
    "De kolom 'SchadeAfgelopenJaar' hebben we eruit gelaten, dat is namelijk het gegeven dat we willen voorspellen. De zogenoemde target-variabele of afhankelijke variabele. Gebruikelijk is om deze target-variabele toe te wijzen aan een variabele genaamd y."
   ]
  },
  {
   "cell_type": "code",
   "execution_count": 11,
   "metadata": {},
   "outputs": [],
   "source": [
    "y = df[['SchadeAfgelopenJaar']]"
   ]
  },
  {
   "cell_type": "markdown",
   "metadata": {},
   "source": [
    "Nu zijn we bijna klaar om de beslisboom te maken. Maar voordat we dat doen gaan we eerst een paar rijen uit de dataset halen. Deze kunnen we dan als we de beslisboom gemaakt hebben gebruiken om te controleren of de beslisboom voor deze klanten tot de juiste conclusie zou zijn gekomen.\n",
    "Het dataframe dat we gaan gebruiken om de beslisboom te maken noemen we de *train set*, de data die we gebruiken voor controle noemen we de *test set*."
   ]
  },
  {
   "cell_type": "code",
   "execution_count": 12,
   "metadata": {},
   "outputs": [
    {
     "data": {
      "text/plain": [
       "array([17,  6, 28, 19,  9, 21])"
      ]
     },
     "execution_count": 12,
     "metadata": {},
     "output_type": "execute_result"
    }
   ],
   "source": [
    "#We gebruiken numpy om random integers te genereren op basis waarvan we de rijen voor de test set selecteren.\n",
    "import numpy as np\n",
    "test_index = np.random.randint(0,30,size = 6)\n",
    "test_index"
   ]
  },
  {
   "cell_type": "code",
   "execution_count": 13,
   "metadata": {},
   "outputs": [],
   "source": [
    "#We gebruiken test_index om de train en de test set te genereren\n",
    "X_test = X.iloc[test_index]\n",
    "y_test = y.iloc[test_index]\n",
    "\n",
    "X_train = X.drop(test_index)\n",
    "y_train = y.drop(test_index)"
   ]
  },
  {
   "cell_type": "code",
   "execution_count": 14,
   "metadata": {},
   "outputs": [
    {
     "data": {
      "text/html": [
       "<div>\n",
       "<style scoped>\n",
       "    .dataframe tbody tr th:only-of-type {\n",
       "        vertical-align: middle;\n",
       "    }\n",
       "\n",
       "    .dataframe tbody tr th {\n",
       "        vertical-align: top;\n",
       "    }\n",
       "\n",
       "    .dataframe thead th {\n",
       "        text-align: right;\n",
       "    }\n",
       "</style>\n",
       "<table border=\"1\" class=\"dataframe\">\n",
       "  <thead>\n",
       "    <tr style=\"text-align: right;\">\n",
       "      <th></th>\n",
       "      <th>Leeftijd</th>\n",
       "      <th>AantalJaarRijbewijs</th>\n",
       "      <th>Woonplaats_Amsterdam</th>\n",
       "      <th>Woonplaats_Eindhoven</th>\n",
       "      <th>Woonplaats_Utrecht</th>\n",
       "      <th>KleurAuto_Blauw</th>\n",
       "      <th>KleurAuto_Rood</th>\n",
       "      <th>KleurAuto_Zwart</th>\n",
       "    </tr>\n",
       "  </thead>\n",
       "  <tbody>\n",
       "    <tr>\n",
       "      <th>17</th>\n",
       "      <td>35</td>\n",
       "      <td>10</td>\n",
       "      <td>0</td>\n",
       "      <td>1</td>\n",
       "      <td>0</td>\n",
       "      <td>0</td>\n",
       "      <td>1</td>\n",
       "      <td>0</td>\n",
       "    </tr>\n",
       "    <tr>\n",
       "      <th>6</th>\n",
       "      <td>24</td>\n",
       "      <td>5</td>\n",
       "      <td>1</td>\n",
       "      <td>0</td>\n",
       "      <td>0</td>\n",
       "      <td>0</td>\n",
       "      <td>0</td>\n",
       "      <td>1</td>\n",
       "    </tr>\n",
       "    <tr>\n",
       "      <th>28</th>\n",
       "      <td>46</td>\n",
       "      <td>15</td>\n",
       "      <td>0</td>\n",
       "      <td>0</td>\n",
       "      <td>1</td>\n",
       "      <td>0</td>\n",
       "      <td>0</td>\n",
       "      <td>1</td>\n",
       "    </tr>\n",
       "    <tr>\n",
       "      <th>19</th>\n",
       "      <td>37</td>\n",
       "      <td>10</td>\n",
       "      <td>0</td>\n",
       "      <td>0</td>\n",
       "      <td>1</td>\n",
       "      <td>0</td>\n",
       "      <td>0</td>\n",
       "      <td>1</td>\n",
       "    </tr>\n",
       "    <tr>\n",
       "      <th>9</th>\n",
       "      <td>27</td>\n",
       "      <td>5</td>\n",
       "      <td>1</td>\n",
       "      <td>0</td>\n",
       "      <td>0</td>\n",
       "      <td>0</td>\n",
       "      <td>1</td>\n",
       "      <td>0</td>\n",
       "    </tr>\n",
       "    <tr>\n",
       "      <th>21</th>\n",
       "      <td>39</td>\n",
       "      <td>15</td>\n",
       "      <td>1</td>\n",
       "      <td>0</td>\n",
       "      <td>0</td>\n",
       "      <td>1</td>\n",
       "      <td>0</td>\n",
       "      <td>0</td>\n",
       "    </tr>\n",
       "  </tbody>\n",
       "</table>\n",
       "</div>"
      ],
      "text/plain": [
       "    Leeftijd  AantalJaarRijbewijs  Woonplaats_Amsterdam  Woonplaats_Eindhoven  \\\n",
       "17        35                   10                     0                     1   \n",
       "6         24                    5                     1                     0   \n",
       "28        46                   15                     0                     0   \n",
       "19        37                   10                     0                     0   \n",
       "9         27                    5                     1                     0   \n",
       "21        39                   15                     1                     0   \n",
       "\n",
       "    Woonplaats_Utrecht  KleurAuto_Blauw  KleurAuto_Rood  KleurAuto_Zwart  \n",
       "17                   0                0               1                0  \n",
       "6                    0                0               0                1  \n",
       "28                   1                0               0                1  \n",
       "19                   1                0               0                1  \n",
       "9                    0                0               1                0  \n",
       "21                   0                1               0                0  "
      ]
     },
     "execution_count": 14,
     "metadata": {},
     "output_type": "execute_result"
    }
   ],
   "source": [
    "#bekijk de dataframes om te zien of het goed is gegaan (controleer zelf eventueel de anderen)\n",
    "X_test"
   ]
  },
  {
   "cell_type": "markdown",
   "metadata": {},
   "source": [
    "## Modelleren"
   ]
  },
  {
   "cell_type": "markdown",
   "metadata": {},
   "source": [
    "Nu zijn we helemaal klaar voor het maken van de beslisboom. "
   ]
  },
  {
   "cell_type": "code",
   "execution_count": 15,
   "metadata": {},
   "outputs": [],
   "source": [
    "#importeer het juiste package\n",
    "from sklearn import tree"
   ]
  },
  {
   "cell_type": "code",
   "execution_count": 16,
   "metadata": {},
   "outputs": [
    {
     "data": {
      "text/html": [
       "<style>#sk-container-id-1 {color: black;background-color: white;}#sk-container-id-1 pre{padding: 0;}#sk-container-id-1 div.sk-toggleable {background-color: white;}#sk-container-id-1 label.sk-toggleable__label {cursor: pointer;display: block;width: 100%;margin-bottom: 0;padding: 0.3em;box-sizing: border-box;text-align: center;}#sk-container-id-1 label.sk-toggleable__label-arrow:before {content: \"▸\";float: left;margin-right: 0.25em;color: #696969;}#sk-container-id-1 label.sk-toggleable__label-arrow:hover:before {color: black;}#sk-container-id-1 div.sk-estimator:hover label.sk-toggleable__label-arrow:before {color: black;}#sk-container-id-1 div.sk-toggleable__content {max-height: 0;max-width: 0;overflow: hidden;text-align: left;background-color: #f0f8ff;}#sk-container-id-1 div.sk-toggleable__content pre {margin: 0.2em;color: black;border-radius: 0.25em;background-color: #f0f8ff;}#sk-container-id-1 input.sk-toggleable__control:checked~div.sk-toggleable__content {max-height: 200px;max-width: 100%;overflow: auto;}#sk-container-id-1 input.sk-toggleable__control:checked~label.sk-toggleable__label-arrow:before {content: \"▾\";}#sk-container-id-1 div.sk-estimator input.sk-toggleable__control:checked~label.sk-toggleable__label {background-color: #d4ebff;}#sk-container-id-1 div.sk-label input.sk-toggleable__control:checked~label.sk-toggleable__label {background-color: #d4ebff;}#sk-container-id-1 input.sk-hidden--visually {border: 0;clip: rect(1px 1px 1px 1px);clip: rect(1px, 1px, 1px, 1px);height: 1px;margin: -1px;overflow: hidden;padding: 0;position: absolute;width: 1px;}#sk-container-id-1 div.sk-estimator {font-family: monospace;background-color: #f0f8ff;border: 1px dotted black;border-radius: 0.25em;box-sizing: border-box;margin-bottom: 0.5em;}#sk-container-id-1 div.sk-estimator:hover {background-color: #d4ebff;}#sk-container-id-1 div.sk-parallel-item::after {content: \"\";width: 100%;border-bottom: 1px solid gray;flex-grow: 1;}#sk-container-id-1 div.sk-label:hover label.sk-toggleable__label {background-color: #d4ebff;}#sk-container-id-1 div.sk-serial::before {content: \"\";position: absolute;border-left: 1px solid gray;box-sizing: border-box;top: 0;bottom: 0;left: 50%;z-index: 0;}#sk-container-id-1 div.sk-serial {display: flex;flex-direction: column;align-items: center;background-color: white;padding-right: 0.2em;padding-left: 0.2em;position: relative;}#sk-container-id-1 div.sk-item {position: relative;z-index: 1;}#sk-container-id-1 div.sk-parallel {display: flex;align-items: stretch;justify-content: center;background-color: white;position: relative;}#sk-container-id-1 div.sk-item::before, #sk-container-id-1 div.sk-parallel-item::before {content: \"\";position: absolute;border-left: 1px solid gray;box-sizing: border-box;top: 0;bottom: 0;left: 50%;z-index: -1;}#sk-container-id-1 div.sk-parallel-item {display: flex;flex-direction: column;z-index: 1;position: relative;background-color: white;}#sk-container-id-1 div.sk-parallel-item:first-child::after {align-self: flex-end;width: 50%;}#sk-container-id-1 div.sk-parallel-item:last-child::after {align-self: flex-start;width: 50%;}#sk-container-id-1 div.sk-parallel-item:only-child::after {width: 0;}#sk-container-id-1 div.sk-dashed-wrapped {border: 1px dashed gray;margin: 0 0.4em 0.5em 0.4em;box-sizing: border-box;padding-bottom: 0.4em;background-color: white;}#sk-container-id-1 div.sk-label label {font-family: monospace;font-weight: bold;display: inline-block;line-height: 1.2em;}#sk-container-id-1 div.sk-label-container {text-align: center;}#sk-container-id-1 div.sk-container {/* jupyter's `normalize.less` sets `[hidden] { display: none; }` but bootstrap.min.css set `[hidden] { display: none !important; }` so we also need the `!important` here to be able to override the default hidden behavior on the sphinx rendered scikit-learn.org. See: https://github.com/scikit-learn/scikit-learn/issues/21755 */display: inline-block !important;position: relative;}#sk-container-id-1 div.sk-text-repr-fallback {display: none;}</style><div id=\"sk-container-id-1\" class=\"sk-top-container\"><div class=\"sk-text-repr-fallback\"><pre>DecisionTreeClassifier()</pre><b>In a Jupyter environment, please rerun this cell to show the HTML representation or trust the notebook. <br />On GitHub, the HTML representation is unable to render, please try loading this page with nbviewer.org.</b></div><div class=\"sk-container\" hidden><div class=\"sk-item\"><div class=\"sk-estimator sk-toggleable\"><input class=\"sk-toggleable__control sk-hidden--visually\" id=\"sk-estimator-id-1\" type=\"checkbox\" checked><label for=\"sk-estimator-id-1\" class=\"sk-toggleable__label sk-toggleable__label-arrow\">DecisionTreeClassifier</label><div class=\"sk-toggleable__content\"><pre>DecisionTreeClassifier()</pre></div></div></div></div></div>"
      ],
      "text/plain": [
       "DecisionTreeClassifier()"
      ]
     },
     "execution_count": 16,
     "metadata": {},
     "output_type": "execute_result"
    }
   ],
   "source": [
    "#generereer een Decision Tree Classifier\n",
    "clf = tree.DecisionTreeClassifier()\n",
    "#train de classifier op de train en test set met behulp van de .fit method\n",
    "clf.fit(X_train,y_train)"
   ]
  },
  {
   "cell_type": "markdown",
   "metadata": {},
   "source": [
    "## Evaluatie"
   ]
  },
  {
   "cell_type": "markdown",
   "metadata": {},
   "source": [
    "De beslisboom is nu gegenereerd, maar dit geeft ons nog weinig informatie. Laten we eens kijken wat deze beslisboom voor voorspelling zou doen op onze test set."
   ]
  },
  {
   "cell_type": "markdown",
   "metadata": {},
   "source": [
    "Eerst maar eens kijken hoe de eerste rij van de test set eruit ziet:"
   ]
  },
  {
   "cell_type": "code",
   "execution_count": 17,
   "metadata": {},
   "outputs": [
    {
     "data": {
      "text/html": [
       "<div>\n",
       "<style scoped>\n",
       "    .dataframe tbody tr th:only-of-type {\n",
       "        vertical-align: middle;\n",
       "    }\n",
       "\n",
       "    .dataframe tbody tr th {\n",
       "        vertical-align: top;\n",
       "    }\n",
       "\n",
       "    .dataframe thead th {\n",
       "        text-align: right;\n",
       "    }\n",
       "</style>\n",
       "<table border=\"1\" class=\"dataframe\">\n",
       "  <thead>\n",
       "    <tr style=\"text-align: right;\">\n",
       "      <th></th>\n",
       "      <th>Leeftijd</th>\n",
       "      <th>AantalJaarRijbewijs</th>\n",
       "      <th>Woonplaats_Amsterdam</th>\n",
       "      <th>Woonplaats_Eindhoven</th>\n",
       "      <th>Woonplaats_Utrecht</th>\n",
       "      <th>KleurAuto_Blauw</th>\n",
       "      <th>KleurAuto_Rood</th>\n",
       "      <th>KleurAuto_Zwart</th>\n",
       "    </tr>\n",
       "  </thead>\n",
       "  <tbody>\n",
       "    <tr>\n",
       "      <th>17</th>\n",
       "      <td>35</td>\n",
       "      <td>10</td>\n",
       "      <td>0</td>\n",
       "      <td>1</td>\n",
       "      <td>0</td>\n",
       "      <td>0</td>\n",
       "      <td>1</td>\n",
       "      <td>0</td>\n",
       "    </tr>\n",
       "  </tbody>\n",
       "</table>\n",
       "</div>"
      ],
      "text/plain": [
       "    Leeftijd  AantalJaarRijbewijs  Woonplaats_Amsterdam  Woonplaats_Eindhoven  \\\n",
       "17        35                   10                     0                     1   \n",
       "\n",
       "    Woonplaats_Utrecht  KleurAuto_Blauw  KleurAuto_Rood  KleurAuto_Zwart  \n",
       "17                   0                0               1                0  "
      ]
     },
     "execution_count": 17,
     "metadata": {},
     "output_type": "execute_result"
    }
   ],
   "source": [
    "X_test.iloc[[0]]"
   ]
  },
  {
   "cell_type": "code",
   "execution_count": 18,
   "metadata": {},
   "outputs": [
    {
     "data": {
      "text/plain": [
       "array(['Ja'], dtype=object)"
      ]
     },
     "execution_count": 18,
     "metadata": {},
     "output_type": "execute_result"
    }
   ],
   "source": [
    "clf.predict(X_test.iloc[[0]])"
   ]
  },
  {
   "cell_type": "markdown",
   "metadata": {},
   "source": [
    "We zien hier dat de beslisboom voor deze klant voorspelt dat hij in de hoog risico-groep zou vallen. Eens kijken of hij ook echt schade gereden heeft:"
   ]
  },
  {
   "cell_type": "code",
   "execution_count": 19,
   "metadata": {},
   "outputs": [
    {
     "data": {
      "text/html": [
       "<div>\n",
       "<style scoped>\n",
       "    .dataframe tbody tr th:only-of-type {\n",
       "        vertical-align: middle;\n",
       "    }\n",
       "\n",
       "    .dataframe tbody tr th {\n",
       "        vertical-align: top;\n",
       "    }\n",
       "\n",
       "    .dataframe thead th {\n",
       "        text-align: right;\n",
       "    }\n",
       "</style>\n",
       "<table border=\"1\" class=\"dataframe\">\n",
       "  <thead>\n",
       "    <tr style=\"text-align: right;\">\n",
       "      <th></th>\n",
       "      <th>SchadeAfgelopenJaar</th>\n",
       "    </tr>\n",
       "  </thead>\n",
       "  <tbody>\n",
       "    <tr>\n",
       "      <th>17</th>\n",
       "      <td>Ja</td>\n",
       "    </tr>\n",
       "  </tbody>\n",
       "</table>\n",
       "</div>"
      ],
      "text/plain": [
       "   SchadeAfgelopenJaar\n",
       "17                  Ja"
      ]
     },
     "execution_count": 19,
     "metadata": {},
     "output_type": "execute_result"
    }
   ],
   "source": [
    "y_test.iloc[[0]]"
   ]
  },
  {
   "cell_type": "markdown",
   "metadata": {},
   "source": [
    "Dit is dus goed voorpeld!"
   ]
  },
  {
   "cell_type": "code",
   "execution_count": 20,
   "metadata": {},
   "outputs": [
    {
     "name": "stdout",
     "output_type": "stream",
     "text": [
      "Bekijk rij nummer 0\n",
      "Voorspelling voor deze klant: ['Ja']\n",
      "Werkelijke waarde voor deze klant: Ja\n",
      "\n",
      "Bekijk rij nummer 1\n",
      "Voorspelling voor deze klant: ['Ja']\n",
      "Werkelijke waarde voor deze klant: Ja\n",
      "\n",
      "Bekijk rij nummer 2\n",
      "Voorspelling voor deze klant: ['Nee']\n",
      "Werkelijke waarde voor deze klant: Nee\n",
      "\n",
      "Bekijk rij nummer 3\n",
      "Voorspelling voor deze klant: ['Nee']\n",
      "Werkelijke waarde voor deze klant: Nee\n",
      "\n",
      "Bekijk rij nummer 4\n",
      "Voorspelling voor deze klant: ['Ja']\n",
      "Werkelijke waarde voor deze klant: Ja\n",
      "\n",
      "Bekijk rij nummer 5\n",
      "Voorspelling voor deze klant: ['Ja']\n",
      "Werkelijke waarde voor deze klant: Ja\n",
      "\n"
     ]
    }
   ],
   "source": [
    "#En voor de volgende klanten in de testset?\n",
    "for i in range(0, X_test.shape[0]):\n",
    "    print('Bekijk rij nummer {}'.format(i))\n",
    "    print('Voorspelling voor deze klant: {}'.format(clf.predict(X_test.iloc[[i]])))\n",
    "    print('Werkelijke waarde voor deze klant: {}'.format(y_test['SchadeAfgelopenJaar'].iloc[i]))\n",
    "    print('')"
   ]
  },
  {
   "cell_type": "markdown",
   "metadata": {},
   "source": [
    "Vind je dat deze beslisboom goede voorspellingen doet?"
   ]
  },
  {
   "cell_type": "markdown",
   "metadata": {},
   "source": [
    "Om een beter beeld te krijgen waarop de beslissingen gebaseerd kunnen we de beslisboom visualiseren. Bekijk goed hoe de beslissing gemaakt wordt en kijk ook eens of je op basis hiervan kunt verklaren waarom een van de klanten in de test set het verkeerde label kreeg."
   ]
  },
  {
   "cell_type": "code",
   "execution_count": 21,
   "metadata": {},
   "outputs": [
    {
     "data": {
      "text/plain": [
       "[Text(0.4444444444444444, 0.9166666666666666, 'Woonplaats_Amsterdam <= 0.5\\ngini = 0.469\\nsamples = 24\\nvalue = [9, 15]\\nclass = Ja'),\n",
       " Text(0.2222222222222222, 0.75, 'KleurAuto_Rood <= 0.5\\ngini = 0.291\\nsamples = 17\\nvalue = [3, 14]\\nclass = Ja'),\n",
       " Text(0.1111111111111111, 0.5833333333333334, 'gini = 0.0\\nsamples = 12\\nvalue = [0, 12]\\nclass = Ja'),\n",
       " Text(0.3333333333333333, 0.5833333333333334, 'Woonplaats_Utrecht <= 0.5\\ngini = 0.48\\nsamples = 5\\nvalue = [3, 2]\\nclass = Nee'),\n",
       " Text(0.2222222222222222, 0.4166666666666667, 'gini = 0.0\\nsamples = 2\\nvalue = [2, 0]\\nclass = Nee'),\n",
       " Text(0.4444444444444444, 0.4166666666666667, 'Leeftijd <= 26.5\\ngini = 0.444\\nsamples = 3\\nvalue = [1, 2]\\nclass = Ja'),\n",
       " Text(0.3333333333333333, 0.25, 'gini = 0.0\\nsamples = 1\\nvalue = [0, 1]\\nclass = Ja'),\n",
       " Text(0.5555555555555556, 0.25, 'AantalJaarRijbewijs <= 12.5\\ngini = 0.5\\nsamples = 2\\nvalue = [1, 1]\\nclass = Nee'),\n",
       " Text(0.4444444444444444, 0.08333333333333333, 'gini = 0.0\\nsamples = 1\\nvalue = [1, 0]\\nclass = Nee'),\n",
       " Text(0.6666666666666666, 0.08333333333333333, 'gini = 0.0\\nsamples = 1\\nvalue = [0, 1]\\nclass = Ja'),\n",
       " Text(0.6666666666666666, 0.75, 'KleurAuto_Zwart <= 0.5\\ngini = 0.245\\nsamples = 7\\nvalue = [6, 1]\\nclass = Nee'),\n",
       " Text(0.5555555555555556, 0.5833333333333334, 'gini = 0.0\\nsamples = 5\\nvalue = [5, 0]\\nclass = Nee'),\n",
       " Text(0.7777777777777778, 0.5833333333333334, 'AantalJaarRijbewijs <= 12.5\\ngini = 0.5\\nsamples = 2\\nvalue = [1, 1]\\nclass = Nee'),\n",
       " Text(0.6666666666666666, 0.4166666666666667, 'gini = 0.0\\nsamples = 1\\nvalue = [1, 0]\\nclass = Nee'),\n",
       " Text(0.8888888888888888, 0.4166666666666667, 'gini = 0.0\\nsamples = 1\\nvalue = [0, 1]\\nclass = Ja')]"
      ]
     },
     "execution_count": 21,
     "metadata": {},
     "output_type": "execute_result"
    },
    {
     "data": {
      "image/png": "[encoded data removed]",
      "text/plain": [
       "<Figure size 864x432 with 1 Axes>"
      ]
     },
     "metadata": {
      "needs_background": "light"
     },
     "output_type": "display_data"
    }
   ],
   "source": [
    "import matplotlib.pyplot as plt\n",
    "plt.figure(figsize=(12,6))\n",
    "tree.plot_tree(clf, feature_names = X.columns, class_names = ['Nee','Ja'], filled = True)"
   ]
  },
  {
   "cell_type": "markdown",
   "metadata": {},
   "source": [
    "<b> Einde </b>"
   ]
  }
 ],
 "metadata": {
  "anaconda-cloud": {},
  "kernelspec": {
   "display_name": "Python 3 (ipykernel)",
   "language": "python",
   "name": "python3"
  },
  "language_info": {
   "codemirror_mode": {
    "name": "ipython",
    "version": 3
   },
   "file_extension": ".py",
   "mimetype": "text/x-python",
   "name": "python",
   "nbconvert_exporter": "python",
   "pygments_lexer": "ipython3",
   "version": "3.9.7"
  }
 },
 "nbformat": 4,
 "nbformat_minor": 4
}
